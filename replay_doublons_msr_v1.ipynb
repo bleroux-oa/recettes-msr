{
 "cells": [
  {
   "cell_type": "markdown",
   "metadata": {},
   "source": [
    "# Gap analysis doublosn MSR"
   ]
  },
  {
   "cell_type": "markdown",
   "metadata": {},
   "source": [
    "## 1. Comparison deleted data vs duplicated data"
   ]
  },
  {
   "cell_type": "markdown",
   "metadata": {},
   "source": [
    "### 1.1. Data linked to a deleted sample"
   ]
  },
  {
   "cell_type": "code",
   "execution_count": 1,
   "metadata": {},
   "outputs": [],
   "source": [
    "# ! pip install requirements.txt"
   ]
  },
  {
   "cell_type": "code",
   "execution_count": 2,
   "metadata": {},
   "outputs": [],
   "source": [
    "import pandas as pd\n",
    "import json\n",
    "from google.cloud import storage\n",
    "from google.cloud import bigquery\n",
    "client = bigquery.Client()"
   ]
  },
  {
   "cell_type": "code",
   "execution_count": 3,
   "metadata": {},
   "outputs": [
    {
     "name": "stdout",
     "output_type": "stream",
     "text": [
      "1921 deletion events\n"
     ]
    },
    {
     "data": {
      "text/html": [
       "<div>\n",
       "<style scoped>\n",
       "    .dataframe tbody tr th:only-of-type {\n",
       "        vertical-align: middle;\n",
       "    }\n",
       "\n",
       "    .dataframe tbody tr th {\n",
       "        vertical-align: top;\n",
       "    }\n",
       "\n",
       "    .dataframe thead th {\n",
       "        text-align: right;\n",
       "    }\n",
       "</style>\n",
       "<table border=\"1\" class=\"dataframe\">\n",
       "  <thead>\n",
       "    <tr style=\"text-align: right;\">\n",
       "      <th></th>\n",
       "      <th>json_blob</th>\n",
       "    </tr>\n",
       "  </thead>\n",
       "  <tbody>\n",
       "    <tr>\n",
       "      <th>0</th>\n",
       "      <td>{\"event_id\":\"5fd517b4-a2dd-4f71-a55a-e90368c8d...</td>\n",
       "    </tr>\n",
       "    <tr>\n",
       "      <th>1</th>\n",
       "      <td>{\"event_id\":\"dc398e44-348b-4994-a794-04e50ff4a...</td>\n",
       "    </tr>\n",
       "    <tr>\n",
       "      <th>2</th>\n",
       "      <td>{\"event_id\":\"ce2f8eda-e8c4-4f08-8f2c-ffd9b27d9...</td>\n",
       "    </tr>\n",
       "    <tr>\n",
       "      <th>3</th>\n",
       "      <td>{\"event_id\":\"c8f1659f-4f3c-4cde-8cd4-6977d2943...</td>\n",
       "    </tr>\n",
       "    <tr>\n",
       "      <th>4</th>\n",
       "      <td>{\"event_id\":\"363e7273-9d07-4491-bbff-3889cb85c...</td>\n",
       "    </tr>\n",
       "  </tbody>\n",
       "</table>\n",
       "</div>"
      ],
      "text/plain": [
       "                                           json_blob\n",
       "0  {\"event_id\":\"5fd517b4-a2dd-4f71-a55a-e90368c8d...\n",
       "1  {\"event_id\":\"dc398e44-348b-4994-a794-04e50ff4a...\n",
       "2  {\"event_id\":\"ce2f8eda-e8c4-4f08-8f2c-ffd9b27d9...\n",
       "3  {\"event_id\":\"c8f1659f-4f3c-4cde-8cd4-6977d2943...\n",
       "4  {\"event_id\":\"363e7273-9d07-4491-bbff-3889cb85c..."
      ]
     },
     "execution_count": 3,
     "metadata": {},
     "output_type": "execute_result"
    }
   ],
   "source": [
    "with open(f\"SQL/get_delete_events.sql\", \"r\") as sql_file:\n",
    "    sql = sql_file.read()\n",
    "\n",
    "query_job = client.query(sql)\n",
    "delete_events = query_job.to_dataframe().drop_duplicates()\n",
    "nb_events, _ = delete_events.shape\n",
    "print(nb_events, 'deletion events')\n",
    "delete_events.head()"
   ]
  },
  {
   "cell_type": "code",
   "execution_count": 4,
   "metadata": {},
   "outputs": [
    {
     "name": "stdout",
     "output_type": "stream",
     "text": [
      "We have 1921 delete events on 1793 samples\n"
     ]
    }
   ],
   "source": [
    "deleted_samples = []\n",
    "dates = []\n",
    "for i in range(nb_events):\n",
    "    event = json.loads(delete_events['json_blob'][i])\n",
    "    deleted_samples.append(str(event['data_key']))\n",
    "    dates.append(event['event_date'])\n",
    "\n",
    "deleted_samples = list(set(deleted_samples))\n",
    "nb_u_samples = len(deleted_samples)\n",
    "print(f\"We have {nb_events} delete events on {nb_u_samples} samples\")"
   ]
  },
  {
   "cell_type": "code",
   "execution_count": 5,
   "metadata": {},
   "outputs": [
    {
     "name": "stdout",
     "output_type": "stream",
     "text": [
      "oldest event : 2024-11-11T07:08:54.142Z\n",
      "newest event : 2025-04-17T10:35:25.407Z\n"
     ]
    }
   ],
   "source": [
    "print(f\"oldest event : {sorted(dates)[0]}\") \n",
    "print(f\"newest event : {sorted(dates)[len(dates)-1]}\") "
   ]
  },
  {
   "cell_type": "code",
   "execution_count": 6,
   "metadata": {},
   "outputs": [
    {
     "data": {
      "text/html": [
       "<div>\n",
       "<style scoped>\n",
       "    .dataframe tbody tr th:only-of-type {\n",
       "        vertical-align: middle;\n",
       "    }\n",
       "\n",
       "    .dataframe tbody tr th {\n",
       "        vertical-align: top;\n",
       "    }\n",
       "\n",
       "    .dataframe thead th {\n",
       "        text-align: right;\n",
       "    }\n",
       "</style>\n",
       "<table border=\"1\" class=\"dataframe\">\n",
       "  <thead>\n",
       "    <tr style=\"text-align: right;\">\n",
       "      <th></th>\n",
       "      <th>ak_key_msr_sample</th>\n",
       "      <th>lkp_key_lma_sample</th>\n",
       "      <th>id_msr_sample</th>\n",
       "      <th>ak_key_msr_test</th>\n",
       "      <th>lkp_lma_test</th>\n",
       "      <th>id_msr_test</th>\n",
       "      <th>ak_key_msr_result</th>\n",
       "      <th>lkp_lma_results</th>\n",
       "      <th>id_msr_result</th>\n",
       "    </tr>\n",
       "  </thead>\n",
       "  <tbody>\n",
       "    <tr>\n",
       "      <th>0</th>\n",
       "      <td>19501</td>\n",
       "      <td>650720</td>\n",
       "      <td>44c9cdbd-5cbd-4ca4-9dc4-0379e3618b64</td>\n",
       "      <td>38278</td>\n",
       "      <td>1438059</td>\n",
       "      <td>9a55f99a-3730-4363-8f23-ac929e0cd3f0</td>\n",
       "      <td>72987</td>\n",
       "      <td>47874974</td>\n",
       "      <td>0f2a6273-6c7d-47c3-aebe-ac93a880f35f</td>\n",
       "    </tr>\n",
       "    <tr>\n",
       "      <th>1</th>\n",
       "      <td>19378</td>\n",
       "      <td>803581</td>\n",
       "      <td>1bda9b66-beec-4b73-a6fd-640f21f65ba2</td>\n",
       "      <td>37928</td>\n",
       "      <td>1562176</td>\n",
       "      <td>02b8a035-96c7-4979-ba1a-2f156e3400ae</td>\n",
       "      <td>71359</td>\n",
       "      <td>53034362</td>\n",
       "      <td>6b2b29be-22f5-4ab0-9648-8e8ddbb2cacf</td>\n",
       "    </tr>\n",
       "    <tr>\n",
       "      <th>2</th>\n",
       "      <td>19501</td>\n",
       "      <td>650720</td>\n",
       "      <td>44c9cdbd-5cbd-4ca4-9dc4-0379e3618b64</td>\n",
       "      <td>38278</td>\n",
       "      <td>1438059</td>\n",
       "      <td>9a55f99a-3730-4363-8f23-ac929e0cd3f0</td>\n",
       "      <td>72990</td>\n",
       "      <td>51310940</td>\n",
       "      <td>4f8e9486-5750-457d-aa1c-47e2a7dfbacc</td>\n",
       "    </tr>\n",
       "    <tr>\n",
       "      <th>3</th>\n",
       "      <td>19378</td>\n",
       "      <td>803581</td>\n",
       "      <td>1bda9b66-beec-4b73-a6fd-640f21f65ba2</td>\n",
       "      <td>37928</td>\n",
       "      <td>1562176</td>\n",
       "      <td>02b8a035-96c7-4979-ba1a-2f156e3400ae</td>\n",
       "      <td>71361</td>\n",
       "      <td>53034361</td>\n",
       "      <td>26e3b172-316c-4fe8-a083-2faa445150cd</td>\n",
       "    </tr>\n",
       "    <tr>\n",
       "      <th>4</th>\n",
       "      <td>19501</td>\n",
       "      <td>650720</td>\n",
       "      <td>44c9cdbd-5cbd-4ca4-9dc4-0379e3618b64</td>\n",
       "      <td>38278</td>\n",
       "      <td>1438059</td>\n",
       "      <td>9a55f99a-3730-4363-8f23-ac929e0cd3f0</td>\n",
       "      <td>72992</td>\n",
       "      <td>47874973</td>\n",
       "      <td>e81c0a53-8860-416a-a908-a237c119fced</td>\n",
       "    </tr>\n",
       "  </tbody>\n",
       "</table>\n",
       "</div>"
      ],
      "text/plain": [
       "  ak_key_msr_sample lkp_key_lma_sample                         id_msr_sample  \\\n",
       "0             19501             650720  44c9cdbd-5cbd-4ca4-9dc4-0379e3618b64   \n",
       "1             19378             803581  1bda9b66-beec-4b73-a6fd-640f21f65ba2   \n",
       "2             19501             650720  44c9cdbd-5cbd-4ca4-9dc4-0379e3618b64   \n",
       "3             19378             803581  1bda9b66-beec-4b73-a6fd-640f21f65ba2   \n",
       "4             19501             650720  44c9cdbd-5cbd-4ca4-9dc4-0379e3618b64   \n",
       "\n",
       "  ak_key_msr_test lkp_lma_test                           id_msr_test  \\\n",
       "0           38278      1438059  9a55f99a-3730-4363-8f23-ac929e0cd3f0   \n",
       "1           37928      1562176  02b8a035-96c7-4979-ba1a-2f156e3400ae   \n",
       "2           38278      1438059  9a55f99a-3730-4363-8f23-ac929e0cd3f0   \n",
       "3           37928      1562176  02b8a035-96c7-4979-ba1a-2f156e3400ae   \n",
       "4           38278      1438059  9a55f99a-3730-4363-8f23-ac929e0cd3f0   \n",
       "\n",
       "  ak_key_msr_result lkp_lma_results                         id_msr_result  \n",
       "0             72987        47874974  0f2a6273-6c7d-47c3-aebe-ac93a880f35f  \n",
       "1             71359        53034362  6b2b29be-22f5-4ab0-9648-8e8ddbb2cacf  \n",
       "2             72990        51310940  4f8e9486-5750-457d-aa1c-47e2a7dfbacc  \n",
       "3             71361        53034361  26e3b172-316c-4fe8-a083-2faa445150cd  \n",
       "4             72992        47874973  e81c0a53-8860-416a-a908-a237c119fced  "
      ]
     },
     "execution_count": 6,
     "metadata": {},
     "output_type": "execute_result"
    }
   ],
   "source": [
    "with open(f\"SQL/dwh_msr/get_sample_test_result.sql\", \"r\") as sql_file:\n",
    "    sql_template = sql_file.read()\n",
    "\n",
    "sql = sql_template.replace(\"{samples}\", str(tuple(deleted_samples)))\n",
    "\n",
    "query_job = client.query(sql)\n",
    "all_data = query_job.to_dataframe().drop_duplicates()\n",
    "all_data.head()"
   ]
  },
  {
   "cell_type": "code",
   "execution_count": 7,
   "metadata": {},
   "outputs": [
    {
     "name": "stdout",
     "output_type": "stream",
     "text": [
      "Number of deleted lma sample : 1248\n",
      "\n",
      "23468 lkp_lma_results in 1342 lkp_lma_test are linked to a deleted sample\n"
     ]
    }
   ],
   "source": [
    "impacted_lma_sample = all_data['lkp_key_lma_sample'].drop_duplicates()\n",
    "print(f\"Number of deleted lma sample : {all_data['lkp_key_lma_sample'].nunique()}\\n\")\n",
    "impacted_lma_test = all_data['lkp_lma_test'].drop_duplicates()\n",
    "impacted_lma_res = all_data['lkp_lma_results'].drop_duplicates()\n",
    "print(f\"{all_data['lkp_lma_results'].nunique()} lkp_lma_results in {all_data['lkp_lma_test'].nunique()} lkp_lma_test are linked to a deleted sample\")"
   ]
  },
  {
   "cell_type": "markdown",
   "metadata": {},
   "source": [
    "### 1.2. Duplicated data in msr dwh"
   ]
  },
  {
   "cell_type": "markdown",
   "metadata": {},
   "source": [
    "#### 1.2.1 Sample"
   ]
  },
  {
   "cell_type": "code",
   "execution_count": 8,
   "metadata": {},
   "outputs": [
    {
     "name": "stdout",
     "output_type": "stream",
     "text": [
      "9760 lkp_lma_sample with several ak_key_msr_sample\n"
     ]
    }
   ],
   "source": [
    "want_to_group_also_by_version = True\n",
    "version = 's.ver_lma_sample,' if want_to_group_also_by_version else ''\n",
    "\n",
    "with open(f\"SQL/dwh_msr/get_duplicated_sample.sql\", \"r\") as sql_file:\n",
    "    sql_template = sql_file.read()\n",
    "\n",
    "sql = sql_template.replace(\"{version}\", version)\n",
    "query_job = client.query(sql)\n",
    "duplicated_samples = query_job.to_dataframe().drop_duplicates()\n",
    "nb_duplicated_sample = duplicated_samples['lkp_key_lma_sample'].nunique()\n",
    "print(nb_duplicated_sample, 'lkp_lma_sample with several ak_key_msr_sample')"
   ]
  },
  {
   "cell_type": "code",
   "execution_count": 9,
   "metadata": {},
   "outputs": [
    {
     "name": "stdout",
     "output_type": "stream",
     "text": [
      "8609 lma_res with several msr_res without any deleted sample\n"
     ]
    },
    {
     "data": {
      "text/html": [
       "<div>\n",
       "<style scoped>\n",
       "    .dataframe tbody tr th:only-of-type {\n",
       "        vertical-align: middle;\n",
       "    }\n",
       "\n",
       "    .dataframe tbody tr th {\n",
       "        vertical-align: top;\n",
       "    }\n",
       "\n",
       "    .dataframe thead th {\n",
       "        text-align: right;\n",
       "    }\n",
       "</style>\n",
       "<table border=\"1\" class=\"dataframe\">\n",
       "  <thead>\n",
       "    <tr style=\"text-align: right;\">\n",
       "      <th></th>\n",
       "      <th>ver_lma_sample</th>\n",
       "      <th>lkp_key_lma_sample</th>\n",
       "      <th>nb_msr_sample</th>\n",
       "    </tr>\n",
       "  </thead>\n",
       "  <tbody>\n",
       "    <tr>\n",
       "      <th>349</th>\n",
       "      <td>4</td>\n",
       "      <td>800486</td>\n",
       "      <td>3</td>\n",
       "    </tr>\n",
       "    <tr>\n",
       "      <th>757</th>\n",
       "      <td>2</td>\n",
       "      <td>753763</td>\n",
       "      <td>3</td>\n",
       "    </tr>\n",
       "    <tr>\n",
       "      <th>1038</th>\n",
       "      <td>2</td>\n",
       "      <td>716653</td>\n",
       "      <td>3</td>\n",
       "    </tr>\n",
       "    <tr>\n",
       "      <th>1077</th>\n",
       "      <td>2</td>\n",
       "      <td>702445</td>\n",
       "      <td>3</td>\n",
       "    </tr>\n",
       "    <tr>\n",
       "      <th>1078</th>\n",
       "      <td>2</td>\n",
       "      <td>593400</td>\n",
       "      <td>3</td>\n",
       "    </tr>\n",
       "  </tbody>\n",
       "</table>\n",
       "</div>"
      ],
      "text/plain": [
       "      ver_lma_sample lkp_key_lma_sample  nb_msr_sample\n",
       "349                4             800486              3\n",
       "757                2             753763              3\n",
       "1038               2             716653              3\n",
       "1077               2             702445              3\n",
       "1078               2             593400              3"
      ]
     },
     "execution_count": 9,
     "metadata": {},
     "output_type": "execute_result"
    }
   ],
   "source": [
    "duplicated_sample_not_deleted = duplicated_samples[~duplicated_samples['lkp_key_lma_sample'].isin(impacted_lma_sample)]\n",
    "print(f\"{duplicated_sample_not_deleted['lkp_key_lma_sample'].nunique()} lma_res with several msr_res without any deleted sample\")\n",
    "duplicated_sample_not_deleted.head()"
   ]
  },
  {
   "cell_type": "code",
   "execution_count": 10,
   "metadata": {},
   "outputs": [
    {
     "name": "stdout",
     "output_type": "stream",
     "text": [
      "1151 lma_sample with several msr_sample with a deleted sample event\n"
     ]
    },
    {
     "data": {
      "text/html": [
       "<div>\n",
       "<style scoped>\n",
       "    .dataframe tbody tr th:only-of-type {\n",
       "        vertical-align: middle;\n",
       "    }\n",
       "\n",
       "    .dataframe tbody tr th {\n",
       "        vertical-align: top;\n",
       "    }\n",
       "\n",
       "    .dataframe thead th {\n",
       "        text-align: right;\n",
       "    }\n",
       "</style>\n",
       "<table border=\"1\" class=\"dataframe\">\n",
       "  <thead>\n",
       "    <tr style=\"text-align: right;\">\n",
       "      <th></th>\n",
       "      <th>ver_lma_sample</th>\n",
       "      <th>lkp_key_lma_sample</th>\n",
       "      <th>nb_msr_sample</th>\n",
       "    </tr>\n",
       "  </thead>\n",
       "  <tbody>\n",
       "    <tr>\n",
       "      <th>0</th>\n",
       "      <td>5</td>\n",
       "      <td>788123</td>\n",
       "      <td>5</td>\n",
       "    </tr>\n",
       "    <tr>\n",
       "      <th>1</th>\n",
       "      <td>2</td>\n",
       "      <td>775644</td>\n",
       "      <td>5</td>\n",
       "    </tr>\n",
       "    <tr>\n",
       "      <th>2</th>\n",
       "      <td>4</td>\n",
       "      <td>783740</td>\n",
       "      <td>4</td>\n",
       "    </tr>\n",
       "    <tr>\n",
       "      <th>3</th>\n",
       "      <td>4</td>\n",
       "      <td>783737</td>\n",
       "      <td>4</td>\n",
       "    </tr>\n",
       "    <tr>\n",
       "      <th>4</th>\n",
       "      <td>4</td>\n",
       "      <td>783736</td>\n",
       "      <td>4</td>\n",
       "    </tr>\n",
       "  </tbody>\n",
       "</table>\n",
       "</div>"
      ],
      "text/plain": [
       "   ver_lma_sample lkp_key_lma_sample  nb_msr_sample\n",
       "0               5             788123              5\n",
       "1               2             775644              5\n",
       "2               4             783740              4\n",
       "3               4             783737              4\n",
       "4               4             783736              4"
      ]
     },
     "execution_count": 10,
     "metadata": {},
     "output_type": "execute_result"
    }
   ],
   "source": [
    "duplicated_sample_w_deleted_sample = duplicated_samples[duplicated_samples['lkp_key_lma_sample'].isin(impacted_lma_sample)]\n",
    "print(f\"{duplicated_sample_w_deleted_sample['lkp_key_lma_sample'].nunique()} lma_sample with several msr_sample with a deleted sample event\")\n",
    "duplicated_sample_w_deleted_sample.head()"
   ]
  },
  {
   "cell_type": "code",
   "execution_count": 11,
   "metadata": {},
   "outputs": [
    {
     "name": "stdout",
     "output_type": "stream",
     "text": [
      "duplicated sample are due to delete events less than 11.79 % of the time\n"
     ]
    }
   ],
   "source": [
    "pc = round(100 * len(duplicated_sample_w_deleted_sample) / nb_duplicated_sample, 2)\n",
    "print(f'duplicated sample are due to delete events less than {pc} % of the time')"
   ]
  },
  {
   "cell_type": "code",
   "execution_count": 12,
   "metadata": {},
   "outputs": [
    {
     "name": "stdout",
     "output_type": "stream",
     "text": [
      "92.23% of deleted sample are duplicated\n"
     ]
    }
   ],
   "source": [
    "pc = round(100 * len(duplicated_sample_w_deleted_sample) / len(impacted_lma_sample), 2)\n",
    "print(f'{pc}% of deleted sample are duplicated')"
   ]
  },
  {
   "cell_type": "code",
   "execution_count": 13,
   "metadata": {},
   "outputs": [
    {
     "name": "stdout",
     "output_type": "stream",
     "text": [
      "example of a lkp_key_msr_sample linked to a deleted ak_key_msr_sample without generate duplication troubles : 650720\n"
     ]
    }
   ],
   "source": [
    "for sample in impacted_lma_sample :\n",
    "    if sample not in duplicated_samples['lkp_key_lma_sample'].to_list():\n",
    "        print('example of a lkp_key_msr_sample linked to a deleted ak_key_msr_sample without generate duplication troubles :', sample  )\n",
    "        break"
   ]
  },
  {
   "cell_type": "markdown",
   "metadata": {},
   "source": [
    "Now list all duplicates associated to a delete and all duplicates not associated to a delete (Ano 1 - Slide 5 : Gap analysis event delete expliquent doublons ?)"
   ]
  },
  {
   "cell_type": "code",
   "execution_count": 14,
   "metadata": {},
   "outputs": [],
   "source": [
    "duplicated_samples_linked_to_delete_event = []\n",
    "for sample in impacted_lma_sample:\n",
    "    if sample in duplicated_samples[\"lkp_key_lma_sample\"].to_list():\n",
    "        duplicated_samples_linked_to_delete_event.append(sample)"
   ]
  },
  {
   "cell_type": "code",
   "execution_count": 15,
   "metadata": {},
   "outputs": [
    {
     "data": {
      "text/plain": [
       "True"
      ]
     },
     "execution_count": 15,
     "metadata": {},
     "output_type": "execute_result"
    }
   ],
   "source": [
    "\"788123\" in duplicated_samples_linked_to_delete_event"
   ]
  },
  {
   "cell_type": "code",
   "execution_count": 16,
   "metadata": {},
   "outputs": [],
   "source": [
    "duplicated_samples_not_linked_to_delete_event = []\n",
    "for sample in duplicated_samples[\"lkp_key_lma_sample\"].to_list():\n",
    "    if sample not in impacted_lma_sample:\n",
    "        duplicated_samples_not_linked_to_delete_event.append(sample)"
   ]
  },
  {
   "cell_type": "code",
   "execution_count": 17,
   "metadata": {},
   "outputs": [
    {
     "data": {
      "text/plain": [
       "True"
      ]
     },
     "execution_count": 17,
     "metadata": {},
     "output_type": "execute_result"
    }
   ],
   "source": [
    "\"800486\" in duplicated_samples_not_linked_to_delete_event"
   ]
  },
  {
   "cell_type": "code",
   "execution_count": 18,
   "metadata": {},
   "outputs": [],
   "source": [
    "def get_df_replay(lkp):\n",
    "    if lkp:\n",
    "        target_lkp_key_lma_sample = f\"AND CAST(s.lkp_key_lma_sample AS STRING) = '{lkp}'\" # Cast the column\n",
    "    else:\n",
    "        target_lkp_key_lma_sample = \"\"\n",
    "\n",
    "    with open(f\"SQL_replay/get_duplicated_samples.sql\", \"r\") as sql_file:\n",
    "        sql_template = sql_file.read()\n",
    "\n",
    "    sql = sql_template.replace(\"{target_lkp_key_lma_sample}\", target_lkp_key_lma_sample)\n",
    "    query_job = client.query(sql)\n",
    "    df_replay = query_job.to_dataframe().drop_duplicates()\n",
    "    return df_replay \n",
    "\n",
    "# \"800486\" in duplicated_samples_not_linked_to_delete_event\n",
    "# \"788123\" in duplicated_samples_linked_to_delete_event\n",
    "df_replay = get_df_replay('788123')"
   ]
  },
  {
   "cell_type": "code",
   "execution_count": 19,
   "metadata": {},
   "outputs": [
    {
     "data": {
      "text/html": [
       "<div>\n",
       "<style scoped>\n",
       "    .dataframe tbody tr th:only-of-type {\n",
       "        vertical-align: middle;\n",
       "    }\n",
       "\n",
       "    .dataframe tbody tr th {\n",
       "        vertical-align: top;\n",
       "    }\n",
       "\n",
       "    .dataframe thead th {\n",
       "        text-align: right;\n",
       "    }\n",
       "</style>\n",
       "<table border=\"1\" class=\"dataframe\">\n",
       "  <thead>\n",
       "    <tr style=\"text-align: right;\">\n",
       "      <th></th>\n",
       "      <th>id_msr_sample</th>\n",
       "      <th>lkp_key_lma_sample</th>\n",
       "      <th>ver_lma_sample</th>\n",
       "      <th>id_lma_sample</th>\n",
       "      <th>ak_key_msr_sample</th>\n",
       "      <th>source_code</th>\n",
       "      <th>sys_app_origin</th>\n",
       "    </tr>\n",
       "  </thead>\n",
       "  <tbody>\n",
       "    <tr>\n",
       "      <th>0</th>\n",
       "      <td>52fcbb7f-2cf3-47b8-a59c-5582bc492e0d</td>\n",
       "      <td>788123</td>\n",
       "      <td>5</td>\n",
       "      <td>85f28735-e1bc-4b50-a125-c5077e42684d</td>\n",
       "      <td>28325</td>\n",
       "      <td>ANALYSE_AULNAY</td>\n",
       "      <td>MSR_TI</td>\n",
       "    </tr>\n",
       "    <tr>\n",
       "      <th>1</th>\n",
       "      <td>7fab28a1-a80d-49f8-bceb-2f0e196bcf79</td>\n",
       "      <td>788123</td>\n",
       "      <td>5</td>\n",
       "      <td>85f28735-e1bc-4b50-a125-c5077e42684d</td>\n",
       "      <td>38148</td>\n",
       "      <td>ANALYSE_AULNAY</td>\n",
       "      <td>MSR_TI</td>\n",
       "    </tr>\n",
       "    <tr>\n",
       "      <th>2</th>\n",
       "      <td>20b45bd3-334e-41dc-9fc1-39b68778f54c</td>\n",
       "      <td>788123</td>\n",
       "      <td>5</td>\n",
       "      <td>85f28735-e1bc-4b50-a125-c5077e42684d</td>\n",
       "      <td>39524</td>\n",
       "      <td>ANALYSE_AULNAY</td>\n",
       "      <td>MSR_TI</td>\n",
       "    </tr>\n",
       "    <tr>\n",
       "      <th>3</th>\n",
       "      <td>6691f80b-92b9-4402-8cbe-02fa4b06444c</td>\n",
       "      <td>788123</td>\n",
       "      <td>5</td>\n",
       "      <td>85f28735-e1bc-4b50-a125-c5077e42684d</td>\n",
       "      <td>48792</td>\n",
       "      <td>ANALYSE_AULNAY</td>\n",
       "      <td>MSR_TI</td>\n",
       "    </tr>\n",
       "    <tr>\n",
       "      <th>4</th>\n",
       "      <td>0b61fdb0-1a0d-4deb-b087-806ec7222ab2</td>\n",
       "      <td>788123</td>\n",
       "      <td>5</td>\n",
       "      <td>85f28735-e1bc-4b50-a125-c5077e42684d</td>\n",
       "      <td>49220</td>\n",
       "      <td>ANALYSE_AULNAY</td>\n",
       "      <td>MSR_TI</td>\n",
       "    </tr>\n",
       "  </tbody>\n",
       "</table>\n",
       "</div>"
      ],
      "text/plain": [
       "                          id_msr_sample lkp_key_lma_sample  ver_lma_sample  \\\n",
       "0  52fcbb7f-2cf3-47b8-a59c-5582bc492e0d             788123               5   \n",
       "1  7fab28a1-a80d-49f8-bceb-2f0e196bcf79             788123               5   \n",
       "2  20b45bd3-334e-41dc-9fc1-39b68778f54c             788123               5   \n",
       "3  6691f80b-92b9-4402-8cbe-02fa4b06444c             788123               5   \n",
       "4  0b61fdb0-1a0d-4deb-b087-806ec7222ab2             788123               5   \n",
       "\n",
       "                          id_lma_sample ak_key_msr_sample     source_code  \\\n",
       "0  85f28735-e1bc-4b50-a125-c5077e42684d             28325  ANALYSE_AULNAY   \n",
       "1  85f28735-e1bc-4b50-a125-c5077e42684d             38148  ANALYSE_AULNAY   \n",
       "2  85f28735-e1bc-4b50-a125-c5077e42684d             39524  ANALYSE_AULNAY   \n",
       "3  85f28735-e1bc-4b50-a125-c5077e42684d             48792  ANALYSE_AULNAY   \n",
       "4  85f28735-e1bc-4b50-a125-c5077e42684d             49220  ANALYSE_AULNAY   \n",
       "\n",
       "  sys_app_origin  \n",
       "0         MSR_TI  \n",
       "1         MSR_TI  \n",
       "2         MSR_TI  \n",
       "3         MSR_TI  \n",
       "4         MSR_TI  "
      ]
     },
     "execution_count": 19,
     "metadata": {},
     "output_type": "execute_result"
    }
   ],
   "source": [
    "df_replay.head()"
   ]
  },
  {
   "cell_type": "markdown",
   "metadata": {},
   "source": [
    "#### 1.2.2 Test"
   ]
  },
  {
   "cell_type": "code",
   "execution_count": 20,
   "metadata": {},
   "outputs": [
    {
     "name": "stdout",
     "output_type": "stream",
     "text": [
      "10581 lkp_lma_test with several ak_key_msr_test\n"
     ]
    }
   ],
   "source": [
    "want_to_group_also_by_version = True\n",
    "version = 't.ver_lma_test,' if want_to_group_also_by_version else ''\n",
    "\n",
    "with open(f\"SQL/dwh_msr/get_duplicated_test.sql\", \"r\") as sql_file:\n",
    "    sql_template = sql_file.read()\n",
    "\n",
    "sql = sql_template.replace(\"{version}\", version)\n",
    "query_job = client.query(sql)\n",
    "duplicated_tests = query_job.to_dataframe().drop_duplicates()\n",
    "nb_duplicated_test = duplicated_tests['lkp_lma_test'].nunique()\n",
    "print(nb_duplicated_test, 'lkp_lma_test with several ak_key_msr_test')"
   ]
  },
  {
   "cell_type": "code",
   "execution_count": 21,
   "metadata": {},
   "outputs": [
    {
     "name": "stdout",
     "output_type": "stream",
     "text": [
      "9396 lma_res with several msr_res without any deleted sample\n"
     ]
    },
    {
     "data": {
      "text/html": [
       "<div>\n",
       "<style scoped>\n",
       "    .dataframe tbody tr th:only-of-type {\n",
       "        vertical-align: middle;\n",
       "    }\n",
       "\n",
       "    .dataframe tbody tr th {\n",
       "        vertical-align: top;\n",
       "    }\n",
       "\n",
       "    .dataframe thead th {\n",
       "        text-align: right;\n",
       "    }\n",
       "</style>\n",
       "<table border=\"1\" class=\"dataframe\">\n",
       "  <thead>\n",
       "    <tr style=\"text-align: right;\">\n",
       "      <th></th>\n",
       "      <th>ver_lma_test</th>\n",
       "      <th>lkp_lma_test</th>\n",
       "      <th>nb_msr_test</th>\n",
       "    </tr>\n",
       "  </thead>\n",
       "  <tbody>\n",
       "    <tr>\n",
       "      <th>352</th>\n",
       "      <td>6</td>\n",
       "      <td>510570</td>\n",
       "      <td>3</td>\n",
       "    </tr>\n",
       "    <tr>\n",
       "      <th>367</th>\n",
       "      <td>6</td>\n",
       "      <td>493529</td>\n",
       "      <td>3</td>\n",
       "    </tr>\n",
       "    <tr>\n",
       "      <th>368</th>\n",
       "      <td>6</td>\n",
       "      <td>346407</td>\n",
       "      <td>3</td>\n",
       "    </tr>\n",
       "    <tr>\n",
       "      <th>369</th>\n",
       "      <td>5</td>\n",
       "      <td>527047</td>\n",
       "      <td>3</td>\n",
       "    </tr>\n",
       "    <tr>\n",
       "      <th>400</th>\n",
       "      <td>6</td>\n",
       "      <td>502460</td>\n",
       "      <td>3</td>\n",
       "    </tr>\n",
       "  </tbody>\n",
       "</table>\n",
       "</div>"
      ],
      "text/plain": [
       "     ver_lma_test lkp_lma_test  nb_msr_test\n",
       "352             6       510570            3\n",
       "367             6       493529            3\n",
       "368             6       346407            3\n",
       "369             5       527047            3\n",
       "400             6       502460            3"
      ]
     },
     "execution_count": 21,
     "metadata": {},
     "output_type": "execute_result"
    }
   ],
   "source": [
    "duplicated_test_not_deleted = duplicated_tests[~duplicated_tests['lkp_lma_test'].isin(impacted_lma_test)]\n",
    "print(f\"{duplicated_test_not_deleted['lkp_lma_test'].nunique()} lma_res with several msr_res without any deleted sample\")\n",
    "duplicated_test_not_deleted.head()"
   ]
  },
  {
   "cell_type": "code",
   "execution_count": 22,
   "metadata": {},
   "outputs": [
    {
     "name": "stdout",
     "output_type": "stream",
     "text": [
      "1185 lma_test with several msr_test with a deleted sample event\n"
     ]
    },
    {
     "data": {
      "text/html": [
       "<div>\n",
       "<style scoped>\n",
       "    .dataframe tbody tr th:only-of-type {\n",
       "        vertical-align: middle;\n",
       "    }\n",
       "\n",
       "    .dataframe tbody tr th {\n",
       "        vertical-align: top;\n",
       "    }\n",
       "\n",
       "    .dataframe thead th {\n",
       "        text-align: right;\n",
       "    }\n",
       "</style>\n",
       "<table border=\"1\" class=\"dataframe\">\n",
       "  <thead>\n",
       "    <tr style=\"text-align: right;\">\n",
       "      <th></th>\n",
       "      <th>ver_lma_test</th>\n",
       "      <th>lkp_lma_test</th>\n",
       "      <th>nb_msr_test</th>\n",
       "    </tr>\n",
       "  </thead>\n",
       "  <tbody>\n",
       "    <tr>\n",
       "      <th>0</th>\n",
       "      <td>4</td>\n",
       "      <td>1491428</td>\n",
       "      <td>5</td>\n",
       "    </tr>\n",
       "    <tr>\n",
       "      <th>1</th>\n",
       "      <td>7</td>\n",
       "      <td>1523483</td>\n",
       "      <td>5</td>\n",
       "    </tr>\n",
       "    <tr>\n",
       "      <th>2</th>\n",
       "      <td>4</td>\n",
       "      <td>1662697</td>\n",
       "      <td>5</td>\n",
       "    </tr>\n",
       "    <tr>\n",
       "      <th>3</th>\n",
       "      <td>4</td>\n",
       "      <td>1662698</td>\n",
       "      <td>5</td>\n",
       "    </tr>\n",
       "    <tr>\n",
       "      <th>4</th>\n",
       "      <td>4</td>\n",
       "      <td>1662699</td>\n",
       "      <td>5</td>\n",
       "    </tr>\n",
       "  </tbody>\n",
       "</table>\n",
       "</div>"
      ],
      "text/plain": [
       "   ver_lma_test lkp_lma_test  nb_msr_test\n",
       "0             4      1491428            5\n",
       "1             7      1523483            5\n",
       "2             4      1662697            5\n",
       "3             4      1662698            5\n",
       "4             4      1662699            5"
      ]
     },
     "execution_count": 22,
     "metadata": {},
     "output_type": "execute_result"
    }
   ],
   "source": [
    "duplicated_test_w_deleted_sample = duplicated_tests[duplicated_tests['lkp_lma_test'].isin(impacted_lma_test)]\n",
    "print(f\"{duplicated_test_w_deleted_sample['lkp_lma_test'].nunique()} lma_test with several msr_test with a deleted sample event\")\n",
    "duplicated_test_w_deleted_sample.head()"
   ]
  },
  {
   "cell_type": "code",
   "execution_count": 23,
   "metadata": {},
   "outputs": [
    {
     "name": "stdout",
     "output_type": "stream",
     "text": [
      "duplicated test are due to delete events less than 11 % of the time\n"
     ]
    }
   ],
   "source": [
    "pc = round(100 * duplicated_test_w_deleted_sample['lkp_lma_test'].nunique() / nb_duplicated_test)\n",
    "print(f'duplicated test are due to delete events less than {pc} % of the time')"
   ]
  },
  {
   "cell_type": "code",
   "execution_count": 24,
   "metadata": {},
   "outputs": [
    {
     "name": "stdout",
     "output_type": "stream",
     "text": [
      "88.3% of deleted sample are duplicated\n"
     ]
    }
   ],
   "source": [
    "pc = round(100 * duplicated_test_w_deleted_sample['lkp_lma_test'].nunique() / len(impacted_lma_test), 2)\n",
    "print(f'{pc}% of deleted sample are duplicated')"
   ]
  },
  {
   "cell_type": "markdown",
   "metadata": {},
   "source": [
    "#### 1.2.3 Results"
   ]
  },
  {
   "cell_type": "code",
   "execution_count": 25,
   "metadata": {},
   "outputs": [
    {
     "name": "stdout",
     "output_type": "stream",
     "text": [
      "178701 lkp_lma_results with several ak_key_msr_result\n"
     ]
    }
   ],
   "source": [
    "want_to_group_also_by_version = True\n",
    "version = 'r.ver_lma_results,' if want_to_group_also_by_version else ''\n",
    "\n",
    "with open(f\"SQL/dwh_msr/get_duplicated_results.sql\", \"r\") as sql_file:\n",
    "    sql_template = sql_file.read()\n",
    "\n",
    "sql = sql_template.replace(\"{version}\", version)\n",
    "query_job = client.query(sql)\n",
    "duplicated_resuts = query_job.to_dataframe().drop_duplicates()\n",
    "nb_duplicated_result = duplicated_resuts['lkp_lma_results'].nunique()\n",
    "print(nb_duplicated_result, 'lkp_lma_results with several ak_key_msr_result')"
   ]
  },
  {
   "cell_type": "code",
   "execution_count": 26,
   "metadata": {},
   "outputs": [
    {
     "name": "stdout",
     "output_type": "stream",
     "text": [
      "155720 lma_res with several msr_res without any deleted sample\n"
     ]
    },
    {
     "data": {
      "text/html": [
       "<div>\n",
       "<style scoped>\n",
       "    .dataframe tbody tr th:only-of-type {\n",
       "        vertical-align: middle;\n",
       "    }\n",
       "\n",
       "    .dataframe tbody tr th {\n",
       "        vertical-align: top;\n",
       "    }\n",
       "\n",
       "    .dataframe thead th {\n",
       "        text-align: right;\n",
       "    }\n",
       "</style>\n",
       "<table border=\"1\" class=\"dataframe\">\n",
       "  <thead>\n",
       "    <tr style=\"text-align: right;\">\n",
       "      <th></th>\n",
       "      <th>ver_lma_results</th>\n",
       "      <th>lkp_lma_results</th>\n",
       "      <th>nb_msr_res</th>\n",
       "    </tr>\n",
       "  </thead>\n",
       "  <tbody>\n",
       "    <tr>\n",
       "      <th>0</th>\n",
       "      <td>11</td>\n",
       "      <td>51308514</td>\n",
       "      <td>6</td>\n",
       "    </tr>\n",
       "    <tr>\n",
       "      <th>212</th>\n",
       "      <td>11</td>\n",
       "      <td>51308513</td>\n",
       "      <td>4</td>\n",
       "    </tr>\n",
       "    <tr>\n",
       "      <th>5217</th>\n",
       "      <td>10</td>\n",
       "      <td>47875994</td>\n",
       "      <td>3</td>\n",
       "    </tr>\n",
       "    <tr>\n",
       "      <th>5218</th>\n",
       "      <td>10</td>\n",
       "      <td>47875763</td>\n",
       "      <td>3</td>\n",
       "    </tr>\n",
       "    <tr>\n",
       "      <th>5219</th>\n",
       "      <td>10</td>\n",
       "      <td>47875796</td>\n",
       "      <td>3</td>\n",
       "    </tr>\n",
       "  </tbody>\n",
       "</table>\n",
       "</div>"
      ],
      "text/plain": [
       "      ver_lma_results lkp_lma_results  nb_msr_res\n",
       "0                  11        51308514           6\n",
       "212                11        51308513           4\n",
       "5217               10        47875994           3\n",
       "5218               10        47875763           3\n",
       "5219               10        47875796           3"
      ]
     },
     "execution_count": 26,
     "metadata": {},
     "output_type": "execute_result"
    }
   ],
   "source": [
    "duplicated_resuts_not_deleted = duplicated_resuts[~duplicated_resuts['lkp_lma_results'].isin(impacted_lma_res)]\n",
    "print(f\"{duplicated_resuts_not_deleted['lkp_lma_results'].nunique()} lma_res with several msr_res without any deleted sample\")\n",
    "duplicated_resuts_not_deleted.head()"
   ]
  },
  {
   "cell_type": "code",
   "execution_count": 27,
   "metadata": {},
   "outputs": [
    {
     "name": "stdout",
     "output_type": "stream",
     "text": [
      "22981 lma_res with several msr_res with a deleted sample event\n"
     ]
    },
    {
     "data": {
      "text/html": [
       "<div>\n",
       "<style scoped>\n",
       "    .dataframe tbody tr th:only-of-type {\n",
       "        vertical-align: middle;\n",
       "    }\n",
       "\n",
       "    .dataframe tbody tr th {\n",
       "        vertical-align: top;\n",
       "    }\n",
       "\n",
       "    .dataframe thead th {\n",
       "        text-align: right;\n",
       "    }\n",
       "</style>\n",
       "<table border=\"1\" class=\"dataframe\">\n",
       "  <thead>\n",
       "    <tr style=\"text-align: right;\">\n",
       "      <th></th>\n",
       "      <th>ver_lma_results</th>\n",
       "      <th>lkp_lma_results</th>\n",
       "      <th>nb_msr_res</th>\n",
       "    </tr>\n",
       "  </thead>\n",
       "  <tbody>\n",
       "    <tr>\n",
       "      <th>1</th>\n",
       "      <td>156</td>\n",
       "      <td>55503098</td>\n",
       "      <td>5</td>\n",
       "    </tr>\n",
       "    <tr>\n",
       "      <th>2</th>\n",
       "      <td>166</td>\n",
       "      <td>55503127</td>\n",
       "      <td>5</td>\n",
       "    </tr>\n",
       "    <tr>\n",
       "      <th>3</th>\n",
       "      <td>150</td>\n",
       "      <td>55503187</td>\n",
       "      <td>5</td>\n",
       "    </tr>\n",
       "    <tr>\n",
       "      <th>4</th>\n",
       "      <td>154</td>\n",
       "      <td>55503147</td>\n",
       "      <td>5</td>\n",
       "    </tr>\n",
       "    <tr>\n",
       "      <th>5</th>\n",
       "      <td>173</td>\n",
       "      <td>55503107</td>\n",
       "      <td>5</td>\n",
       "    </tr>\n",
       "  </tbody>\n",
       "</table>\n",
       "</div>"
      ],
      "text/plain": [
       "   ver_lma_results lkp_lma_results  nb_msr_res\n",
       "1              156        55503098           5\n",
       "2              166        55503127           5\n",
       "3              150        55503187           5\n",
       "4              154        55503147           5\n",
       "5              173        55503107           5"
      ]
     },
     "execution_count": 27,
     "metadata": {},
     "output_type": "execute_result"
    }
   ],
   "source": [
    "duplicated_resuts_w_deleted_sample = duplicated_resuts[duplicated_resuts['lkp_lma_results'].isin(impacted_lma_res)]\n",
    "print(f\"{duplicated_resuts_w_deleted_sample['lkp_lma_results'].nunique()} lma_res with several msr_res with a deleted sample event\")\n",
    "duplicated_resuts_w_deleted_sample.head()"
   ]
  },
  {
   "cell_type": "code",
   "execution_count": 28,
   "metadata": {},
   "outputs": [
    {
     "name": "stdout",
     "output_type": "stream",
     "text": [
      "duplicated results are due to delete events less than 17 % of the time\n"
     ]
    }
   ],
   "source": [
    "pc = round(100 * len(duplicated_resuts_w_deleted_sample) / nb_duplicated_result)\n",
    "print(f'duplicated results are due to delete events less than {pc} % of the time')"
   ]
  },
  {
   "cell_type": "code",
   "execution_count": 29,
   "metadata": {},
   "outputs": [
    {
     "name": "stdout",
     "output_type": "stream",
     "text": [
      "88.3% of deleted sample are duplicated\n"
     ]
    }
   ],
   "source": [
    "pc = round(100 * duplicated_test_w_deleted_sample['lkp_lma_test'].nunique() / len(impacted_lma_test), 2)\n",
    "print(f'{pc}% of deleted sample are duplicated')"
   ]
  },
  {
   "cell_type": "markdown",
   "metadata": {},
   "source": [
    "### 1.3. Comparison with lims output"
   ]
  },
  {
   "cell_type": "code",
   "execution_count": 30,
   "metadata": {},
   "outputs": [],
   "source": [
    "lims_output_sample = pd.read_excel(\"Data/RM PCP LIMS - samples.xlsx\")"
   ]
  },
  {
   "cell_type": "code",
   "execution_count": 31,
   "metadata": {},
   "outputs": [
    {
     "data": {
      "text/html": [
       "<div>\n",
       "<style scoped>\n",
       "    .dataframe tbody tr th:only-of-type {\n",
       "        vertical-align: middle;\n",
       "    }\n",
       "\n",
       "    .dataframe tbody tr th {\n",
       "        vertical-align: top;\n",
       "    }\n",
       "\n",
       "    .dataframe thead th {\n",
       "        text-align: right;\n",
       "    }\n",
       "</style>\n",
       "<table border=\"1\" class=\"dataframe\">\n",
       "  <thead>\n",
       "    <tr style=\"text-align: right;\">\n",
       "      <th></th>\n",
       "      <th>id</th>\n",
       "      <th>sample_type</th>\n",
       "      <th>external_id</th>\n",
       "      <th>sample_code</th>\n",
       "      <th>fabrication_code</th>\n",
       "      <th>batch_code_number</th>\n",
       "      <th>batch_code_supplier</th>\n",
       "      <th>sample_ec_code</th>\n",
       "      <th>sample_smiles_code</th>\n",
       "      <th>created_at</th>\n",
       "      <th>updated_at</th>\n",
       "    </tr>\n",
       "  </thead>\n",
       "  <tbody>\n",
       "    <tr>\n",
       "      <th>0</th>\n",
       "      <td>22212</td>\n",
       "      <td>Refcomm</td>\n",
       "      <td>849910</td>\n",
       "      <td>55194284</td>\n",
       "      <td>B0000192703</td>\n",
       "      <td>B0000192703-00001231001</td>\n",
       "      <td>00001231001</td>\n",
       "      <td>NaN</td>\n",
       "      <td>NaN</td>\n",
       "      <td>2025-02-04T17:21:56.500Z</td>\n",
       "      <td>2025-02-04T17:21:56.500Z</td>\n",
       "    </tr>\n",
       "    <tr>\n",
       "      <th>1</th>\n",
       "      <td>22211</td>\n",
       "      <td>Refcomm</td>\n",
       "      <td>840091</td>\n",
       "      <td>D13736572</td>\n",
       "      <td>DGA2270177</td>\n",
       "      <td>DGA2270177-21LNC1021SQ89</td>\n",
       "      <td>21LNC1021SQ89</td>\n",
       "      <td>NaN</td>\n",
       "      <td>NaN</td>\n",
       "      <td>2025-02-04T16:32:41.296Z</td>\n",
       "      <td>2025-02-04T16:32:41.296Z</td>\n",
       "    </tr>\n",
       "    <tr>\n",
       "      <th>2</th>\n",
       "      <td>22210</td>\n",
       "      <td>Refcomm</td>\n",
       "      <td>849766</td>\n",
       "      <td>C34035984</td>\n",
       "      <td>DGA2270073</td>\n",
       "      <td>DGA2270073-0001968392</td>\n",
       "      <td>0001968392</td>\n",
       "      <td>NaN</td>\n",
       "      <td>NaN</td>\n",
       "      <td>2025-02-04T16:18:33.136Z</td>\n",
       "      <td>2025-02-04T16:18:33.136Z</td>\n",
       "    </tr>\n",
       "    <tr>\n",
       "      <th>3</th>\n",
       "      <td>22209</td>\n",
       "      <td>Refcomm</td>\n",
       "      <td>849773</td>\n",
       "      <td>53586881</td>\n",
       "      <td>B0000191247</td>\n",
       "      <td>B0000191247-0001897027</td>\n",
       "      <td>0001897027</td>\n",
       "      <td>NaN</td>\n",
       "      <td>NaN</td>\n",
       "      <td>2025-02-04T16:18:29.796Z</td>\n",
       "      <td>2025-02-04T16:18:29.796Z</td>\n",
       "    </tr>\n",
       "    <tr>\n",
       "      <th>4</th>\n",
       "      <td>22208</td>\n",
       "      <td>Refcomm</td>\n",
       "      <td>849767</td>\n",
       "      <td>C24504104</td>\n",
       "      <td>DGA2240002</td>\n",
       "      <td>DGA2240002-DGC21N0010</td>\n",
       "      <td>DGC21N0010</td>\n",
       "      <td>NaN</td>\n",
       "      <td>NaN</td>\n",
       "      <td>2025-02-04T16:18:22.673Z</td>\n",
       "      <td>2025-02-04T16:18:22.673Z</td>\n",
       "    </tr>\n",
       "    <tr>\n",
       "      <th>...</th>\n",
       "      <td>...</td>\n",
       "      <td>...</td>\n",
       "      <td>...</td>\n",
       "      <td>...</td>\n",
       "      <td>...</td>\n",
       "      <td>...</td>\n",
       "      <td>...</td>\n",
       "      <td>...</td>\n",
       "      <td>...</td>\n",
       "      <td>...</td>\n",
       "      <td>...</td>\n",
       "    </tr>\n",
       "    <tr>\n",
       "      <th>9312</th>\n",
       "      <td>12786</td>\n",
       "      <td>Refcomm</td>\n",
       "      <td>820359</td>\n",
       "      <td>63795945</td>\n",
       "      <td>B0000186839</td>\n",
       "      <td>B0000186839-20200729-100</td>\n",
       "      <td>20200729-100</td>\n",
       "      <td>NaN</td>\n",
       "      <td>NaN</td>\n",
       "      <td>2024-05-31T10:10:05.670Z</td>\n",
       "      <td>2024-05-31T10:10:05.670Z</td>\n",
       "    </tr>\n",
       "    <tr>\n",
       "      <th>9313</th>\n",
       "      <td>12785</td>\n",
       "      <td>Refcomm</td>\n",
       "      <td>820362</td>\n",
       "      <td>436072</td>\n",
       "      <td>B0000192345</td>\n",
       "      <td>B0000192345-23A25108-00</td>\n",
       "      <td>23A25108-00</td>\n",
       "      <td>NaN</td>\n",
       "      <td>NaN</td>\n",
       "      <td>2024-05-31T10:10:02.200Z</td>\n",
       "      <td>2024-05-31T10:10:02.200Z</td>\n",
       "    </tr>\n",
       "    <tr>\n",
       "      <th>9314</th>\n",
       "      <td>12784</td>\n",
       "      <td>Refcomm</td>\n",
       "      <td>820371</td>\n",
       "      <td>C24687885</td>\n",
       "      <td>DGA23N0080</td>\n",
       "      <td>DGA23N0080-0027451126</td>\n",
       "      <td>0027451126</td>\n",
       "      <td>NaN</td>\n",
       "      <td>NaN</td>\n",
       "      <td>2024-05-31T10:09:56.790Z</td>\n",
       "      <td>2024-05-31T10:09:56.790Z</td>\n",
       "    </tr>\n",
       "    <tr>\n",
       "      <th>9315</th>\n",
       "      <td>12783</td>\n",
       "      <td>Refcomm</td>\n",
       "      <td>824712</td>\n",
       "      <td>C20042883</td>\n",
       "      <td>DGA23D0069</td>\n",
       "      <td>DGA23D0069-DGK2350178</td>\n",
       "      <td>DGK2350178</td>\n",
       "      <td>NaN</td>\n",
       "      <td>NaN</td>\n",
       "      <td>2024-05-31T10:09:53.863Z</td>\n",
       "      <td>2024-05-31T10:09:53.863Z</td>\n",
       "    </tr>\n",
       "    <tr>\n",
       "      <th>9316</th>\n",
       "      <td>12782</td>\n",
       "      <td>Refcomm</td>\n",
       "      <td>824715</td>\n",
       "      <td>B1813108</td>\n",
       "      <td>DGA18N0279</td>\n",
       "      <td>DGA18N0279-H170407X58</td>\n",
       "      <td>H170407X58</td>\n",
       "      <td>NaN</td>\n",
       "      <td>NaN</td>\n",
       "      <td>2024-05-31T10:09:50.473Z</td>\n",
       "      <td>2024-05-31T10:09:50.473Z</td>\n",
       "    </tr>\n",
       "  </tbody>\n",
       "</table>\n",
       "<p>9317 rows × 11 columns</p>\n",
       "</div>"
      ],
      "text/plain": [
       "         id sample_type  external_id sample_code fabrication_code  \\\n",
       "0     22212     Refcomm       849910    55194284      B0000192703   \n",
       "1     22211     Refcomm       840091   D13736572       DGA2270177   \n",
       "2     22210     Refcomm       849766   C34035984       DGA2270073   \n",
       "3     22209     Refcomm       849773    53586881      B0000191247   \n",
       "4     22208     Refcomm       849767   C24504104       DGA2240002   \n",
       "...     ...         ...          ...         ...              ...   \n",
       "9312  12786     Refcomm       820359    63795945      B0000186839   \n",
       "9313  12785     Refcomm       820362      436072      B0000192345   \n",
       "9314  12784     Refcomm       820371   C24687885       DGA23N0080   \n",
       "9315  12783     Refcomm       824712   C20042883       DGA23D0069   \n",
       "9316  12782     Refcomm       824715    B1813108       DGA18N0279   \n",
       "\n",
       "             batch_code_number batch_code_supplier  sample_ec_code  \\\n",
       "0      B0000192703-00001231001         00001231001             NaN   \n",
       "1     DGA2270177-21LNC1021SQ89       21LNC1021SQ89             NaN   \n",
       "2        DGA2270073-0001968392          0001968392             NaN   \n",
       "3       B0000191247-0001897027          0001897027             NaN   \n",
       "4        DGA2240002-DGC21N0010          DGC21N0010             NaN   \n",
       "...                        ...                 ...             ...   \n",
       "9312  B0000186839-20200729-100        20200729-100             NaN   \n",
       "9313   B0000192345-23A25108-00         23A25108-00             NaN   \n",
       "9314     DGA23N0080-0027451126          0027451126             NaN   \n",
       "9315     DGA23D0069-DGK2350178          DGK2350178             NaN   \n",
       "9316     DGA18N0279-H170407X58          H170407X58             NaN   \n",
       "\n",
       "      sample_smiles_code                created_at                updated_at  \n",
       "0                    NaN  2025-02-04T17:21:56.500Z  2025-02-04T17:21:56.500Z  \n",
       "1                    NaN  2025-02-04T16:32:41.296Z  2025-02-04T16:32:41.296Z  \n",
       "2                    NaN  2025-02-04T16:18:33.136Z  2025-02-04T16:18:33.136Z  \n",
       "3                    NaN  2025-02-04T16:18:29.796Z  2025-02-04T16:18:29.796Z  \n",
       "4                    NaN  2025-02-04T16:18:22.673Z  2025-02-04T16:18:22.673Z  \n",
       "...                  ...                       ...                       ...  \n",
       "9312                 NaN  2024-05-31T10:10:05.670Z  2024-05-31T10:10:05.670Z  \n",
       "9313                 NaN  2024-05-31T10:10:02.200Z  2024-05-31T10:10:02.200Z  \n",
       "9314                 NaN  2024-05-31T10:09:56.790Z  2024-05-31T10:09:56.790Z  \n",
       "9315                 NaN  2024-05-31T10:09:53.863Z  2024-05-31T10:09:53.863Z  \n",
       "9316                 NaN  2024-05-31T10:09:50.473Z  2024-05-31T10:09:50.473Z  \n",
       "\n",
       "[9317 rows x 11 columns]"
      ]
     },
     "execution_count": 31,
     "metadata": {},
     "output_type": "execute_result"
    }
   ],
   "source": [
    "lims_output_sample"
   ]
  },
  {
   "cell_type": "markdown",
   "metadata": {},
   "source": [
    "## 2. Comparison real_time vs dwh msr"
   ]
  },
  {
   "cell_type": "markdown",
   "metadata": {},
   "source": [
    "Get data from dwh msr"
   ]
  },
  {
   "cell_type": "code",
   "execution_count": 32,
   "metadata": {},
   "outputs": [
    {
     "name": "stdout",
     "output_type": "stream",
     "text": [
      "nb_updated sample in dwh msr : 2076\n"
     ]
    },
    {
     "data": {
      "text/html": [
       "<div>\n",
       "<style scoped>\n",
       "    .dataframe tbody tr th:only-of-type {\n",
       "        vertical-align: middle;\n",
       "    }\n",
       "\n",
       "    .dataframe tbody tr th {\n",
       "        vertical-align: top;\n",
       "    }\n",
       "\n",
       "    .dataframe thead th {\n",
       "        text-align: right;\n",
       "    }\n",
       "</style>\n",
       "<table border=\"1\" class=\"dataframe\">\n",
       "  <thead>\n",
       "    <tr style=\"text-align: right;\">\n",
       "      <th></th>\n",
       "      <th>ak_key_msr_sample</th>\n",
       "      <th>source_code</th>\n",
       "      <th>sys_app_origin</th>\n",
       "      <th>ak_key_msr_test</th>\n",
       "    </tr>\n",
       "  </thead>\n",
       "  <tbody>\n",
       "    <tr>\n",
       "      <th>0</th>\n",
       "      <td>6938</td>\n",
       "      <td>SOURCE_ECHA</td>\n",
       "      <td>MSR_CPC</td>\n",
       "      <td>68981</td>\n",
       "    </tr>\n",
       "    <tr>\n",
       "      <th>1</th>\n",
       "      <td>6938</td>\n",
       "      <td>SOURCE_ECHA</td>\n",
       "      <td>MSR_CPC</td>\n",
       "      <td>68974</td>\n",
       "    </tr>\n",
       "    <tr>\n",
       "      <th>2</th>\n",
       "      <td>6938</td>\n",
       "      <td>SOURCE_ECHA</td>\n",
       "      <td>MSR_CPC</td>\n",
       "      <td>68975</td>\n",
       "    </tr>\n",
       "    <tr>\n",
       "      <th>3</th>\n",
       "      <td>6938</td>\n",
       "      <td>SOURCE_ECHA</td>\n",
       "      <td>MSR_CPC</td>\n",
       "      <td>68976</td>\n",
       "    </tr>\n",
       "    <tr>\n",
       "      <th>4</th>\n",
       "      <td>6938</td>\n",
       "      <td>SOURCE_ECHA</td>\n",
       "      <td>MSR_CPC</td>\n",
       "      <td>68979</td>\n",
       "    </tr>\n",
       "  </tbody>\n",
       "</table>\n",
       "</div>"
      ],
      "text/plain": [
       "  ak_key_msr_sample  source_code sys_app_origin ak_key_msr_test\n",
       "0              6938  SOURCE_ECHA        MSR_CPC           68981\n",
       "1              6938  SOURCE_ECHA        MSR_CPC           68974\n",
       "2              6938  SOURCE_ECHA        MSR_CPC           68975\n",
       "3              6938  SOURCE_ECHA        MSR_CPC           68976\n",
       "4              6938  SOURCE_ECHA        MSR_CPC           68979"
      ]
     },
     "execution_count": 32,
     "metadata": {},
     "output_type": "execute_result"
    }
   ],
   "source": [
    "with open(f\"SQL/20250307_analysis/dwh_msr/get_data_from_0703.sql\", \"r\") as sql_file:\n",
    "    sql = sql_file.read()\n",
    "\n",
    "query_job = client.query(sql)\n",
    "updated_sample_dwh = query_job.to_dataframe().drop_duplicates()\n",
    "nb_updated_s_dwh = updated_sample_dwh['ak_key_msr_sample'].nunique()\n",
    "print(f'nb_updated sample in dwh msr : {nb_updated_s_dwh}')\n",
    "updated_sample_dwh.head()"
   ]
  },
  {
   "cell_type": "markdown",
   "metadata": {},
   "source": [
    "### 2.1. sample"
   ]
  },
  {
   "cell_type": "code",
   "execution_count": 33,
   "metadata": {},
   "outputs": [
    {
     "name": "stdout",
     "output_type": "stream",
     "text": [
      "nb_updated sample in dwh msr : 6195\n"
     ]
    },
    {
     "data": {
      "text/html": [
       "<div>\n",
       "<style scoped>\n",
       "    .dataframe tbody tr th:only-of-type {\n",
       "        vertical-align: middle;\n",
       "    }\n",
       "\n",
       "    .dataframe tbody tr th {\n",
       "        vertical-align: top;\n",
       "    }\n",
       "\n",
       "    .dataframe thead th {\n",
       "        text-align: right;\n",
       "    }\n",
       "</style>\n",
       "<table border=\"1\" class=\"dataframe\">\n",
       "  <thead>\n",
       "    <tr style=\"text-align: right;\">\n",
       "      <th></th>\n",
       "      <th>sample_external_id</th>\n",
       "      <th>sample_id</th>\n",
       "      <th>test_id</th>\n",
       "      <th>date</th>\n",
       "      <th>domain</th>\n",
       "    </tr>\n",
       "  </thead>\n",
       "  <tbody>\n",
       "    <tr>\n",
       "      <th>0</th>\n",
       "      <td>470499</td>\n",
       "      <td>44472</td>\n",
       "      <td>50503</td>\n",
       "      <td>2025-03-26 00:00:00+00:00</td>\n",
       "      <td>MSR_TI</td>\n",
       "    </tr>\n",
       "    <tr>\n",
       "      <th>1</th>\n",
       "      <td>413555</td>\n",
       "      <td>43870</td>\n",
       "      <td>49898</td>\n",
       "      <td>2025-03-26 00:00:00+00:00</td>\n",
       "      <td>MSR_TI</td>\n",
       "    </tr>\n",
       "    <tr>\n",
       "      <th>2</th>\n",
       "      <td>862631</td>\n",
       "      <td>22381</td>\n",
       "      <td>42699</td>\n",
       "      <td>2025-04-01 00:00:00+00:00</td>\n",
       "      <td>MSR_CPC</td>\n",
       "    </tr>\n",
       "    <tr>\n",
       "      <th>3</th>\n",
       "      <td>744801</td>\n",
       "      <td>14623</td>\n",
       "      <td>28286</td>\n",
       "      <td>2025-04-01 00:00:00+00:00</td>\n",
       "      <td>MSR_CPC</td>\n",
       "    </tr>\n",
       "    <tr>\n",
       "      <th>4</th>\n",
       "      <td>807042</td>\n",
       "      <td>15203</td>\n",
       "      <td>29020</td>\n",
       "      <td>2025-03-19 00:00:00+00:00</td>\n",
       "      <td>MSR_CPC</td>\n",
       "    </tr>\n",
       "  </tbody>\n",
       "</table>\n",
       "</div>"
      ],
      "text/plain": [
       "  sample_external_id sample_id test_id                      date   domain\n",
       "0             470499     44472   50503 2025-03-26 00:00:00+00:00   MSR_TI\n",
       "1             413555     43870   49898 2025-03-26 00:00:00+00:00   MSR_TI\n",
       "2             862631     22381   42699 2025-04-01 00:00:00+00:00  MSR_CPC\n",
       "3             744801     14623   28286 2025-04-01 00:00:00+00:00  MSR_CPC\n",
       "4             807042     15203   29020 2025-03-19 00:00:00+00:00  MSR_CPC"
      ]
     },
     "execution_count": 33,
     "metadata": {},
     "output_type": "execute_result"
    }
   ],
   "source": [
    "with open(f\"SQL/20250307_analysis/inp_realtime/get_data_from_0703.sql\", \"r\") as sql_file:\n",
    "    sql = sql_file.read()\n",
    "\n",
    "query_job = client.query(sql)\n",
    "event_realtime = query_job.to_dataframe().drop_duplicates()\n",
    "nb_sample_realtime = event_realtime['sample_id'].nunique()\n",
    "print(f'nb_updated sample in dwh msr : {nb_sample_realtime}')\n",
    "event_realtime.head()"
   ]
  },
  {
   "cell_type": "code",
   "execution_count": 34,
   "metadata": {},
   "outputs": [
    {
     "name": "stdout",
     "output_type": "stream",
     "text": [
      "nb missing sample in dwh : 4524\n"
     ]
    },
    {
     "ename": "OSError",
     "evalue": "Cannot save file into a non-existent directory: 'result'",
     "output_type": "error",
     "traceback": [
      "\u001b[31m---------------------------------------------------------------------------\u001b[39m",
      "\u001b[31mOSError\u001b[39m                                   Traceback (most recent call last)",
      "\u001b[36mCell\u001b[39m\u001b[36m \u001b[39m\u001b[32mIn[34]\u001b[39m\u001b[32m, line 3\u001b[39m\n\u001b[32m      1\u001b[39m missing_sample = event_realtime[~event_realtime[\u001b[33m'\u001b[39m\u001b[33msample_id\u001b[39m\u001b[33m'\u001b[39m].isin(updated_sample_dwh[\u001b[33m'\u001b[39m\u001b[33mak_key_msr_sample\u001b[39m\u001b[33m'\u001b[39m])][[\u001b[33m'\u001b[39m\u001b[33msample_external_id\u001b[39m\u001b[33m'\u001b[39m, \u001b[33m'\u001b[39m\u001b[33msample_id\u001b[39m\u001b[33m'\u001b[39m, \u001b[33m'\u001b[39m\u001b[33mdomain\u001b[39m\u001b[33m'\u001b[39m, \u001b[33m'\u001b[39m\u001b[33mdate\u001b[39m\u001b[33m'\u001b[39m]].drop_duplicates()\n\u001b[32m      2\u001b[39m \u001b[38;5;28mprint\u001b[39m(\u001b[33mf\u001b[39m\u001b[33m'\u001b[39m\u001b[33mnb missing sample in dwh : \u001b[39m\u001b[38;5;132;01m{\u001b[39;00mmissing_sample[\u001b[33m\"\u001b[39m\u001b[33msample_external_id\u001b[39m\u001b[33m\"\u001b[39m].nunique()\u001b[38;5;132;01m}\u001b[39;00m\u001b[33m'\u001b[39m)\n\u001b[32m----> \u001b[39m\u001b[32m3\u001b[39m \u001b[43mmissing_sample\u001b[49m\u001b[43m[\u001b[49m\u001b[43m[\u001b[49m\u001b[33;43m'\u001b[39;49m\u001b[33;43msample_id\u001b[39;49m\u001b[33;43m'\u001b[39;49m\u001b[43m,\u001b[49m\u001b[43m \u001b[49m\u001b[33;43m'\u001b[39;49m\u001b[33;43msample_external_id\u001b[39;49m\u001b[33;43m'\u001b[39;49m\u001b[43m,\u001b[49m\u001b[43m \u001b[49m\u001b[33;43m'\u001b[39;49m\u001b[33;43mdomain\u001b[39;49m\u001b[33;43m'\u001b[39;49m\u001b[43m]\u001b[49m\u001b[43m]\u001b[49m\u001b[43m.\u001b[49m\u001b[43mto_excel\u001b[49m\u001b[43m(\u001b[49m\u001b[33;43m'\u001b[39;49m\u001b[33;43mresult/missing_sample_in_dwh_msr.xlsx\u001b[39;49m\u001b[33;43m'\u001b[39;49m\u001b[43m)\u001b[49m\n\u001b[32m      4\u001b[39m missing_sample\n",
      "\u001b[36mFile \u001b[39m\u001b[32m~/repos/Doublons_MSR/msr_venv2/lib/python3.11/site-packages/pandas/util/_decorators.py:333\u001b[39m, in \u001b[36mdeprecate_nonkeyword_arguments.<locals>.decorate.<locals>.wrapper\u001b[39m\u001b[34m(*args, **kwargs)\u001b[39m\n\u001b[32m    327\u001b[39m \u001b[38;5;28;01mif\u001b[39;00m \u001b[38;5;28mlen\u001b[39m(args) > num_allow_args:\n\u001b[32m    328\u001b[39m     warnings.warn(\n\u001b[32m    329\u001b[39m         msg.format(arguments=_format_argument_list(allow_args)),\n\u001b[32m    330\u001b[39m         \u001b[38;5;167;01mFutureWarning\u001b[39;00m,\n\u001b[32m    331\u001b[39m         stacklevel=find_stack_level(),\n\u001b[32m    332\u001b[39m     )\n\u001b[32m--> \u001b[39m\u001b[32m333\u001b[39m \u001b[38;5;28;01mreturn\u001b[39;00m \u001b[43mfunc\u001b[49m\u001b[43m(\u001b[49m\u001b[43m*\u001b[49m\u001b[43margs\u001b[49m\u001b[43m,\u001b[49m\u001b[43m \u001b[49m\u001b[43m*\u001b[49m\u001b[43m*\u001b[49m\u001b[43mkwargs\u001b[49m\u001b[43m)\u001b[49m\n",
      "\u001b[36mFile \u001b[39m\u001b[32m~/repos/Doublons_MSR/msr_venv2/lib/python3.11/site-packages/pandas/core/generic.py:2417\u001b[39m, in \u001b[36mNDFrame.to_excel\u001b[39m\u001b[34m(self, excel_writer, sheet_name, na_rep, float_format, columns, header, index, index_label, startrow, startcol, engine, merge_cells, inf_rep, freeze_panes, storage_options, engine_kwargs)\u001b[39m\n\u001b[32m   2404\u001b[39m \u001b[38;5;28;01mfrom\u001b[39;00m\u001b[38;5;250m \u001b[39m\u001b[34;01mpandas\u001b[39;00m\u001b[34;01m.\u001b[39;00m\u001b[34;01mio\u001b[39;00m\u001b[34;01m.\u001b[39;00m\u001b[34;01mformats\u001b[39;00m\u001b[34;01m.\u001b[39;00m\u001b[34;01mexcel\u001b[39;00m\u001b[38;5;250m \u001b[39m\u001b[38;5;28;01mimport\u001b[39;00m ExcelFormatter\n\u001b[32m   2406\u001b[39m formatter = ExcelFormatter(\n\u001b[32m   2407\u001b[39m     df,\n\u001b[32m   2408\u001b[39m     na_rep=na_rep,\n\u001b[32m   (...)\u001b[39m\u001b[32m   2415\u001b[39m     inf_rep=inf_rep,\n\u001b[32m   2416\u001b[39m )\n\u001b[32m-> \u001b[39m\u001b[32m2417\u001b[39m \u001b[43mformatter\u001b[49m\u001b[43m.\u001b[49m\u001b[43mwrite\u001b[49m\u001b[43m(\u001b[49m\n\u001b[32m   2418\u001b[39m \u001b[43m    \u001b[49m\u001b[43mexcel_writer\u001b[49m\u001b[43m,\u001b[49m\n\u001b[32m   2419\u001b[39m \u001b[43m    \u001b[49m\u001b[43msheet_name\u001b[49m\u001b[43m=\u001b[49m\u001b[43msheet_name\u001b[49m\u001b[43m,\u001b[49m\n\u001b[32m   2420\u001b[39m \u001b[43m    \u001b[49m\u001b[43mstartrow\u001b[49m\u001b[43m=\u001b[49m\u001b[43mstartrow\u001b[49m\u001b[43m,\u001b[49m\n\u001b[32m   2421\u001b[39m \u001b[43m    \u001b[49m\u001b[43mstartcol\u001b[49m\u001b[43m=\u001b[49m\u001b[43mstartcol\u001b[49m\u001b[43m,\u001b[49m\n\u001b[32m   2422\u001b[39m \u001b[43m    \u001b[49m\u001b[43mfreeze_panes\u001b[49m\u001b[43m=\u001b[49m\u001b[43mfreeze_panes\u001b[49m\u001b[43m,\u001b[49m\n\u001b[32m   2423\u001b[39m \u001b[43m    \u001b[49m\u001b[43mengine\u001b[49m\u001b[43m=\u001b[49m\u001b[43mengine\u001b[49m\u001b[43m,\u001b[49m\n\u001b[32m   2424\u001b[39m \u001b[43m    \u001b[49m\u001b[43mstorage_options\u001b[49m\u001b[43m=\u001b[49m\u001b[43mstorage_options\u001b[49m\u001b[43m,\u001b[49m\n\u001b[32m   2425\u001b[39m \u001b[43m    \u001b[49m\u001b[43mengine_kwargs\u001b[49m\u001b[43m=\u001b[49m\u001b[43mengine_kwargs\u001b[49m\u001b[43m,\u001b[49m\n\u001b[32m   2426\u001b[39m \u001b[43m\u001b[49m\u001b[43m)\u001b[49m\n",
      "\u001b[36mFile \u001b[39m\u001b[32m~/repos/Doublons_MSR/msr_venv2/lib/python3.11/site-packages/pandas/io/formats/excel.py:943\u001b[39m, in \u001b[36mExcelFormatter.write\u001b[39m\u001b[34m(self, writer, sheet_name, startrow, startcol, freeze_panes, engine, storage_options, engine_kwargs)\u001b[39m\n\u001b[32m    941\u001b[39m     need_save = \u001b[38;5;28;01mFalse\u001b[39;00m\n\u001b[32m    942\u001b[39m \u001b[38;5;28;01melse\u001b[39;00m:\n\u001b[32m--> \u001b[39m\u001b[32m943\u001b[39m     writer = \u001b[43mExcelWriter\u001b[49m\u001b[43m(\u001b[49m\n\u001b[32m    944\u001b[39m \u001b[43m        \u001b[49m\u001b[43mwriter\u001b[49m\u001b[43m,\u001b[49m\n\u001b[32m    945\u001b[39m \u001b[43m        \u001b[49m\u001b[43mengine\u001b[49m\u001b[43m=\u001b[49m\u001b[43mengine\u001b[49m\u001b[43m,\u001b[49m\n\u001b[32m    946\u001b[39m \u001b[43m        \u001b[49m\u001b[43mstorage_options\u001b[49m\u001b[43m=\u001b[49m\u001b[43mstorage_options\u001b[49m\u001b[43m,\u001b[49m\n\u001b[32m    947\u001b[39m \u001b[43m        \u001b[49m\u001b[43mengine_kwargs\u001b[49m\u001b[43m=\u001b[49m\u001b[43mengine_kwargs\u001b[49m\u001b[43m,\u001b[49m\n\u001b[32m    948\u001b[39m \u001b[43m    \u001b[49m\u001b[43m)\u001b[49m\n\u001b[32m    949\u001b[39m     need_save = \u001b[38;5;28;01mTrue\u001b[39;00m\n\u001b[32m    951\u001b[39m \u001b[38;5;28;01mtry\u001b[39;00m:\n",
      "\u001b[36mFile \u001b[39m\u001b[32m~/repos/Doublons_MSR/msr_venv2/lib/python3.11/site-packages/pandas/io/excel/_openpyxl.py:61\u001b[39m, in \u001b[36mOpenpyxlWriter.__init__\u001b[39m\u001b[34m(self, path, engine, date_format, datetime_format, mode, storage_options, if_sheet_exists, engine_kwargs, **kwargs)\u001b[39m\n\u001b[32m     57\u001b[39m \u001b[38;5;28;01mfrom\u001b[39;00m\u001b[38;5;250m \u001b[39m\u001b[34;01mopenpyxl\u001b[39;00m\u001b[34;01m.\u001b[39;00m\u001b[34;01mworkbook\u001b[39;00m\u001b[38;5;250m \u001b[39m\u001b[38;5;28;01mimport\u001b[39;00m Workbook\n\u001b[32m     59\u001b[39m engine_kwargs = combine_kwargs(engine_kwargs, kwargs)\n\u001b[32m---> \u001b[39m\u001b[32m61\u001b[39m \u001b[38;5;28;43msuper\u001b[39;49m\u001b[43m(\u001b[49m\u001b[43m)\u001b[49m\u001b[43m.\u001b[49m\u001b[34;43m__init__\u001b[39;49m\u001b[43m(\u001b[49m\n\u001b[32m     62\u001b[39m \u001b[43m    \u001b[49m\u001b[43mpath\u001b[49m\u001b[43m,\u001b[49m\n\u001b[32m     63\u001b[39m \u001b[43m    \u001b[49m\u001b[43mmode\u001b[49m\u001b[43m=\u001b[49m\u001b[43mmode\u001b[49m\u001b[43m,\u001b[49m\n\u001b[32m     64\u001b[39m \u001b[43m    \u001b[49m\u001b[43mstorage_options\u001b[49m\u001b[43m=\u001b[49m\u001b[43mstorage_options\u001b[49m\u001b[43m,\u001b[49m\n\u001b[32m     65\u001b[39m \u001b[43m    \u001b[49m\u001b[43mif_sheet_exists\u001b[49m\u001b[43m=\u001b[49m\u001b[43mif_sheet_exists\u001b[49m\u001b[43m,\u001b[49m\n\u001b[32m     66\u001b[39m \u001b[43m    \u001b[49m\u001b[43mengine_kwargs\u001b[49m\u001b[43m=\u001b[49m\u001b[43mengine_kwargs\u001b[49m\u001b[43m,\u001b[49m\n\u001b[32m     67\u001b[39m \u001b[43m\u001b[49m\u001b[43m)\u001b[49m\n\u001b[32m     69\u001b[39m \u001b[38;5;66;03m# ExcelWriter replaced \"a\" by \"r+\" to allow us to first read the excel file from\u001b[39;00m\n\u001b[32m     70\u001b[39m \u001b[38;5;66;03m# the file and later write to it\u001b[39;00m\n\u001b[32m     71\u001b[39m \u001b[38;5;28;01mif\u001b[39;00m \u001b[33m\"\u001b[39m\u001b[33mr+\u001b[39m\u001b[33m\"\u001b[39m \u001b[38;5;129;01min\u001b[39;00m \u001b[38;5;28mself\u001b[39m._mode:  \u001b[38;5;66;03m# Load from existing workbook\u001b[39;00m\n",
      "\u001b[36mFile \u001b[39m\u001b[32m~/repos/Doublons_MSR/msr_venv2/lib/python3.11/site-packages/pandas/io/excel/_base.py:1246\u001b[39m, in \u001b[36mExcelWriter.__init__\u001b[39m\u001b[34m(self, path, engine, date_format, datetime_format, mode, storage_options, if_sheet_exists, engine_kwargs)\u001b[39m\n\u001b[32m   1242\u001b[39m \u001b[38;5;28mself\u001b[39m._handles = IOHandles(\n\u001b[32m   1243\u001b[39m     cast(IO[\u001b[38;5;28mbytes\u001b[39m], path), compression={\u001b[33m\"\u001b[39m\u001b[33mcompression\u001b[39m\u001b[33m\"\u001b[39m: \u001b[38;5;28;01mNone\u001b[39;00m}\n\u001b[32m   1244\u001b[39m )\n\u001b[32m   1245\u001b[39m \u001b[38;5;28;01mif\u001b[39;00m \u001b[38;5;129;01mnot\u001b[39;00m \u001b[38;5;28misinstance\u001b[39m(path, ExcelWriter):\n\u001b[32m-> \u001b[39m\u001b[32m1246\u001b[39m     \u001b[38;5;28mself\u001b[39m._handles = \u001b[43mget_handle\u001b[49m\u001b[43m(\u001b[49m\n\u001b[32m   1247\u001b[39m \u001b[43m        \u001b[49m\u001b[43mpath\u001b[49m\u001b[43m,\u001b[49m\u001b[43m \u001b[49m\u001b[43mmode\u001b[49m\u001b[43m,\u001b[49m\u001b[43m \u001b[49m\u001b[43mstorage_options\u001b[49m\u001b[43m=\u001b[49m\u001b[43mstorage_options\u001b[49m\u001b[43m,\u001b[49m\u001b[43m \u001b[49m\u001b[43mis_text\u001b[49m\u001b[43m=\u001b[49m\u001b[38;5;28;43;01mFalse\u001b[39;49;00m\n\u001b[32m   1248\u001b[39m \u001b[43m    \u001b[49m\u001b[43m)\u001b[49m\n\u001b[32m   1249\u001b[39m \u001b[38;5;28mself\u001b[39m._cur_sheet = \u001b[38;5;28;01mNone\u001b[39;00m\n\u001b[32m   1251\u001b[39m \u001b[38;5;28;01mif\u001b[39;00m date_format \u001b[38;5;129;01mis\u001b[39;00m \u001b[38;5;28;01mNone\u001b[39;00m:\n",
      "\u001b[36mFile \u001b[39m\u001b[32m~/repos/Doublons_MSR/msr_venv2/lib/python3.11/site-packages/pandas/io/common.py:749\u001b[39m, in \u001b[36mget_handle\u001b[39m\u001b[34m(path_or_buf, mode, encoding, compression, memory_map, is_text, errors, storage_options)\u001b[39m\n\u001b[32m    747\u001b[39m \u001b[38;5;66;03m# Only for write methods\u001b[39;00m\n\u001b[32m    748\u001b[39m \u001b[38;5;28;01mif\u001b[39;00m \u001b[33m\"\u001b[39m\u001b[33mr\u001b[39m\u001b[33m\"\u001b[39m \u001b[38;5;129;01mnot\u001b[39;00m \u001b[38;5;129;01min\u001b[39;00m mode \u001b[38;5;129;01mand\u001b[39;00m is_path:\n\u001b[32m--> \u001b[39m\u001b[32m749\u001b[39m     \u001b[43mcheck_parent_directory\u001b[49m\u001b[43m(\u001b[49m\u001b[38;5;28;43mstr\u001b[39;49m\u001b[43m(\u001b[49m\u001b[43mhandle\u001b[49m\u001b[43m)\u001b[49m\u001b[43m)\u001b[49m\n\u001b[32m    751\u001b[39m \u001b[38;5;28;01mif\u001b[39;00m compression:\n\u001b[32m    752\u001b[39m     \u001b[38;5;28;01mif\u001b[39;00m compression != \u001b[33m\"\u001b[39m\u001b[33mzstd\u001b[39m\u001b[33m\"\u001b[39m:\n\u001b[32m    753\u001b[39m         \u001b[38;5;66;03m# compression libraries do not like an explicit text-mode\u001b[39;00m\n",
      "\u001b[36mFile \u001b[39m\u001b[32m~/repos/Doublons_MSR/msr_venv2/lib/python3.11/site-packages/pandas/io/common.py:616\u001b[39m, in \u001b[36mcheck_parent_directory\u001b[39m\u001b[34m(path)\u001b[39m\n\u001b[32m    614\u001b[39m parent = Path(path).parent\n\u001b[32m    615\u001b[39m \u001b[38;5;28;01mif\u001b[39;00m \u001b[38;5;129;01mnot\u001b[39;00m parent.is_dir():\n\u001b[32m--> \u001b[39m\u001b[32m616\u001b[39m     \u001b[38;5;28;01mraise\u001b[39;00m \u001b[38;5;167;01mOSError\u001b[39;00m(\u001b[33mrf\u001b[39m\u001b[33m\"\u001b[39m\u001b[33mCannot save file into a non-existent directory: \u001b[39m\u001b[33m'\u001b[39m\u001b[38;5;132;01m{\u001b[39;00mparent\u001b[38;5;132;01m}\u001b[39;00m\u001b[33m'\u001b[39m\u001b[33m\"\u001b[39m)\n",
      "\u001b[31mOSError\u001b[39m: Cannot save file into a non-existent directory: 'result'"
     ]
    }
   ],
   "source": [
    "missing_sample = event_realtime[~event_realtime['sample_id'].isin(updated_sample_dwh['ak_key_msr_sample'])][['sample_external_id', 'sample_id', 'domain', 'date']].drop_duplicates()\n",
    "print(f'nb missing sample in dwh : {missing_sample[\"sample_external_id\"].nunique()}')\n",
    "missing_sample[['sample_id', 'sample_external_id', 'domain']].to_excel('result/missing_sample_in_dwh_msr.xlsx')\n",
    "missing_sample"
   ]
  },
  {
   "cell_type": "code",
   "execution_count": 41,
   "metadata": {},
   "outputs": [
    {
     "data": {
      "text/html": [
       "<div>\n",
       "<style scoped>\n",
       "    .dataframe tbody tr th:only-of-type {\n",
       "        vertical-align: middle;\n",
       "    }\n",
       "\n",
       "    .dataframe tbody tr th {\n",
       "        vertical-align: top;\n",
       "    }\n",
       "\n",
       "    .dataframe thead th {\n",
       "        text-align: right;\n",
       "    }\n",
       "</style>\n",
       "<table border=\"1\" class=\"dataframe\">\n",
       "  <thead>\n",
       "    <tr style=\"text-align: right;\">\n",
       "      <th></th>\n",
       "      <th>domain</th>\n",
       "      <th>sample_external_id</th>\n",
       "      <th>sample_id</th>\n",
       "      <th>test_id</th>\n",
       "      <th>date</th>\n",
       "    </tr>\n",
       "  </thead>\n",
       "  <tbody>\n",
       "    <tr>\n",
       "      <th>0</th>\n",
       "      <td>MSR_CPC</td>\n",
       "      <td>1847</td>\n",
       "      <td>1847</td>\n",
       "      <td>2344</td>\n",
       "      <td>1</td>\n",
       "    </tr>\n",
       "    <tr>\n",
       "      <th>1</th>\n",
       "      <td>MSR_TI</td>\n",
       "      <td>202</td>\n",
       "      <td>202</td>\n",
       "      <td>206</td>\n",
       "      <td>1</td>\n",
       "    </tr>\n",
       "  </tbody>\n",
       "</table>\n",
       "</div>"
      ],
      "text/plain": [
       "    domain  sample_external_id  sample_id  test_id  date\n",
       "0  MSR_CPC                1847       1847     2344     1\n",
       "1   MSR_TI                 202        202      206     1"
      ]
     },
     "execution_count": 41,
     "metadata": {},
     "output_type": "execute_result"
    }
   ],
   "source": [
    "missing_sample.groupby('domain').nunique().reset_index()"
   ]
  },
  {
   "cell_type": "code",
   "execution_count": 47,
   "metadata": {},
   "outputs": [
    {
     "name": "stdout",
     "output_type": "stream",
     "text": [
      "nb retrived sample in dwh : 411\n"
     ]
    },
    {
     "data": {
      "text/html": [
       "<div>\n",
       "<style scoped>\n",
       "    .dataframe tbody tr th:only-of-type {\n",
       "        vertical-align: middle;\n",
       "    }\n",
       "\n",
       "    .dataframe tbody tr th {\n",
       "        vertical-align: top;\n",
       "    }\n",
       "\n",
       "    .dataframe thead th {\n",
       "        text-align: right;\n",
       "    }\n",
       "</style>\n",
       "<table border=\"1\" class=\"dataframe\">\n",
       "  <thead>\n",
       "    <tr style=\"text-align: right;\">\n",
       "      <th></th>\n",
       "      <th>sample_external_id</th>\n",
       "      <th>sample_id</th>\n",
       "      <th>domain</th>\n",
       "      <th>date</th>\n",
       "    </tr>\n",
       "  </thead>\n",
       "  <tbody>\n",
       "    <tr>\n",
       "      <th>8</th>\n",
       "      <td>588862</td>\n",
       "      <td>20724</td>\n",
       "      <td>MSR_CPC</td>\n",
       "      <td>2025-03-07 00:00:00+00:00</td>\n",
       "    </tr>\n",
       "    <tr>\n",
       "      <th>28</th>\n",
       "      <td>588848</td>\n",
       "      <td>20439</td>\n",
       "      <td>MSR_CPC</td>\n",
       "      <td>2025-03-07 00:00:00+00:00</td>\n",
       "    </tr>\n",
       "    <tr>\n",
       "      <th>30</th>\n",
       "      <td>588903</td>\n",
       "      <td>20277</td>\n",
       "      <td>MSR_CPC</td>\n",
       "      <td>2025-03-07 00:00:00+00:00</td>\n",
       "    </tr>\n",
       "    <tr>\n",
       "      <th>33</th>\n",
       "      <td>588971</td>\n",
       "      <td>21406</td>\n",
       "      <td>MSR_CPC</td>\n",
       "      <td>2025-03-07 00:00:00+00:00</td>\n",
       "    </tr>\n",
       "    <tr>\n",
       "      <th>34</th>\n",
       "      <td>588970</td>\n",
       "      <td>20281</td>\n",
       "      <td>MSR_CPC</td>\n",
       "      <td>2025-03-07 00:00:00+00:00</td>\n",
       "    </tr>\n",
       "    <tr>\n",
       "      <th>...</th>\n",
       "      <td>...</td>\n",
       "      <td>...</td>\n",
       "      <td>...</td>\n",
       "      <td>...</td>\n",
       "    </tr>\n",
       "    <tr>\n",
       "      <th>3039</th>\n",
       "      <td>851995</td>\n",
       "      <td>49452</td>\n",
       "      <td>MSR_TI</td>\n",
       "      <td>2025-03-07 00:00:00+00:00</td>\n",
       "    </tr>\n",
       "    <tr>\n",
       "      <th>3074</th>\n",
       "      <td>588874</td>\n",
       "      <td>21713</td>\n",
       "      <td>MSR_CPC</td>\n",
       "      <td>2025-03-07 00:00:00+00:00</td>\n",
       "    </tr>\n",
       "    <tr>\n",
       "      <th>3087</th>\n",
       "      <td>588942</td>\n",
       "      <td>21780</td>\n",
       "      <td>MSR_CPC</td>\n",
       "      <td>2025-03-07 00:00:00+00:00</td>\n",
       "    </tr>\n",
       "    <tr>\n",
       "      <th>3095</th>\n",
       "      <td>589036</td>\n",
       "      <td>20689</td>\n",
       "      <td>MSR_CPC</td>\n",
       "      <td>2025-03-07 00:00:00+00:00</td>\n",
       "    </tr>\n",
       "    <tr>\n",
       "      <th>3107</th>\n",
       "      <td>805032</td>\n",
       "      <td>17044</td>\n",
       "      <td>MSR_CPC</td>\n",
       "      <td>2025-03-07 00:00:00+00:00</td>\n",
       "    </tr>\n",
       "  </tbody>\n",
       "</table>\n",
       "<p>411 rows × 4 columns</p>\n",
       "</div>"
      ],
      "text/plain": [
       "     sample_external_id sample_id   domain                      date\n",
       "8                588862     20724  MSR_CPC 2025-03-07 00:00:00+00:00\n",
       "28               588848     20439  MSR_CPC 2025-03-07 00:00:00+00:00\n",
       "30               588903     20277  MSR_CPC 2025-03-07 00:00:00+00:00\n",
       "33               588971     21406  MSR_CPC 2025-03-07 00:00:00+00:00\n",
       "34               588970     20281  MSR_CPC 2025-03-07 00:00:00+00:00\n",
       "...                 ...       ...      ...                       ...\n",
       "3039             851995     49452   MSR_TI 2025-03-07 00:00:00+00:00\n",
       "3074             588874     21713  MSR_CPC 2025-03-07 00:00:00+00:00\n",
       "3087             588942     21780  MSR_CPC 2025-03-07 00:00:00+00:00\n",
       "3095             589036     20689  MSR_CPC 2025-03-07 00:00:00+00:00\n",
       "3107             805032     17044  MSR_CPC 2025-03-07 00:00:00+00:00\n",
       "\n",
       "[411 rows x 4 columns]"
      ]
     },
     "execution_count": 47,
     "metadata": {},
     "output_type": "execute_result"
    }
   ],
   "source": [
    "retrieved_sample = event_realtime[event_realtime['sample_id'].isin(updated_sample_dwh['ak_key_msr_sample'])][['sample_external_id', 'sample_id', 'domain', 'date']].drop_duplicates()\n",
    "print(f'nb retrived sample in dwh : {retrieved_sample[\"sample_external_id\"].nunique()}')\n",
    "retrieved_sample[['sample_id', 'sample_external_id', 'domain']].to_excel('result/recovered_sample_in_dwh_msr.xlsx')\n",
    "retrieved_sample"
   ]
  },
  {
   "cell_type": "code",
   "execution_count": 45,
   "metadata": {},
   "outputs": [
    {
     "data": {
      "text/html": [
       "<div>\n",
       "<style scoped>\n",
       "    .dataframe tbody tr th:only-of-type {\n",
       "        vertical-align: middle;\n",
       "    }\n",
       "\n",
       "    .dataframe tbody tr th {\n",
       "        vertical-align: top;\n",
       "    }\n",
       "\n",
       "    .dataframe thead th {\n",
       "        text-align: right;\n",
       "    }\n",
       "</style>\n",
       "<table border=\"1\" class=\"dataframe\">\n",
       "  <thead>\n",
       "    <tr style=\"text-align: right;\">\n",
       "      <th></th>\n",
       "      <th>domain</th>\n",
       "      <th>sample_external_id</th>\n",
       "      <th>sample_id</th>\n",
       "      <th>date</th>\n",
       "    </tr>\n",
       "  </thead>\n",
       "  <tbody>\n",
       "    <tr>\n",
       "      <th>0</th>\n",
       "      <td>MSR_CPC</td>\n",
       "      <td>386</td>\n",
       "      <td>386</td>\n",
       "      <td>1</td>\n",
       "    </tr>\n",
       "    <tr>\n",
       "      <th>1</th>\n",
       "      <td>MSR_TI</td>\n",
       "      <td>25</td>\n",
       "      <td>25</td>\n",
       "      <td>1</td>\n",
       "    </tr>\n",
       "  </tbody>\n",
       "</table>\n",
       "</div>"
      ],
      "text/plain": [
       "    domain  sample_external_id  sample_id  date\n",
       "0  MSR_CPC                 386        386     1\n",
       "1   MSR_TI                  25         25     1"
      ]
     },
     "execution_count": 45,
     "metadata": {},
     "output_type": "execute_result"
    }
   ],
   "source": [
    "retrieved_sample.groupby('domain').nunique().reset_index()"
   ]
  },
  {
   "cell_type": "code",
   "execution_count": 46,
   "metadata": {},
   "outputs": [
    {
     "data": {
      "text/html": [
       "<div>\n",
       "<style scoped>\n",
       "    .dataframe tbody tr th:only-of-type {\n",
       "        vertical-align: middle;\n",
       "    }\n",
       "\n",
       "    .dataframe tbody tr th {\n",
       "        vertical-align: top;\n",
       "    }\n",
       "\n",
       "    .dataframe thead th {\n",
       "        text-align: right;\n",
       "    }\n",
       "</style>\n",
       "<table border=\"1\" class=\"dataframe\">\n",
       "  <thead>\n",
       "    <tr style=\"text-align: right;\">\n",
       "      <th></th>\n",
       "      <th>ak_key_msr_sample</th>\n",
       "      <th>source_code</th>\n",
       "      <th>sys_app_origin</th>\n",
       "      <th>ak_key_msr_test</th>\n",
       "    </tr>\n",
       "  </thead>\n",
       "  <tbody>\n",
       "    <tr>\n",
       "      <th>0</th>\n",
       "      <td>12796</td>\n",
       "      <td>ANALYSE_AULNAY</td>\n",
       "      <td>MSR_CPC</td>\n",
       "      <td>24334</td>\n",
       "    </tr>\n",
       "    <tr>\n",
       "      <th>1</th>\n",
       "      <td>12796</td>\n",
       "      <td>ANALYSE_AULNAY</td>\n",
       "      <td>MSR_CPC</td>\n",
       "      <td>24361</td>\n",
       "    </tr>\n",
       "    <tr>\n",
       "      <th>2</th>\n",
       "      <td>16405</td>\n",
       "      <td>ANALYSE_AULNAY</td>\n",
       "      <td>MSR_CPC</td>\n",
       "      <td>31768</td>\n",
       "    </tr>\n",
       "    <tr>\n",
       "      <th>3</th>\n",
       "      <td>16523</td>\n",
       "      <td>ANALYSE_AULNAY</td>\n",
       "      <td>MSR_CPC</td>\n",
       "      <td>32186</td>\n",
       "    </tr>\n",
       "    <tr>\n",
       "      <th>4</th>\n",
       "      <td>16523</td>\n",
       "      <td>ANALYSE_AULNAY</td>\n",
       "      <td>MSR_CPC</td>\n",
       "      <td>32253</td>\n",
       "    </tr>\n",
       "    <tr>\n",
       "      <th>...</th>\n",
       "      <td>...</td>\n",
       "      <td>...</td>\n",
       "      <td>...</td>\n",
       "      <td>...</td>\n",
       "    </tr>\n",
       "    <tr>\n",
       "      <th>863</th>\n",
       "      <td>16392</td>\n",
       "      <td>ANALYSE_AULNAY</td>\n",
       "      <td>MSR_CPC</td>\n",
       "      <td>31700</td>\n",
       "    </tr>\n",
       "    <tr>\n",
       "      <th>865</th>\n",
       "      <td>12804</td>\n",
       "      <td>ANALYSE_AULNAY</td>\n",
       "      <td>MSR_CPC</td>\n",
       "      <td>24383</td>\n",
       "    </tr>\n",
       "    <tr>\n",
       "      <th>951</th>\n",
       "      <td>12813</td>\n",
       "      <td>ANALYSE_AULNAY</td>\n",
       "      <td>MSR_CPC</td>\n",
       "      <td>24332</td>\n",
       "    </tr>\n",
       "    <tr>\n",
       "      <th>952</th>\n",
       "      <td>12813</td>\n",
       "      <td>ANALYSE_AULNAY</td>\n",
       "      <td>MSR_CPC</td>\n",
       "      <td>24365</td>\n",
       "    </tr>\n",
       "    <tr>\n",
       "      <th>953</th>\n",
       "      <td>12813</td>\n",
       "      <td>ANALYSE_AULNAY</td>\n",
       "      <td>MSR_CPC</td>\n",
       "      <td>24369</td>\n",
       "    </tr>\n",
       "  </tbody>\n",
       "</table>\n",
       "<p>504 rows × 4 columns</p>\n",
       "</div>"
      ],
      "text/plain": [
       "    ak_key_msr_sample     source_code sys_app_origin ak_key_msr_test\n",
       "0               12796  ANALYSE_AULNAY        MSR_CPC           24334\n",
       "1               12796  ANALYSE_AULNAY        MSR_CPC           24361\n",
       "2               16405  ANALYSE_AULNAY        MSR_CPC           31768\n",
       "3               16523  ANALYSE_AULNAY        MSR_CPC           32186\n",
       "4               16523  ANALYSE_AULNAY        MSR_CPC           32253\n",
       "..                ...             ...            ...             ...\n",
       "863             16392  ANALYSE_AULNAY        MSR_CPC           31700\n",
       "865             12804  ANALYSE_AULNAY        MSR_CPC           24383\n",
       "951             12813  ANALYSE_AULNAY        MSR_CPC           24332\n",
       "952             12813  ANALYSE_AULNAY        MSR_CPC           24365\n",
       "953             12813  ANALYSE_AULNAY        MSR_CPC           24369\n",
       "\n",
       "[504 rows x 4 columns]"
      ]
     },
     "execution_count": 46,
     "metadata": {},
     "output_type": "execute_result"
    }
   ],
   "source": [
    "unexpected_sample = updated_sample_dwh[~updated_sample_dwh['ak_key_msr_sample'].isin(event_realtime['sample_id'])]\n",
    "unexpected_sample"
   ]
  },
  {
   "cell_type": "markdown",
   "metadata": {},
   "source": [
    "### 2.2. Test"
   ]
  },
  {
   "cell_type": "code",
   "execution_count": 48,
   "metadata": {},
   "outputs": [
    {
     "name": "stderr",
     "output_type": "stream",
     "text": [
      "/home/user/.local/lib/python3.11/site-packages/google/cloud/bigquery/table.py:1727: UserWarning: BigQuery Storage module not found, fetch data with the REST endpoint instead.\n",
      "  warnings.warn(\n"
     ]
    },
    {
     "name": "stdout",
     "output_type": "stream",
     "text": [
      "nb_updated sample in dwh msr : 2460\n"
     ]
    },
    {
     "data": {
      "text/html": [
       "<div>\n",
       "<style scoped>\n",
       "    .dataframe tbody tr th:only-of-type {\n",
       "        vertical-align: middle;\n",
       "    }\n",
       "\n",
       "    .dataframe tbody tr th {\n",
       "        vertical-align: top;\n",
       "    }\n",
       "\n",
       "    .dataframe thead th {\n",
       "        text-align: right;\n",
       "    }\n",
       "</style>\n",
       "<table border=\"1\" class=\"dataframe\">\n",
       "  <thead>\n",
       "    <tr style=\"text-align: right;\">\n",
       "      <th></th>\n",
       "      <th>sample_external_id</th>\n",
       "      <th>sample_id</th>\n",
       "      <th>test_id</th>\n",
       "      <th>date</th>\n",
       "      <th>domain</th>\n",
       "    </tr>\n",
       "  </thead>\n",
       "  <tbody>\n",
       "    <tr>\n",
       "      <th>0</th>\n",
       "      <td>581020</td>\n",
       "      <td>45920</td>\n",
       "      <td>51988</td>\n",
       "      <td>2025-03-07 00:00:00+00:00</td>\n",
       "      <td>MSR_TI</td>\n",
       "    </tr>\n",
       "    <tr>\n",
       "      <th>1</th>\n",
       "      <td>739880</td>\n",
       "      <td>47801</td>\n",
       "      <td>53901</td>\n",
       "      <td>2025-03-07 00:00:00+00:00</td>\n",
       "      <td>MSR_TI</td>\n",
       "    </tr>\n",
       "    <tr>\n",
       "      <th>2</th>\n",
       "      <td>553586</td>\n",
       "      <td>45641</td>\n",
       "      <td>51709</td>\n",
       "      <td>2025-03-07 00:00:00+00:00</td>\n",
       "      <td>MSR_TI</td>\n",
       "    </tr>\n",
       "    <tr>\n",
       "      <th>3</th>\n",
       "      <td>516308</td>\n",
       "      <td>21731</td>\n",
       "      <td>41798</td>\n",
       "      <td>2025-03-07 00:00:00+00:00</td>\n",
       "      <td>MSR_CPC</td>\n",
       "    </tr>\n",
       "    <tr>\n",
       "      <th>4</th>\n",
       "      <td>651866</td>\n",
       "      <td>20731</td>\n",
       "      <td>40315</td>\n",
       "      <td>2025-03-07 00:00:00+00:00</td>\n",
       "      <td>MSR_CPC</td>\n",
       "    </tr>\n",
       "  </tbody>\n",
       "</table>\n",
       "</div>"
      ],
      "text/plain": [
       "  sample_external_id sample_id test_id                      date   domain\n",
       "0             581020     45920   51988 2025-03-07 00:00:00+00:00   MSR_TI\n",
       "1             739880     47801   53901 2025-03-07 00:00:00+00:00   MSR_TI\n",
       "2             553586     45641   51709 2025-03-07 00:00:00+00:00   MSR_TI\n",
       "3             516308     21731   41798 2025-03-07 00:00:00+00:00  MSR_CPC\n",
       "4             651866     20731   40315 2025-03-07 00:00:00+00:00  MSR_CPC"
      ]
     },
     "execution_count": 48,
     "metadata": {},
     "output_type": "execute_result"
    }
   ],
   "source": [
    "with open(f\"SQL/20250307_analysis/inp_realtime/get_data_from_0703.sql\", \"r\") as sql_file:\n",
    "    sql = sql_file.read()\n",
    "\n",
    "query_job = client.query(sql)\n",
    "event_test_realtime = query_job.to_dataframe().drop_duplicates()\n",
    "nb_sample_realtime = event_test_realtime['sample_id'].nunique()\n",
    "print(f'nb_updated sample in dwh msr : {nb_sample_realtime}')\n",
    "event_test_realtime.head()"
   ]
  },
  {
   "cell_type": "code",
   "execution_count": 34,
   "metadata": {},
   "outputs": [
    {
     "name": "stdout",
     "output_type": "stream",
     "text": [
      "nb missing test in dwh : 2680\n"
     ]
    },
    {
     "data": {
      "text/html": [
       "<div>\n",
       "<style scoped>\n",
       "    .dataframe tbody tr th:only-of-type {\n",
       "        vertical-align: middle;\n",
       "    }\n",
       "\n",
       "    .dataframe tbody tr th {\n",
       "        vertical-align: top;\n",
       "    }\n",
       "\n",
       "    .dataframe thead th {\n",
       "        text-align: right;\n",
       "    }\n",
       "</style>\n",
       "<table border=\"1\" class=\"dataframe\">\n",
       "  <thead>\n",
       "    <tr style=\"text-align: right;\">\n",
       "      <th></th>\n",
       "      <th>sample_external_id</th>\n",
       "      <th>sample_id</th>\n",
       "      <th>test_id</th>\n",
       "      <th>date</th>\n",
       "      <th>domain</th>\n",
       "    </tr>\n",
       "  </thead>\n",
       "  <tbody>\n",
       "    <tr>\n",
       "      <th>0</th>\n",
       "      <td>581020</td>\n",
       "      <td>45920</td>\n",
       "      <td>51988</td>\n",
       "      <td>2025-03-07 00:00:00+00:00</td>\n",
       "      <td>MSR_TI</td>\n",
       "    </tr>\n",
       "    <tr>\n",
       "      <th>1</th>\n",
       "      <td>739880</td>\n",
       "      <td>47801</td>\n",
       "      <td>53901</td>\n",
       "      <td>2025-03-07 00:00:00+00:00</td>\n",
       "      <td>MSR_TI</td>\n",
       "    </tr>\n",
       "    <tr>\n",
       "      <th>2</th>\n",
       "      <td>553586</td>\n",
       "      <td>45641</td>\n",
       "      <td>51709</td>\n",
       "      <td>2025-03-07 00:00:00+00:00</td>\n",
       "      <td>MSR_TI</td>\n",
       "    </tr>\n",
       "    <tr>\n",
       "      <th>3</th>\n",
       "      <td>516308</td>\n",
       "      <td>21731</td>\n",
       "      <td>41798</td>\n",
       "      <td>2025-03-07 00:00:00+00:00</td>\n",
       "      <td>MSR_CPC</td>\n",
       "    </tr>\n",
       "    <tr>\n",
       "      <th>4</th>\n",
       "      <td>651866</td>\n",
       "      <td>20731</td>\n",
       "      <td>40315</td>\n",
       "      <td>2025-03-07 00:00:00+00:00</td>\n",
       "      <td>MSR_CPC</td>\n",
       "    </tr>\n",
       "    <tr>\n",
       "      <th>...</th>\n",
       "      <td>...</td>\n",
       "      <td>...</td>\n",
       "      <td>...</td>\n",
       "      <td>...</td>\n",
       "      <td>...</td>\n",
       "    </tr>\n",
       "    <tr>\n",
       "      <th>3127</th>\n",
       "      <td>836391</td>\n",
       "      <td>20068</td>\n",
       "      <td>39361</td>\n",
       "      <td>2025-03-07 00:00:00+00:00</td>\n",
       "      <td>MSR_CPC</td>\n",
       "    </tr>\n",
       "    <tr>\n",
       "      <th>3128</th>\n",
       "      <td>838099</td>\n",
       "      <td>19962</td>\n",
       "      <td>39072</td>\n",
       "      <td>2025-03-07 00:00:00+00:00</td>\n",
       "      <td>MSR_CPC</td>\n",
       "    </tr>\n",
       "    <tr>\n",
       "      <th>3129</th>\n",
       "      <td>837817</td>\n",
       "      <td>17255</td>\n",
       "      <td>34376</td>\n",
       "      <td>2025-03-07 00:00:00+00:00</td>\n",
       "      <td>MSR_CPC</td>\n",
       "    </tr>\n",
       "    <tr>\n",
       "      <th>3130</th>\n",
       "      <td>795598</td>\n",
       "      <td>15443</td>\n",
       "      <td>37693</td>\n",
       "      <td>2025-03-07 00:00:00+00:00</td>\n",
       "      <td>MSR_CPC</td>\n",
       "    </tr>\n",
       "    <tr>\n",
       "      <th>3131</th>\n",
       "      <td>798430</td>\n",
       "      <td>15176</td>\n",
       "      <td>28998</td>\n",
       "      <td>2025-03-07 00:00:00+00:00</td>\n",
       "      <td>MSR_CPC</td>\n",
       "    </tr>\n",
       "  </tbody>\n",
       "</table>\n",
       "<p>2680 rows × 5 columns</p>\n",
       "</div>"
      ],
      "text/plain": [
       "     sample_external_id sample_id test_id                      date   domain\n",
       "0                581020     45920   51988 2025-03-07 00:00:00+00:00   MSR_TI\n",
       "1                739880     47801   53901 2025-03-07 00:00:00+00:00   MSR_TI\n",
       "2                553586     45641   51709 2025-03-07 00:00:00+00:00   MSR_TI\n",
       "3                516308     21731   41798 2025-03-07 00:00:00+00:00  MSR_CPC\n",
       "4                651866     20731   40315 2025-03-07 00:00:00+00:00  MSR_CPC\n",
       "...                 ...       ...     ...                       ...      ...\n",
       "3127             836391     20068   39361 2025-03-07 00:00:00+00:00  MSR_CPC\n",
       "3128             838099     19962   39072 2025-03-07 00:00:00+00:00  MSR_CPC\n",
       "3129             837817     17255   34376 2025-03-07 00:00:00+00:00  MSR_CPC\n",
       "3130             795598     15443   37693 2025-03-07 00:00:00+00:00  MSR_CPC\n",
       "3131             798430     15176   28998 2025-03-07 00:00:00+00:00  MSR_CPC\n",
       "\n",
       "[2680 rows x 5 columns]"
      ]
     },
     "execution_count": 34,
     "metadata": {},
     "output_type": "execute_result"
    }
   ],
   "source": [
    "missing_test = event_test_realtime[~event_test_realtime['test_id'].isin(updated_sample_dwh['ak_key_msr_test'])]\n",
    "print(f'nb missing test in dwh : {missing_test[\"test_id\"].nunique()}')\n",
    "missing_test[['sample_id', 'sample_external_id', 'test_id', 'domain']].to_excel('result/missing_test_in_dwh_msr.xlsx')\n",
    "missing_test"
   ]
  },
  {
   "cell_type": "code",
   "execution_count": 35,
   "metadata": {},
   "outputs": [
    {
     "data": {
      "text/html": [
       "<div>\n",
       "<style scoped>\n",
       "    .dataframe tbody tr th:only-of-type {\n",
       "        vertical-align: middle;\n",
       "    }\n",
       "\n",
       "    .dataframe tbody tr th {\n",
       "        vertical-align: top;\n",
       "    }\n",
       "\n",
       "    .dataframe thead th {\n",
       "        text-align: right;\n",
       "    }\n",
       "</style>\n",
       "<table border=\"1\" class=\"dataframe\">\n",
       "  <thead>\n",
       "    <tr style=\"text-align: right;\">\n",
       "      <th></th>\n",
       "      <th>domain</th>\n",
       "      <th>sample_external_id</th>\n",
       "      <th>sample_id</th>\n",
       "      <th>test_id</th>\n",
       "      <th>date</th>\n",
       "    </tr>\n",
       "  </thead>\n",
       "  <tbody>\n",
       "    <tr>\n",
       "      <th>0</th>\n",
       "      <td>MSR_CPC</td>\n",
       "      <td>1892</td>\n",
       "      <td>1892</td>\n",
       "      <td>2474</td>\n",
       "      <td>1</td>\n",
       "    </tr>\n",
       "    <tr>\n",
       "      <th>1</th>\n",
       "      <td>MSR_TI</td>\n",
       "      <td>202</td>\n",
       "      <td>202</td>\n",
       "      <td>206</td>\n",
       "      <td>1</td>\n",
       "    </tr>\n",
       "  </tbody>\n",
       "</table>\n",
       "</div>"
      ],
      "text/plain": [
       "    domain  sample_external_id  sample_id  test_id  date\n",
       "0  MSR_CPC                1892       1892     2474     1\n",
       "1   MSR_TI                 202        202      206     1"
      ]
     },
     "execution_count": 35,
     "metadata": {},
     "output_type": "execute_result"
    }
   ],
   "source": [
    "missing_test.groupby('domain').nunique().reset_index()"
   ]
  },
  {
   "cell_type": "code",
   "execution_count": 36,
   "metadata": {},
   "outputs": [
    {
     "name": "stdout",
     "output_type": "stream",
     "text": [
      "nb retrived test in dwh : 452\n"
     ]
    },
    {
     "data": {
      "text/html": [
       "<div>\n",
       "<style scoped>\n",
       "    .dataframe tbody tr th:only-of-type {\n",
       "        vertical-align: middle;\n",
       "    }\n",
       "\n",
       "    .dataframe tbody tr th {\n",
       "        vertical-align: top;\n",
       "    }\n",
       "\n",
       "    .dataframe thead th {\n",
       "        text-align: right;\n",
       "    }\n",
       "</style>\n",
       "<table border=\"1\" class=\"dataframe\">\n",
       "  <thead>\n",
       "    <tr style=\"text-align: right;\">\n",
       "      <th></th>\n",
       "      <th>sample_external_id</th>\n",
       "      <th>sample_id</th>\n",
       "      <th>test_id</th>\n",
       "      <th>date</th>\n",
       "      <th>domain</th>\n",
       "    </tr>\n",
       "  </thead>\n",
       "  <tbody>\n",
       "    <tr>\n",
       "      <th>8</th>\n",
       "      <td>588862</td>\n",
       "      <td>20724</td>\n",
       "      <td>40308</td>\n",
       "      <td>2025-03-07 00:00:00+00:00</td>\n",
       "      <td>MSR_CPC</td>\n",
       "    </tr>\n",
       "    <tr>\n",
       "      <th>28</th>\n",
       "      <td>588848</td>\n",
       "      <td>20439</td>\n",
       "      <td>39910</td>\n",
       "      <td>2025-03-07 00:00:00+00:00</td>\n",
       "      <td>MSR_CPC</td>\n",
       "    </tr>\n",
       "    <tr>\n",
       "      <th>30</th>\n",
       "      <td>588903</td>\n",
       "      <td>20277</td>\n",
       "      <td>39748</td>\n",
       "      <td>2025-03-07 00:00:00+00:00</td>\n",
       "      <td>MSR_CPC</td>\n",
       "    </tr>\n",
       "    <tr>\n",
       "      <th>33</th>\n",
       "      <td>588971</td>\n",
       "      <td>21406</td>\n",
       "      <td>41295</td>\n",
       "      <td>2025-03-07 00:00:00+00:00</td>\n",
       "      <td>MSR_CPC</td>\n",
       "    </tr>\n",
       "    <tr>\n",
       "      <th>34</th>\n",
       "      <td>588970</td>\n",
       "      <td>20281</td>\n",
       "      <td>39752</td>\n",
       "      <td>2025-03-07 00:00:00+00:00</td>\n",
       "      <td>MSR_CPC</td>\n",
       "    </tr>\n",
       "    <tr>\n",
       "      <th>...</th>\n",
       "      <td>...</td>\n",
       "      <td>...</td>\n",
       "      <td>...</td>\n",
       "      <td>...</td>\n",
       "      <td>...</td>\n",
       "    </tr>\n",
       "    <tr>\n",
       "      <th>3095</th>\n",
       "      <td>589036</td>\n",
       "      <td>20689</td>\n",
       "      <td>40271</td>\n",
       "      <td>2025-03-07 00:00:00+00:00</td>\n",
       "      <td>MSR_CPC</td>\n",
       "    </tr>\n",
       "    <tr>\n",
       "      <th>3106</th>\n",
       "      <td>680840</td>\n",
       "      <td>13065</td>\n",
       "      <td>24834</td>\n",
       "      <td>2025-03-07 00:00:00+00:00</td>\n",
       "      <td>MSR_CPC</td>\n",
       "    </tr>\n",
       "    <tr>\n",
       "      <th>3107</th>\n",
       "      <td>805032</td>\n",
       "      <td>17044</td>\n",
       "      <td>34012</td>\n",
       "      <td>2025-03-07 00:00:00+00:00</td>\n",
       "      <td>MSR_CPC</td>\n",
       "    </tr>\n",
       "    <tr>\n",
       "      <th>3114</th>\n",
       "      <td>542552</td>\n",
       "      <td>15779</td>\n",
       "      <td>30037</td>\n",
       "      <td>2025-03-07 00:00:00+00:00</td>\n",
       "      <td>MSR_CPC</td>\n",
       "    </tr>\n",
       "    <tr>\n",
       "      <th>3116</th>\n",
       "      <td>583107</td>\n",
       "      <td>15909</td>\n",
       "      <td>30215</td>\n",
       "      <td>2025-03-07 00:00:00+00:00</td>\n",
       "      <td>MSR_CPC</td>\n",
       "    </tr>\n",
       "  </tbody>\n",
       "</table>\n",
       "<p>452 rows × 5 columns</p>\n",
       "</div>"
      ],
      "text/plain": [
       "     sample_external_id sample_id test_id                      date   domain\n",
       "8                588862     20724   40308 2025-03-07 00:00:00+00:00  MSR_CPC\n",
       "28               588848     20439   39910 2025-03-07 00:00:00+00:00  MSR_CPC\n",
       "30               588903     20277   39748 2025-03-07 00:00:00+00:00  MSR_CPC\n",
       "33               588971     21406   41295 2025-03-07 00:00:00+00:00  MSR_CPC\n",
       "34               588970     20281   39752 2025-03-07 00:00:00+00:00  MSR_CPC\n",
       "...                 ...       ...     ...                       ...      ...\n",
       "3095             589036     20689   40271 2025-03-07 00:00:00+00:00  MSR_CPC\n",
       "3106             680840     13065   24834 2025-03-07 00:00:00+00:00  MSR_CPC\n",
       "3107             805032     17044   34012 2025-03-07 00:00:00+00:00  MSR_CPC\n",
       "3114             542552     15779   30037 2025-03-07 00:00:00+00:00  MSR_CPC\n",
       "3116             583107     15909   30215 2025-03-07 00:00:00+00:00  MSR_CPC\n",
       "\n",
       "[452 rows x 5 columns]"
      ]
     },
     "execution_count": 36,
     "metadata": {},
     "output_type": "execute_result"
    }
   ],
   "source": [
    "retrieved_test = event_test_realtime[event_test_realtime['test_id'].isin(updated_sample_dwh['ak_key_msr_test'])]\n",
    "print(f'nb retrived test in dwh : {retrieved_test[\"test_id\"].nunique()}')\n",
    "retrieved_test[['sample_id', 'sample_external_id', 'test_id', 'domain']].to_excel('result/recovered_test_in_dwh_msr.xlsx')\n",
    "retrieved_test"
   ]
  },
  {
   "cell_type": "code",
   "execution_count": 37,
   "metadata": {},
   "outputs": [
    {
     "data": {
      "text/html": [
       "<div>\n",
       "<style scoped>\n",
       "    .dataframe tbody tr th:only-of-type {\n",
       "        vertical-align: middle;\n",
       "    }\n",
       "\n",
       "    .dataframe tbody tr th {\n",
       "        vertical-align: top;\n",
       "    }\n",
       "\n",
       "    .dataframe thead th {\n",
       "        text-align: right;\n",
       "    }\n",
       "</style>\n",
       "<table border=\"1\" class=\"dataframe\">\n",
       "  <thead>\n",
       "    <tr style=\"text-align: right;\">\n",
       "      <th></th>\n",
       "      <th>domain</th>\n",
       "      <th>sample_external_id</th>\n",
       "      <th>sample_id</th>\n",
       "      <th>test_id</th>\n",
       "      <th>date</th>\n",
       "    </tr>\n",
       "  </thead>\n",
       "  <tbody>\n",
       "    <tr>\n",
       "      <th>0</th>\n",
       "      <td>MSR_CPC</td>\n",
       "      <td>386</td>\n",
       "      <td>386</td>\n",
       "      <td>427</td>\n",
       "      <td>1</td>\n",
       "    </tr>\n",
       "    <tr>\n",
       "      <th>1</th>\n",
       "      <td>MSR_TI</td>\n",
       "      <td>25</td>\n",
       "      <td>25</td>\n",
       "      <td>25</td>\n",
       "      <td>1</td>\n",
       "    </tr>\n",
       "  </tbody>\n",
       "</table>\n",
       "</div>"
      ],
      "text/plain": [
       "    domain  sample_external_id  sample_id  test_id  date\n",
       "0  MSR_CPC                 386        386      427     1\n",
       "1   MSR_TI                  25         25       25     1"
      ]
     },
     "execution_count": 37,
     "metadata": {},
     "output_type": "execute_result"
    }
   ],
   "source": [
    "retrieved_test.groupby('domain').nunique().reset_index()"
   ]
  },
  {
   "cell_type": "code",
   "execution_count": 49,
   "metadata": {},
   "outputs": [
    {
     "data": {
      "text/html": [
       "<div>\n",
       "<style scoped>\n",
       "    .dataframe tbody tr th:only-of-type {\n",
       "        vertical-align: middle;\n",
       "    }\n",
       "\n",
       "    .dataframe tbody tr th {\n",
       "        vertical-align: top;\n",
       "    }\n",
       "\n",
       "    .dataframe thead th {\n",
       "        text-align: right;\n",
       "    }\n",
       "</style>\n",
       "<table border=\"1\" class=\"dataframe\">\n",
       "  <thead>\n",
       "    <tr style=\"text-align: right;\">\n",
       "      <th></th>\n",
       "      <th>ak_key_msr_sample</th>\n",
       "      <th>source_code</th>\n",
       "      <th>sys_app_origin</th>\n",
       "      <th>ak_key_msr_test</th>\n",
       "    </tr>\n",
       "  </thead>\n",
       "  <tbody>\n",
       "    <tr>\n",
       "      <th>0</th>\n",
       "      <td>12796</td>\n",
       "      <td>ANALYSE_AULNAY</td>\n",
       "      <td>MSR_CPC</td>\n",
       "      <td>24334</td>\n",
       "    </tr>\n",
       "    <tr>\n",
       "      <th>1</th>\n",
       "      <td>12796</td>\n",
       "      <td>ANALYSE_AULNAY</td>\n",
       "      <td>MSR_CPC</td>\n",
       "      <td>24361</td>\n",
       "    </tr>\n",
       "    <tr>\n",
       "      <th>2</th>\n",
       "      <td>16405</td>\n",
       "      <td>ANALYSE_AULNAY</td>\n",
       "      <td>MSR_CPC</td>\n",
       "      <td>31768</td>\n",
       "    </tr>\n",
       "    <tr>\n",
       "      <th>3</th>\n",
       "      <td>16523</td>\n",
       "      <td>ANALYSE_AULNAY</td>\n",
       "      <td>MSR_CPC</td>\n",
       "      <td>32186</td>\n",
       "    </tr>\n",
       "    <tr>\n",
       "      <th>4</th>\n",
       "      <td>16523</td>\n",
       "      <td>ANALYSE_AULNAY</td>\n",
       "      <td>MSR_CPC</td>\n",
       "      <td>32253</td>\n",
       "    </tr>\n",
       "    <tr>\n",
       "      <th>...</th>\n",
       "      <td>...</td>\n",
       "      <td>...</td>\n",
       "      <td>...</td>\n",
       "      <td>...</td>\n",
       "    </tr>\n",
       "    <tr>\n",
       "      <th>863</th>\n",
       "      <td>16392</td>\n",
       "      <td>ANALYSE_AULNAY</td>\n",
       "      <td>MSR_CPC</td>\n",
       "      <td>31700</td>\n",
       "    </tr>\n",
       "    <tr>\n",
       "      <th>865</th>\n",
       "      <td>12804</td>\n",
       "      <td>ANALYSE_AULNAY</td>\n",
       "      <td>MSR_CPC</td>\n",
       "      <td>24383</td>\n",
       "    </tr>\n",
       "    <tr>\n",
       "      <th>951</th>\n",
       "      <td>12813</td>\n",
       "      <td>ANALYSE_AULNAY</td>\n",
       "      <td>MSR_CPC</td>\n",
       "      <td>24332</td>\n",
       "    </tr>\n",
       "    <tr>\n",
       "      <th>952</th>\n",
       "      <td>12813</td>\n",
       "      <td>ANALYSE_AULNAY</td>\n",
       "      <td>MSR_CPC</td>\n",
       "      <td>24365</td>\n",
       "    </tr>\n",
       "    <tr>\n",
       "      <th>953</th>\n",
       "      <td>12813</td>\n",
       "      <td>ANALYSE_AULNAY</td>\n",
       "      <td>MSR_CPC</td>\n",
       "      <td>24369</td>\n",
       "    </tr>\n",
       "  </tbody>\n",
       "</table>\n",
       "<p>504 rows × 4 columns</p>\n",
       "</div>"
      ],
      "text/plain": [
       "    ak_key_msr_sample     source_code sys_app_origin ak_key_msr_test\n",
       "0               12796  ANALYSE_AULNAY        MSR_CPC           24334\n",
       "1               12796  ANALYSE_AULNAY        MSR_CPC           24361\n",
       "2               16405  ANALYSE_AULNAY        MSR_CPC           31768\n",
       "3               16523  ANALYSE_AULNAY        MSR_CPC           32186\n",
       "4               16523  ANALYSE_AULNAY        MSR_CPC           32253\n",
       "..                ...             ...            ...             ...\n",
       "863             16392  ANALYSE_AULNAY        MSR_CPC           31700\n",
       "865             12804  ANALYSE_AULNAY        MSR_CPC           24383\n",
       "951             12813  ANALYSE_AULNAY        MSR_CPC           24332\n",
       "952             12813  ANALYSE_AULNAY        MSR_CPC           24365\n",
       "953             12813  ANALYSE_AULNAY        MSR_CPC           24369\n",
       "\n",
       "[504 rows x 4 columns]"
      ]
     },
     "execution_count": 49,
     "metadata": {},
     "output_type": "execute_result"
    }
   ],
   "source": [
    "unexpected_test = updated_sample_dwh[~updated_sample_dwh['ak_key_msr_test'].isin(event_realtime['test_id'])]\n",
    "unexpected_test"
   ]
  },
  {
   "cell_type": "markdown",
   "metadata": {},
   "source": [
    "Comparaison log lims, MS, dwh_lma"
   ]
  }
 ],
 "metadata": {
  "kernelspec": {
   "display_name": "msr_venv2",
   "language": "python",
   "name": "python3"
  },
  "language_info": {
   "codemirror_mode": {
    "name": "ipython",
    "version": 3
   },
   "file_extension": ".py",
   "mimetype": "text/x-python",
   "name": "python",
   "nbconvert_exporter": "python",
   "pygments_lexer": "ipython3",
   "version": "3.11.12"
  }
 },
 "nbformat": 4,
 "nbformat_minor": 2
}
