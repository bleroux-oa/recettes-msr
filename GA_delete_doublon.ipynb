{
 "cells": [
  {
   "cell_type": "markdown",
   "metadata": {},
   "source": [
    "# Comparison deleted data vs duplicated data"
   ]
  },
  {
   "cell_type": "markdown",
   "metadata": {},
   "source": [
    "## 1. Data linked to a deleted sample"
   ]
  },
  {
   "cell_type": "code",
   "execution_count": 1,
   "metadata": {},
   "outputs": [],
   "source": [
    "# ! pip install requirements.txt"
   ]
  },
  {
   "cell_type": "code",
   "execution_count": 25,
   "metadata": {},
   "outputs": [
    {
     "name": "stderr",
     "output_type": "stream",
     "text": [
      "/home/user/.local/lib/python3.11/site-packages/google/auth/_default.py:76: UserWarning: Your application has authenticated using end user credentials from Google Cloud SDK without a quota project. You might receive a \"quota exceeded\" or \"API not enabled\" error. See the following page for troubleshooting: https://cloud.google.com/docs/authentication/adc-troubleshooting/user-creds. \n",
      "  warnings.warn(_CLOUD_SDK_CREDENTIALS_WARNING)\n"
     ]
    },
    {
     "name": "stderr",
     "output_type": "stream",
     "text": [
      "/home/user/.local/lib/python3.11/site-packages/google/auth/_default.py:76: UserWarning: Your application has authenticated using end user credentials from Google Cloud SDK without a quota project. You might receive a \"quota exceeded\" or \"API not enabled\" error. See the following page for troubleshooting: https://cloud.google.com/docs/authentication/adc-troubleshooting/user-creds. \n",
      "  warnings.warn(_CLOUD_SDK_CREDENTIALS_WARNING)\n"
     ]
    }
   ],
   "source": [
    "import pandas as pd\n",
    "import json\n",
    "from google.cloud import storage\n",
    "from google.cloud import bigquery\n",
    "client = bigquery.Client()"
   ]
  },
  {
   "cell_type": "code",
   "execution_count": 26,
   "metadata": {},
   "outputs": [
    {
     "name": "stdout",
     "output_type": "stream",
     "text": [
      "510 deletion events\n"
     ]
    },
    {
     "name": "stderr",
     "output_type": "stream",
     "text": [
      "/home/user/.local/lib/python3.11/site-packages/google/cloud/bigquery/table.py:1727: UserWarning: BigQuery Storage module not found, fetch data with the REST endpoint instead.\n",
      "  warnings.warn(\n"
     ]
    },
    {
     "data": {
      "text/html": [
       "<div>\n",
       "<style scoped>\n",
       "    .dataframe tbody tr th:only-of-type {\n",
       "        vertical-align: middle;\n",
       "    }\n",
       "\n",
       "    .dataframe tbody tr th {\n",
       "        vertical-align: top;\n",
       "    }\n",
       "\n",
       "    .dataframe thead th {\n",
       "        text-align: right;\n",
       "    }\n",
       "</style>\n",
       "<table border=\"1\" class=\"dataframe\">\n",
       "  <thead>\n",
       "    <tr style=\"text-align: right;\">\n",
       "      <th></th>\n",
       "      <th>json_blob</th>\n",
       "    </tr>\n",
       "  </thead>\n",
       "  <tbody>\n",
       "    <tr>\n",
       "      <th>0</th>\n",
       "      <td>{\"event_id\":\"a6a0d570-adf4-4668-bae9-ae3f2bc72...</td>\n",
       "    </tr>\n",
       "    <tr>\n",
       "      <th>1</th>\n",
       "      <td>{\"event_id\":\"727ee08a-dbe1-4ea8-a53f-2c2a5634d...</td>\n",
       "    </tr>\n",
       "    <tr>\n",
       "      <th>2</th>\n",
       "      <td>{\"event_id\":\"09eebb6f-9ae0-4aa4-82e0-1444adce5...</td>\n",
       "    </tr>\n",
       "    <tr>\n",
       "      <th>3</th>\n",
       "      <td>{\"event_id\":\"76667fad-08fe-4040-b97a-ab305b4bd...</td>\n",
       "    </tr>\n",
       "    <tr>\n",
       "      <th>4</th>\n",
       "      <td>{\"event_id\":\"06313a83-7865-4cef-9629-566aaeda2...</td>\n",
       "    </tr>\n",
       "  </tbody>\n",
       "</table>\n",
       "</div>"
      ],
      "text/plain": [
       "                                           json_blob\n",
       "0  {\"event_id\":\"a6a0d570-adf4-4668-bae9-ae3f2bc72...\n",
       "1  {\"event_id\":\"727ee08a-dbe1-4ea8-a53f-2c2a5634d...\n",
       "2  {\"event_id\":\"09eebb6f-9ae0-4aa4-82e0-1444adce5...\n",
       "3  {\"event_id\":\"76667fad-08fe-4040-b97a-ab305b4bd...\n",
       "4  {\"event_id\":\"06313a83-7865-4cef-9629-566aaeda2..."
      ]
     },
     "execution_count": 26,
     "metadata": {},
     "output_type": "execute_result"
    }
   ],
   "source": [
    "with open(f\"SQL/get_delete_events.sql\", \"r\") as sql_file:\n",
    "    sql = sql_file.read()\n",
    "\n",
    "query_job = client.query(sql)\n",
    "delete_events = query_job.to_dataframe().drop_duplicates()\n",
    "nb_events, _ = delete_events.shape\n",
    "print(nb_events, 'deletion events')\n",
    "delete_events.head()"
   ]
  },
  {
   "cell_type": "code",
   "execution_count": 27,
   "metadata": {},
   "outputs": [
    {
     "name": "stdout",
     "output_type": "stream",
     "text": [
      "We have 510 delete events on 437 samples\n"
     ]
    }
   ],
   "source": [
    "deleted_samples = []\n",
    "dates = []\n",
    "for i in range(nb_events):\n",
    "    event = json.loads(delete_events['json_blob'][i])\n",
    "    deleted_samples.append(str(event['data_key']))\n",
    "    dates.append(event['event_date'])\n",
    "\n",
    "deleted_samples = list(set(deleted_samples))\n",
    "nb_u_samples = len(deleted_samples)\n",
    "print(f\"We have {nb_events} delete events on {nb_u_samples} samples\")"
   ]
  },
  {
   "cell_type": "code",
   "execution_count": 28,
   "metadata": {},
   "outputs": [
    {
     "name": "stdout",
     "output_type": "stream",
     "text": [
      "oldest event : 2024-11-11T07:08:54.142Z\n",
      "newest event : 2025-02-27T14:39:32.654Z\n"
     ]
    }
   ],
   "source": [
    "print(f\"oldest event : {sorted(dates)[0]}\") \n",
    "print(f\"newest event : {sorted(dates)[len(dates)-1]}\") "
   ]
  },
  {
   "cell_type": "code",
   "execution_count": 29,
   "metadata": {},
   "outputs": [
    {
     "name": "stderr",
     "output_type": "stream",
     "text": [
      "/home/user/.local/lib/python3.11/site-packages/google/cloud/bigquery/table.py:1727: UserWarning: BigQuery Storage module not found, fetch data with the REST endpoint instead.\n",
      "  warnings.warn(\n"
     ]
    },
    {
     "data": {
      "text/html": [
       "<div>\n",
       "<style scoped>\n",
       "    .dataframe tbody tr th:only-of-type {\n",
       "        vertical-align: middle;\n",
       "    }\n",
       "\n",
       "    .dataframe tbody tr th {\n",
       "        vertical-align: top;\n",
       "    }\n",
       "\n",
       "    .dataframe thead th {\n",
       "        text-align: right;\n",
       "    }\n",
       "</style>\n",
       "<table border=\"1\" class=\"dataframe\">\n",
       "  <thead>\n",
       "    <tr style=\"text-align: right;\">\n",
       "      <th></th>\n",
       "      <th>ak_key_msr_sample</th>\n",
       "      <th>lkp_key_lma_sample</th>\n",
       "      <th>id_msr_sample</th>\n",
       "      <th>ak_key_msr_test</th>\n",
       "      <th>lkp_lma_test</th>\n",
       "      <th>id_msr_test</th>\n",
       "      <th>ak_key_msr_result</th>\n",
       "      <th>lkp_lma_results</th>\n",
       "      <th>id_msr_result</th>\n",
       "    </tr>\n",
       "  </thead>\n",
       "  <tbody>\n",
       "    <tr>\n",
       "      <th>0</th>\n",
       "      <td>19501</td>\n",
       "      <td>650720</td>\n",
       "      <td>44c9cdbd-5cbd-4ca4-9dc4-0379e3618b64</td>\n",
       "      <td>38278</td>\n",
       "      <td>1438059</td>\n",
       "      <td>9a55f99a-3730-4363-8f23-ac929e0cd3f0</td>\n",
       "      <td>72987</td>\n",
       "      <td>47874974</td>\n",
       "      <td>0f2a6273-6c7d-47c3-aebe-ac93a880f35f</td>\n",
       "    </tr>\n",
       "    <tr>\n",
       "      <th>1</th>\n",
       "      <td>19501</td>\n",
       "      <td>650720</td>\n",
       "      <td>44c9cdbd-5cbd-4ca4-9dc4-0379e3618b64</td>\n",
       "      <td>38278</td>\n",
       "      <td>1438059</td>\n",
       "      <td>9a55f99a-3730-4363-8f23-ac929e0cd3f0</td>\n",
       "      <td>72990</td>\n",
       "      <td>51310940</td>\n",
       "      <td>4f8e9486-5750-457d-aa1c-47e2a7dfbacc</td>\n",
       "    </tr>\n",
       "    <tr>\n",
       "      <th>2</th>\n",
       "      <td>19501</td>\n",
       "      <td>650720</td>\n",
       "      <td>44c9cdbd-5cbd-4ca4-9dc4-0379e3618b64</td>\n",
       "      <td>38278</td>\n",
       "      <td>1438059</td>\n",
       "      <td>9a55f99a-3730-4363-8f23-ac929e0cd3f0</td>\n",
       "      <td>72993</td>\n",
       "      <td>47874973</td>\n",
       "      <td>99a0e474-8e66-40ea-8274-b43f505a77ff</td>\n",
       "    </tr>\n",
       "    <tr>\n",
       "      <th>3</th>\n",
       "      <td>19501</td>\n",
       "      <td>650720</td>\n",
       "      <td>44c9cdbd-5cbd-4ca4-9dc4-0379e3618b64</td>\n",
       "      <td>38278</td>\n",
       "      <td>1438059</td>\n",
       "      <td>9a55f99a-3730-4363-8f23-ac929e0cd3f0</td>\n",
       "      <td>72991</td>\n",
       "      <td>47874973</td>\n",
       "      <td>e983e2c4-41b7-430e-937e-e16de48446d6</td>\n",
       "    </tr>\n",
       "    <tr>\n",
       "      <th>4</th>\n",
       "      <td>19501</td>\n",
       "      <td>650720</td>\n",
       "      <td>44c9cdbd-5cbd-4ca4-9dc4-0379e3618b64</td>\n",
       "      <td>38278</td>\n",
       "      <td>1438059</td>\n",
       "      <td>9a55f99a-3730-4363-8f23-ac929e0cd3f0</td>\n",
       "      <td>72992</td>\n",
       "      <td>47874973</td>\n",
       "      <td>e81c0a53-8860-416a-a908-a237c119fced</td>\n",
       "    </tr>\n",
       "  </tbody>\n",
       "</table>\n",
       "</div>"
      ],
      "text/plain": [
       "  ak_key_msr_sample lkp_key_lma_sample                         id_msr_sample  \\\n",
       "0             19501             650720  44c9cdbd-5cbd-4ca4-9dc4-0379e3618b64   \n",
       "1             19501             650720  44c9cdbd-5cbd-4ca4-9dc4-0379e3618b64   \n",
       "2             19501             650720  44c9cdbd-5cbd-4ca4-9dc4-0379e3618b64   \n",
       "3             19501             650720  44c9cdbd-5cbd-4ca4-9dc4-0379e3618b64   \n",
       "4             19501             650720  44c9cdbd-5cbd-4ca4-9dc4-0379e3618b64   \n",
       "\n",
       "  ak_key_msr_test lkp_lma_test                           id_msr_test  \\\n",
       "0           38278      1438059  9a55f99a-3730-4363-8f23-ac929e0cd3f0   \n",
       "1           38278      1438059  9a55f99a-3730-4363-8f23-ac929e0cd3f0   \n",
       "2           38278      1438059  9a55f99a-3730-4363-8f23-ac929e0cd3f0   \n",
       "3           38278      1438059  9a55f99a-3730-4363-8f23-ac929e0cd3f0   \n",
       "4           38278      1438059  9a55f99a-3730-4363-8f23-ac929e0cd3f0   \n",
       "\n",
       "  ak_key_msr_result lkp_lma_results                         id_msr_result  \n",
       "0             72987        47874974  0f2a6273-6c7d-47c3-aebe-ac93a880f35f  \n",
       "1             72990        51310940  4f8e9486-5750-457d-aa1c-47e2a7dfbacc  \n",
       "2             72993        47874973  99a0e474-8e66-40ea-8274-b43f505a77ff  \n",
       "3             72991        47874973  e983e2c4-41b7-430e-937e-e16de48446d6  \n",
       "4             72992        47874973  e81c0a53-8860-416a-a908-a237c119fced  "
      ]
     },
     "execution_count": 29,
     "metadata": {},
     "output_type": "execute_result"
    }
   ],
   "source": [
    "with open(f\"SQL/dwh_msr/get_sample_test_result.sql\", \"r\") as sql_file:\n",
    "    sql_template = sql_file.read()\n",
    "\n",
    "sql = sql_template.replace(\"{samples}\", str(tuple(deleted_samples)))\n",
    "\n",
    "query_job = client.query(sql)\n",
    "all_data = query_job.to_dataframe().drop_duplicates()\n",
    "all_data.head()"
   ]
  },
  {
   "cell_type": "code",
   "execution_count": 30,
   "metadata": {},
   "outputs": [
    {
     "name": "stdout",
     "output_type": "stream",
     "text": [
      "Number of deleted lma sample : 473\n",
      "\n",
      "7865 lkp_lma_results in 463 lkp_lma_test are linked to a deleted sample\n"
     ]
    }
   ],
   "source": [
    "impacted_lma_sample = all_data['lkp_key_lma_sample'].drop_duplicates()\n",
    "print(f\"Number of deleted lma sample : {all_data['lkp_key_lma_sample'].nunique()}\\n\")\n",
    "impacted_lma_test = all_data['lkp_lma_test'].drop_duplicates()\n",
    "impacted_lma_res = all_data['lkp_lma_results'].drop_duplicates()\n",
    "print(f\"{all_data['lkp_lma_results'].nunique()} lkp_lma_results in {all_data['lkp_lma_test'].nunique()} lkp_lma_test are linked to a deleted sample\")"
   ]
  },
  {
   "cell_type": "markdown",
   "metadata": {},
   "source": [
    "## 2. Duplicated data in msr dwh"
   ]
  },
  {
   "cell_type": "markdown",
   "metadata": {},
   "source": [
    "### 2.1 Sample"
   ]
  },
  {
   "cell_type": "code",
   "execution_count": 53,
   "metadata": {},
   "outputs": [
    {
     "name": "stdout",
     "output_type": "stream",
     "text": [
      "11693 lkp_lma_sample with several ak_key_msr_sample\n"
     ]
    }
   ],
   "source": [
    "want_to_group_also_by_version = True\n",
    "version = 's.ver_lma_sample,' if want_to_group_also_by_version else ''\n",
    "\n",
    "with open(f\"SQL/dwh_msr/get_duplicated_sample.sql\", \"r\") as sql_file:\n",
    "    sql_template = sql_file.read()\n",
    "\n",
    "sql = sql_template.replace(\"{version}\", version)\n",
    "query_job = client.query(sql)\n",
    "duplicated_samples = query_job.to_dataframe().drop_duplicates()\n",
    "nb_duplicated_sample = duplicated_samples['lkp_key_lma_sample'].nunique()\n",
    "print(nb_duplicated_sample, 'lkp_lma_sample with several ak_key_msr_sample')"
   ]
  },
  {
   "cell_type": "code",
   "execution_count": 54,
   "metadata": {},
   "outputs": [
    {
     "name": "stdout",
     "output_type": "stream",
     "text": [
      "11304 lma_res with several msr_res without any deleted sample\n"
     ]
    },
    {
     "data": {
      "text/html": [
       "<div>\n",
       "<style scoped>\n",
       "    .dataframe tbody tr th:only-of-type {\n",
       "        vertical-align: middle;\n",
       "    }\n",
       "\n",
       "    .dataframe tbody tr th {\n",
       "        vertical-align: top;\n",
       "    }\n",
       "\n",
       "    .dataframe thead th {\n",
       "        text-align: right;\n",
       "    }\n",
       "</style>\n",
       "<table border=\"1\" class=\"dataframe\">\n",
       "  <thead>\n",
       "    <tr style=\"text-align: right;\">\n",
       "      <th></th>\n",
       "      <th>ver_lma_sample</th>\n",
       "      <th>lkp_key_lma_sample</th>\n",
       "      <th>nb_msr_sample</th>\n",
       "    </tr>\n",
       "  </thead>\n",
       "  <tbody>\n",
       "    <tr>\n",
       "      <th>33</th>\n",
       "      <td>2</td>\n",
       "      <td>702445</td>\n",
       "      <td>6</td>\n",
       "    </tr>\n",
       "    <tr>\n",
       "      <th>332</th>\n",
       "      <td>2</td>\n",
       "      <td>314716</td>\n",
       "      <td>5</td>\n",
       "    </tr>\n",
       "    <tr>\n",
       "      <th>333</th>\n",
       "      <td>2</td>\n",
       "      <td>277905</td>\n",
       "      <td>5</td>\n",
       "    </tr>\n",
       "    <tr>\n",
       "      <th>335</th>\n",
       "      <td>2</td>\n",
       "      <td>620270</td>\n",
       "      <td>5</td>\n",
       "    </tr>\n",
       "    <tr>\n",
       "      <th>336</th>\n",
       "      <td>2</td>\n",
       "      <td>304881</td>\n",
       "      <td>5</td>\n",
       "    </tr>\n",
       "  </tbody>\n",
       "</table>\n",
       "</div>"
      ],
      "text/plain": [
       "     ver_lma_sample lkp_key_lma_sample  nb_msr_sample\n",
       "33                2             702445              6\n",
       "332               2             314716              5\n",
       "333               2             277905              5\n",
       "335               2             620270              5\n",
       "336               2             304881              5"
      ]
     },
     "execution_count": 54,
     "metadata": {},
     "output_type": "execute_result"
    }
   ],
   "source": [
    "duplicated_sample_not_deleted = duplicated_samples[~duplicated_samples['lkp_key_lma_sample'].isin(impacted_lma_sample)]\n",
    "print(f\"{duplicated_sample_not_deleted['lkp_key_lma_sample'].nunique()} lma_res with several msr_res without any deleted sample\")\n",
    "duplicated_sample_not_deleted.head()"
   ]
  },
  {
   "cell_type": "code",
   "execution_count": 55,
   "metadata": {},
   "outputs": [
    {
     "name": "stdout",
     "output_type": "stream",
     "text": [
      "389 lma_sample with several msr_sample with a deleted sample event\n"
     ]
    },
    {
     "data": {
      "text/html": [
       "<div>\n",
       "<style scoped>\n",
       "    .dataframe tbody tr th:only-of-type {\n",
       "        vertical-align: middle;\n",
       "    }\n",
       "\n",
       "    .dataframe tbody tr th {\n",
       "        vertical-align: top;\n",
       "    }\n",
       "\n",
       "    .dataframe thead th {\n",
       "        text-align: right;\n",
       "    }\n",
       "</style>\n",
       "<table border=\"1\" class=\"dataframe\">\n",
       "  <thead>\n",
       "    <tr style=\"text-align: right;\">\n",
       "      <th></th>\n",
       "      <th>ver_lma_sample</th>\n",
       "      <th>lkp_key_lma_sample</th>\n",
       "      <th>nb_msr_sample</th>\n",
       "    </tr>\n",
       "  </thead>\n",
       "  <tbody>\n",
       "    <tr>\n",
       "      <th>0</th>\n",
       "      <td>5</td>\n",
       "      <td>788123</td>\n",
       "      <td>7</td>\n",
       "    </tr>\n",
       "    <tr>\n",
       "      <th>1</th>\n",
       "      <td>4</td>\n",
       "      <td>783751</td>\n",
       "      <td>6</td>\n",
       "    </tr>\n",
       "    <tr>\n",
       "      <th>2</th>\n",
       "      <td>4</td>\n",
       "      <td>804262</td>\n",
       "      <td>6</td>\n",
       "    </tr>\n",
       "    <tr>\n",
       "      <th>3</th>\n",
       "      <td>4</td>\n",
       "      <td>795842</td>\n",
       "      <td>6</td>\n",
       "    </tr>\n",
       "    <tr>\n",
       "      <th>4</th>\n",
       "      <td>4</td>\n",
       "      <td>804260</td>\n",
       "      <td>6</td>\n",
       "    </tr>\n",
       "  </tbody>\n",
       "</table>\n",
       "</div>"
      ],
      "text/plain": [
       "   ver_lma_sample lkp_key_lma_sample  nb_msr_sample\n",
       "0               5             788123              7\n",
       "1               4             783751              6\n",
       "2               4             804262              6\n",
       "3               4             795842              6\n",
       "4               4             804260              6"
      ]
     },
     "execution_count": 55,
     "metadata": {},
     "output_type": "execute_result"
    }
   ],
   "source": [
    "duplicated_sample_w_deleted_sample = duplicated_samples[duplicated_samples['lkp_key_lma_sample'].isin(impacted_lma_sample)]\n",
    "print(f\"{duplicated_sample_w_deleted_sample['lkp_key_lma_sample'].nunique()} lma_sample with several msr_sample with a deleted sample event\")\n",
    "duplicated_sample_w_deleted_sample.head()"
   ]
  },
  {
   "cell_type": "code",
   "execution_count": 34,
   "metadata": {},
   "outputs": [
    {
     "name": "stdout",
     "output_type": "stream",
     "text": [
      "duplicated sample are due to delete events less than 3.82 % of the time\n"
     ]
    }
   ],
   "source": [
    "pc = round(100 * len(duplicated_sample_w_deleted_sample) / nb_duplicated_sample, 2)\n",
    "print(f'duplicated sample are due to delete events less than {pc} % of the time')"
   ]
  },
  {
   "cell_type": "code",
   "execution_count": 35,
   "metadata": {},
   "outputs": [
    {
     "name": "stdout",
     "output_type": "stream",
     "text": [
      "78.86% of deleted sample are duplicated\n"
     ]
    }
   ],
   "source": [
    "pc = round(100 * len(duplicated_sample_w_deleted_sample) / len(impacted_lma_sample), 2)\n",
    "print(f'{pc}% of deleted sample are duplicated')"
   ]
  },
  {
   "cell_type": "code",
   "execution_count": 36,
   "metadata": {},
   "outputs": [
    {
     "name": "stdout",
     "output_type": "stream",
     "text": [
      "example of a lkp_key_msr_sample linked to a deleted ak_key_msr_sample without generate duplication troubles : 650720\n"
     ]
    }
   ],
   "source": [
    "for sample in impacted_lma_sample :\n",
    "    if sample not in duplicated_samples['lkp_key_lma_sample'].to_list():\n",
    "        print('example of a lkp_key_msr_sample linked to a deleted ak_key_msr_sample without generate duplication troubles :', sample  )\n",
    "        break"
   ]
  },
  {
   "cell_type": "markdown",
   "metadata": {},
   "source": [
    "### 2.2 Test"
   ]
  },
  {
   "cell_type": "code",
   "execution_count": 37,
   "metadata": {},
   "outputs": [
    {
     "name": "stderr",
     "output_type": "stream",
     "text": [
      "/home/user/.local/lib/python3.11/site-packages/google/cloud/bigquery/table.py:1727: UserWarning: BigQuery Storage module not found, fetch data with the REST endpoint instead.\n",
      "  warnings.warn(\n"
     ]
    },
    {
     "name": "stdout",
     "output_type": "stream",
     "text": [
      "10579 lkp_lma_test with several ak_key_msr_test\n"
     ]
    }
   ],
   "source": [
    "want_to_group_also_by_version = True\n",
    "version = 't.ver_lma_test,' if want_to_group_also_by_version else ''\n",
    "\n",
    "with open(f\"SQL/dwh_msr/get_duplicated_test.sql\", \"r\") as sql_file:\n",
    "    sql_template = sql_file.read()\n",
    "\n",
    "sql = sql_template.replace(\"{version}\", version)\n",
    "query_job = client.query(sql)\n",
    "duplicated_tests = query_job.to_dataframe().drop_duplicates()\n",
    "nb_duplicated_test = duplicated_tests['lkp_lma_test'].nunique()\n",
    "print(nb_duplicated_test, 'lkp_lma_test with several ak_key_msr_test')"
   ]
  },
  {
   "cell_type": "code",
   "execution_count": 38,
   "metadata": {},
   "outputs": [
    {
     "name": "stdout",
     "output_type": "stream",
     "text": [
      "10205 lma_res with several msr_res without any deleted sample\n"
     ]
    },
    {
     "data": {
      "text/html": [
       "<div>\n",
       "<style scoped>\n",
       "    .dataframe tbody tr th:only-of-type {\n",
       "        vertical-align: middle;\n",
       "    }\n",
       "\n",
       "    .dataframe tbody tr th {\n",
       "        vertical-align: top;\n",
       "    }\n",
       "\n",
       "    .dataframe thead th {\n",
       "        text-align: right;\n",
       "    }\n",
       "</style>\n",
       "<table border=\"1\" class=\"dataframe\">\n",
       "  <thead>\n",
       "    <tr style=\"text-align: right;\">\n",
       "      <th></th>\n",
       "      <th>ver_lma_test</th>\n",
       "      <th>lkp_lma_test</th>\n",
       "      <th>nb_msr_test</th>\n",
       "    </tr>\n",
       "  </thead>\n",
       "  <tbody>\n",
       "    <tr>\n",
       "      <th>8</th>\n",
       "      <td>6</td>\n",
       "      <td>536436</td>\n",
       "      <td>3</td>\n",
       "    </tr>\n",
       "    <tr>\n",
       "      <th>10</th>\n",
       "      <td>6</td>\n",
       "      <td>510570</td>\n",
       "      <td>3</td>\n",
       "    </tr>\n",
       "    <tr>\n",
       "      <th>14</th>\n",
       "      <td>5</td>\n",
       "      <td>458341</td>\n",
       "      <td>3</td>\n",
       "    </tr>\n",
       "    <tr>\n",
       "      <th>17</th>\n",
       "      <td>6</td>\n",
       "      <td>493532</td>\n",
       "      <td>3</td>\n",
       "    </tr>\n",
       "    <tr>\n",
       "      <th>22</th>\n",
       "      <td>5</td>\n",
       "      <td>539072</td>\n",
       "      <td>3</td>\n",
       "    </tr>\n",
       "  </tbody>\n",
       "</table>\n",
       "</div>"
      ],
      "text/plain": [
       "    ver_lma_test lkp_lma_test  nb_msr_test\n",
       "8              6       536436            3\n",
       "10             6       510570            3\n",
       "14             5       458341            3\n",
       "17             6       493532            3\n",
       "22             5       539072            3"
      ]
     },
     "execution_count": 38,
     "metadata": {},
     "output_type": "execute_result"
    }
   ],
   "source": [
    "duplicated_test_not_deleted = duplicated_tests[~duplicated_tests['lkp_lma_test'].isin(impacted_lma_test)]\n",
    "print(f\"{duplicated_test_not_deleted['lkp_lma_test'].nunique()} lma_res with several msr_res without any deleted sample\")\n",
    "duplicated_test_not_deleted.head()"
   ]
  },
  {
   "cell_type": "code",
   "execution_count": 39,
   "metadata": {},
   "outputs": [
    {
     "name": "stdout",
     "output_type": "stream",
     "text": [
      "374 lma_test with several msr_test with a deleted sample event\n"
     ]
    },
    {
     "data": {
      "text/html": [
       "<div>\n",
       "<style scoped>\n",
       "    .dataframe tbody tr th:only-of-type {\n",
       "        vertical-align: middle;\n",
       "    }\n",
       "\n",
       "    .dataframe tbody tr th {\n",
       "        vertical-align: top;\n",
       "    }\n",
       "\n",
       "    .dataframe thead th {\n",
       "        text-align: right;\n",
       "    }\n",
       "</style>\n",
       "<table border=\"1\" class=\"dataframe\">\n",
       "  <thead>\n",
       "    <tr style=\"text-align: right;\">\n",
       "      <th></th>\n",
       "      <th>ver_lma_test</th>\n",
       "      <th>lkp_lma_test</th>\n",
       "      <th>nb_msr_test</th>\n",
       "    </tr>\n",
       "  </thead>\n",
       "  <tbody>\n",
       "    <tr>\n",
       "      <th>0</th>\n",
       "      <td>7</td>\n",
       "      <td>1523483</td>\n",
       "      <td>4</td>\n",
       "    </tr>\n",
       "    <tr>\n",
       "      <th>1</th>\n",
       "      <td>4</td>\n",
       "      <td>1662699</td>\n",
       "      <td>4</td>\n",
       "    </tr>\n",
       "    <tr>\n",
       "      <th>2</th>\n",
       "      <td>4</td>\n",
       "      <td>1662698</td>\n",
       "      <td>4</td>\n",
       "    </tr>\n",
       "    <tr>\n",
       "      <th>3</th>\n",
       "      <td>4</td>\n",
       "      <td>1662697</td>\n",
       "      <td>4</td>\n",
       "    </tr>\n",
       "    <tr>\n",
       "      <th>4</th>\n",
       "      <td>4</td>\n",
       "      <td>1662700</td>\n",
       "      <td>4</td>\n",
       "    </tr>\n",
       "  </tbody>\n",
       "</table>\n",
       "</div>"
      ],
      "text/plain": [
       "   ver_lma_test lkp_lma_test  nb_msr_test\n",
       "0             7      1523483            4\n",
       "1             4      1662699            4\n",
       "2             4      1662698            4\n",
       "3             4      1662697            4\n",
       "4             4      1662700            4"
      ]
     },
     "execution_count": 39,
     "metadata": {},
     "output_type": "execute_result"
    }
   ],
   "source": [
    "duplicated_test_w_deleted_sample = duplicated_tests[duplicated_tests['lkp_lma_test'].isin(impacted_lma_test)]\n",
    "print(f\"{duplicated_test_w_deleted_sample['lkp_lma_test'].nunique()} lma_test with several msr_test with a deleted sample event\")\n",
    "duplicated_test_w_deleted_sample.head()"
   ]
  },
  {
   "cell_type": "code",
   "execution_count": 40,
   "metadata": {},
   "outputs": [
    {
     "name": "stdout",
     "output_type": "stream",
     "text": [
      "duplicated test are due to delete events less than 4 % of the time\n"
     ]
    }
   ],
   "source": [
    "pc = round(100 * duplicated_test_w_deleted_sample['lkp_lma_test'].nunique() / nb_duplicated_test)\n",
    "print(f'duplicated test are due to delete events less than {pc} % of the time')"
   ]
  },
  {
   "cell_type": "code",
   "execution_count": 41,
   "metadata": {},
   "outputs": [
    {
     "name": "stdout",
     "output_type": "stream",
     "text": [
      "80.6% of deleted sample are duplicated\n"
     ]
    }
   ],
   "source": [
    "pc = round(100 * duplicated_test_w_deleted_sample['lkp_lma_test'].nunique() / len(impacted_lma_test), 2)\n",
    "print(f'{pc}% of deleted sample are duplicated')"
   ]
  },
  {
   "cell_type": "markdown",
   "metadata": {},
   "source": [
    "### 2.3 Results"
   ]
  },
  {
   "cell_type": "code",
   "execution_count": 42,
   "metadata": {},
   "outputs": [
    {
     "name": "stderr",
     "output_type": "stream",
     "text": [
      "/home/user/.local/lib/python3.11/site-packages/google/cloud/bigquery/table.py:1727: UserWarning: BigQuery Storage module not found, fetch data with the REST endpoint instead.\n",
      "  warnings.warn(\n"
     ]
    },
    {
     "name": "stdout",
     "output_type": "stream",
     "text": [
      "176173 lkp_lma_results with several ak_key_msr_result\n"
     ]
    }
   ],
   "source": [
    "want_to_group_also_by_version = True\n",
    "version = 'r.ver_lma_results,' if want_to_group_also_by_version else ''\n",
    "\n",
    "with open(f\"SQL/dwh_msr/get_duplicated_results.sql\", \"r\") as sql_file:\n",
    "    sql_template = sql_file.read()\n",
    "\n",
    "sql = sql_template.replace(\"{version}\", version)\n",
    "query_job = client.query(sql)\n",
    "duplicated_resuts = query_job.to_dataframe().drop_duplicates()\n",
    "nb_duplicated_result = duplicated_resuts['lkp_lma_results'].nunique()\n",
    "print(nb_duplicated_result, 'lkp_lma_results with several ak_key_msr_result')"
   ]
  },
  {
   "cell_type": "code",
   "execution_count": 43,
   "metadata": {},
   "outputs": [
    {
     "name": "stdout",
     "output_type": "stream",
     "text": [
      "168548 lma_res with several msr_res without any deleted sample\n"
     ]
    },
    {
     "data": {
      "text/html": [
       "<div>\n",
       "<style scoped>\n",
       "    .dataframe tbody tr th:only-of-type {\n",
       "        vertical-align: middle;\n",
       "    }\n",
       "\n",
       "    .dataframe tbody tr th {\n",
       "        vertical-align: top;\n",
       "    }\n",
       "\n",
       "    .dataframe thead th {\n",
       "        text-align: right;\n",
       "    }\n",
       "</style>\n",
       "<table border=\"1\" class=\"dataframe\">\n",
       "  <thead>\n",
       "    <tr style=\"text-align: right;\">\n",
       "      <th></th>\n",
       "      <th>ver_lma_results</th>\n",
       "      <th>lkp_lma_results</th>\n",
       "      <th>nb_msr_res</th>\n",
       "    </tr>\n",
       "  </thead>\n",
       "  <tbody>\n",
       "    <tr>\n",
       "      <th>0</th>\n",
       "      <td>11</td>\n",
       "      <td>51308514</td>\n",
       "      <td>6</td>\n",
       "    </tr>\n",
       "    <tr>\n",
       "      <th>1</th>\n",
       "      <td>11</td>\n",
       "      <td>51308513</td>\n",
       "      <td>4</td>\n",
       "    </tr>\n",
       "    <tr>\n",
       "      <th>199</th>\n",
       "      <td>10</td>\n",
       "      <td>47875741</td>\n",
       "      <td>3</td>\n",
       "    </tr>\n",
       "    <tr>\n",
       "      <th>200</th>\n",
       "      <td>10</td>\n",
       "      <td>47875334</td>\n",
       "      <td>3</td>\n",
       "    </tr>\n",
       "    <tr>\n",
       "      <th>201</th>\n",
       "      <td>10</td>\n",
       "      <td>47874676</td>\n",
       "      <td>3</td>\n",
       "    </tr>\n",
       "  </tbody>\n",
       "</table>\n",
       "</div>"
      ],
      "text/plain": [
       "     ver_lma_results lkp_lma_results  nb_msr_res\n",
       "0                 11        51308514           6\n",
       "1                 11        51308513           4\n",
       "199               10        47875741           3\n",
       "200               10        47875334           3\n",
       "201               10        47874676           3"
      ]
     },
     "execution_count": 43,
     "metadata": {},
     "output_type": "execute_result"
    }
   ],
   "source": [
    "duplicated_resuts_not_deleted = duplicated_resuts[~duplicated_resuts['lkp_lma_results'].isin(impacted_lma_res)]\n",
    "print(f\"{duplicated_resuts_not_deleted['lkp_lma_results'].nunique()} lma_res with several msr_res without any deleted sample\")\n",
    "duplicated_resuts_not_deleted.head()"
   ]
  },
  {
   "cell_type": "code",
   "execution_count": 44,
   "metadata": {},
   "outputs": [
    {
     "name": "stdout",
     "output_type": "stream",
     "text": [
      "7625 lma_res with several msr_res with a deleted sample event\n"
     ]
    },
    {
     "data": {
      "text/html": [
       "<div>\n",
       "<style scoped>\n",
       "    .dataframe tbody tr th:only-of-type {\n",
       "        vertical-align: middle;\n",
       "    }\n",
       "\n",
       "    .dataframe tbody tr th {\n",
       "        vertical-align: top;\n",
       "    }\n",
       "\n",
       "    .dataframe thead th {\n",
       "        text-align: right;\n",
       "    }\n",
       "</style>\n",
       "<table border=\"1\" class=\"dataframe\">\n",
       "  <thead>\n",
       "    <tr style=\"text-align: right;\">\n",
       "      <th></th>\n",
       "      <th>ver_lma_results</th>\n",
       "      <th>lkp_lma_results</th>\n",
       "      <th>nb_msr_res</th>\n",
       "    </tr>\n",
       "  </thead>\n",
       "  <tbody>\n",
       "    <tr>\n",
       "      <th>2</th>\n",
       "      <td>150</td>\n",
       "      <td>55503187</td>\n",
       "      <td>4</td>\n",
       "    </tr>\n",
       "    <tr>\n",
       "      <th>3</th>\n",
       "      <td>154</td>\n",
       "      <td>55503147</td>\n",
       "      <td>4</td>\n",
       "    </tr>\n",
       "    <tr>\n",
       "      <th>4</th>\n",
       "      <td>173</td>\n",
       "      <td>55503107</td>\n",
       "      <td>4</td>\n",
       "    </tr>\n",
       "    <tr>\n",
       "      <th>5</th>\n",
       "      <td>166</td>\n",
       "      <td>55503127</td>\n",
       "      <td>4</td>\n",
       "    </tr>\n",
       "    <tr>\n",
       "      <th>6</th>\n",
       "      <td>156</td>\n",
       "      <td>55503098</td>\n",
       "      <td>4</td>\n",
       "    </tr>\n",
       "  </tbody>\n",
       "</table>\n",
       "</div>"
      ],
      "text/plain": [
       "   ver_lma_results lkp_lma_results  nb_msr_res\n",
       "2              150        55503187           4\n",
       "3              154        55503147           4\n",
       "4              173        55503107           4\n",
       "5              166        55503127           4\n",
       "6              156        55503098           4"
      ]
     },
     "execution_count": 44,
     "metadata": {},
     "output_type": "execute_result"
    }
   ],
   "source": [
    "duplicated_resuts_w_deleted_sample = duplicated_resuts[duplicated_resuts['lkp_lma_results'].isin(impacted_lma_res)]\n",
    "print(f\"{duplicated_resuts_w_deleted_sample['lkp_lma_results'].nunique()} lma_res with several msr_res with a deleted sample event\")\n",
    "duplicated_resuts_w_deleted_sample.head()"
   ]
  },
  {
   "cell_type": "code",
   "execution_count": 45,
   "metadata": {},
   "outputs": [
    {
     "name": "stdout",
     "output_type": "stream",
     "text": [
      "duplicated results are due to delete events less than 6 % of the time\n"
     ]
    }
   ],
   "source": [
    "pc = round(100 * len(duplicated_resuts_w_deleted_sample) / nb_duplicated_result)\n",
    "print(f'duplicated results are due to delete events less than {pc} % of the time')"
   ]
  },
  {
   "cell_type": "code",
   "execution_count": 46,
   "metadata": {},
   "outputs": [
    {
     "name": "stdout",
     "output_type": "stream",
     "text": [
      "80.6% of deleted sample are duplicated\n"
     ]
    }
   ],
   "source": [
    "pc = round(100 * duplicated_test_w_deleted_sample['lkp_lma_test'].nunique() / len(impacted_lma_test), 2)\n",
    "print(f'{pc}% of deleted sample are duplicated')"
   ]
  },
  {
   "cell_type": "markdown",
   "metadata": {},
   "source": [
    "## 3. Comparison with lims output"
   ]
  },
  {
   "cell_type": "code",
   "execution_count": 48,
   "metadata": {},
   "outputs": [],
   "source": [
    "lims_output_sample = pd.read_excel(\"Data/RM PCP LIMS - samples.xlsx\")"
   ]
  },
  {
   "cell_type": "code",
   "execution_count": 49,
   "metadata": {},
   "outputs": [
    {
     "data": {
      "text/html": [
       "<div>\n",
       "<style scoped>\n",
       "    .dataframe tbody tr th:only-of-type {\n",
       "        vertical-align: middle;\n",
       "    }\n",
       "\n",
       "    .dataframe tbody tr th {\n",
       "        vertical-align: top;\n",
       "    }\n",
       "\n",
       "    .dataframe thead th {\n",
       "        text-align: right;\n",
       "    }\n",
       "</style>\n",
       "<table border=\"1\" class=\"dataframe\">\n",
       "  <thead>\n",
       "    <tr style=\"text-align: right;\">\n",
       "      <th></th>\n",
       "      <th>id</th>\n",
       "      <th>sample_type</th>\n",
       "      <th>external_id</th>\n",
       "      <th>sample_code</th>\n",
       "      <th>fabrication_code</th>\n",
       "      <th>batch_code_number</th>\n",
       "      <th>batch_code_supplier</th>\n",
       "      <th>sample_ec_code</th>\n",
       "      <th>sample_smiles_code</th>\n",
       "      <th>created_at</th>\n",
       "      <th>updated_at</th>\n",
       "    </tr>\n",
       "  </thead>\n",
       "  <tbody>\n",
       "    <tr>\n",
       "      <th>0</th>\n",
       "      <td>22212</td>\n",
       "      <td>Refcomm</td>\n",
       "      <td>849910</td>\n",
       "      <td>55194284</td>\n",
       "      <td>B0000192703</td>\n",
       "      <td>B0000192703-00001231001</td>\n",
       "      <td>00001231001</td>\n",
       "      <td>NaN</td>\n",
       "      <td>NaN</td>\n",
       "      <td>2025-02-04T17:21:56.500Z</td>\n",
       "      <td>2025-02-04T17:21:56.500Z</td>\n",
       "    </tr>\n",
       "    <tr>\n",
       "      <th>1</th>\n",
       "      <td>22211</td>\n",
       "      <td>Refcomm</td>\n",
       "      <td>840091</td>\n",
       "      <td>D13736572</td>\n",
       "      <td>DGA2270177</td>\n",
       "      <td>DGA2270177-21LNC1021SQ89</td>\n",
       "      <td>21LNC1021SQ89</td>\n",
       "      <td>NaN</td>\n",
       "      <td>NaN</td>\n",
       "      <td>2025-02-04T16:32:41.296Z</td>\n",
       "      <td>2025-02-04T16:32:41.296Z</td>\n",
       "    </tr>\n",
       "    <tr>\n",
       "      <th>2</th>\n",
       "      <td>22210</td>\n",
       "      <td>Refcomm</td>\n",
       "      <td>849766</td>\n",
       "      <td>C34035984</td>\n",
       "      <td>DGA2270073</td>\n",
       "      <td>DGA2270073-0001968392</td>\n",
       "      <td>0001968392</td>\n",
       "      <td>NaN</td>\n",
       "      <td>NaN</td>\n",
       "      <td>2025-02-04T16:18:33.136Z</td>\n",
       "      <td>2025-02-04T16:18:33.136Z</td>\n",
       "    </tr>\n",
       "    <tr>\n",
       "      <th>3</th>\n",
       "      <td>22209</td>\n",
       "      <td>Refcomm</td>\n",
       "      <td>849773</td>\n",
       "      <td>53586881</td>\n",
       "      <td>B0000191247</td>\n",
       "      <td>B0000191247-0001897027</td>\n",
       "      <td>0001897027</td>\n",
       "      <td>NaN</td>\n",
       "      <td>NaN</td>\n",
       "      <td>2025-02-04T16:18:29.796Z</td>\n",
       "      <td>2025-02-04T16:18:29.796Z</td>\n",
       "    </tr>\n",
       "    <tr>\n",
       "      <th>4</th>\n",
       "      <td>22208</td>\n",
       "      <td>Refcomm</td>\n",
       "      <td>849767</td>\n",
       "      <td>C24504104</td>\n",
       "      <td>DGA2240002</td>\n",
       "      <td>DGA2240002-DGC21N0010</td>\n",
       "      <td>DGC21N0010</td>\n",
       "      <td>NaN</td>\n",
       "      <td>NaN</td>\n",
       "      <td>2025-02-04T16:18:22.673Z</td>\n",
       "      <td>2025-02-04T16:18:22.673Z</td>\n",
       "    </tr>\n",
       "    <tr>\n",
       "      <th>...</th>\n",
       "      <td>...</td>\n",
       "      <td>...</td>\n",
       "      <td>...</td>\n",
       "      <td>...</td>\n",
       "      <td>...</td>\n",
       "      <td>...</td>\n",
       "      <td>...</td>\n",
       "      <td>...</td>\n",
       "      <td>...</td>\n",
       "      <td>...</td>\n",
       "      <td>...</td>\n",
       "    </tr>\n",
       "    <tr>\n",
       "      <th>9312</th>\n",
       "      <td>12786</td>\n",
       "      <td>Refcomm</td>\n",
       "      <td>820359</td>\n",
       "      <td>63795945</td>\n",
       "      <td>B0000186839</td>\n",
       "      <td>B0000186839-20200729-100</td>\n",
       "      <td>20200729-100</td>\n",
       "      <td>NaN</td>\n",
       "      <td>NaN</td>\n",
       "      <td>2024-05-31T10:10:05.670Z</td>\n",
       "      <td>2024-05-31T10:10:05.670Z</td>\n",
       "    </tr>\n",
       "    <tr>\n",
       "      <th>9313</th>\n",
       "      <td>12785</td>\n",
       "      <td>Refcomm</td>\n",
       "      <td>820362</td>\n",
       "      <td>436072</td>\n",
       "      <td>B0000192345</td>\n",
       "      <td>B0000192345-23A25108-00</td>\n",
       "      <td>23A25108-00</td>\n",
       "      <td>NaN</td>\n",
       "      <td>NaN</td>\n",
       "      <td>2024-05-31T10:10:02.200Z</td>\n",
       "      <td>2024-05-31T10:10:02.200Z</td>\n",
       "    </tr>\n",
       "    <tr>\n",
       "      <th>9314</th>\n",
       "      <td>12784</td>\n",
       "      <td>Refcomm</td>\n",
       "      <td>820371</td>\n",
       "      <td>C24687885</td>\n",
       "      <td>DGA23N0080</td>\n",
       "      <td>DGA23N0080-0027451126</td>\n",
       "      <td>0027451126</td>\n",
       "      <td>NaN</td>\n",
       "      <td>NaN</td>\n",
       "      <td>2024-05-31T10:09:56.790Z</td>\n",
       "      <td>2024-05-31T10:09:56.790Z</td>\n",
       "    </tr>\n",
       "    <tr>\n",
       "      <th>9315</th>\n",
       "      <td>12783</td>\n",
       "      <td>Refcomm</td>\n",
       "      <td>824712</td>\n",
       "      <td>C20042883</td>\n",
       "      <td>DGA23D0069</td>\n",
       "      <td>DGA23D0069-DGK2350178</td>\n",
       "      <td>DGK2350178</td>\n",
       "      <td>NaN</td>\n",
       "      <td>NaN</td>\n",
       "      <td>2024-05-31T10:09:53.863Z</td>\n",
       "      <td>2024-05-31T10:09:53.863Z</td>\n",
       "    </tr>\n",
       "    <tr>\n",
       "      <th>9316</th>\n",
       "      <td>12782</td>\n",
       "      <td>Refcomm</td>\n",
       "      <td>824715</td>\n",
       "      <td>B1813108</td>\n",
       "      <td>DGA18N0279</td>\n",
       "      <td>DGA18N0279-H170407X58</td>\n",
       "      <td>H170407X58</td>\n",
       "      <td>NaN</td>\n",
       "      <td>NaN</td>\n",
       "      <td>2024-05-31T10:09:50.473Z</td>\n",
       "      <td>2024-05-31T10:09:50.473Z</td>\n",
       "    </tr>\n",
       "  </tbody>\n",
       "</table>\n",
       "<p>9317 rows × 11 columns</p>\n",
       "</div>"
      ],
      "text/plain": [
       "         id sample_type  external_id sample_code fabrication_code  \\\n",
       "0     22212     Refcomm       849910    55194284      B0000192703   \n",
       "1     22211     Refcomm       840091   D13736572       DGA2270177   \n",
       "2     22210     Refcomm       849766   C34035984       DGA2270073   \n",
       "3     22209     Refcomm       849773    53586881      B0000191247   \n",
       "4     22208     Refcomm       849767   C24504104       DGA2240002   \n",
       "...     ...         ...          ...         ...              ...   \n",
       "9312  12786     Refcomm       820359    63795945      B0000186839   \n",
       "9313  12785     Refcomm       820362      436072      B0000192345   \n",
       "9314  12784     Refcomm       820371   C24687885       DGA23N0080   \n",
       "9315  12783     Refcomm       824712   C20042883       DGA23D0069   \n",
       "9316  12782     Refcomm       824715    B1813108       DGA18N0279   \n",
       "\n",
       "             batch_code_number batch_code_supplier  sample_ec_code  \\\n",
       "0      B0000192703-00001231001         00001231001             NaN   \n",
       "1     DGA2270177-21LNC1021SQ89       21LNC1021SQ89             NaN   \n",
       "2        DGA2270073-0001968392          0001968392             NaN   \n",
       "3       B0000191247-0001897027          0001897027             NaN   \n",
       "4        DGA2240002-DGC21N0010          DGC21N0010             NaN   \n",
       "...                        ...                 ...             ...   \n",
       "9312  B0000186839-20200729-100        20200729-100             NaN   \n",
       "9313   B0000192345-23A25108-00         23A25108-00             NaN   \n",
       "9314     DGA23N0080-0027451126          0027451126             NaN   \n",
       "9315     DGA23D0069-DGK2350178          DGK2350178             NaN   \n",
       "9316     DGA18N0279-H170407X58          H170407X58             NaN   \n",
       "\n",
       "      sample_smiles_code                created_at                updated_at  \n",
       "0                    NaN  2025-02-04T17:21:56.500Z  2025-02-04T17:21:56.500Z  \n",
       "1                    NaN  2025-02-04T16:32:41.296Z  2025-02-04T16:32:41.296Z  \n",
       "2                    NaN  2025-02-04T16:18:33.136Z  2025-02-04T16:18:33.136Z  \n",
       "3                    NaN  2025-02-04T16:18:29.796Z  2025-02-04T16:18:29.796Z  \n",
       "4                    NaN  2025-02-04T16:18:22.673Z  2025-02-04T16:18:22.673Z  \n",
       "...                  ...                       ...                       ...  \n",
       "9312                 NaN  2024-05-31T10:10:05.670Z  2024-05-31T10:10:05.670Z  \n",
       "9313                 NaN  2024-05-31T10:10:02.200Z  2024-05-31T10:10:02.200Z  \n",
       "9314                 NaN  2024-05-31T10:09:56.790Z  2024-05-31T10:09:56.790Z  \n",
       "9315                 NaN  2024-05-31T10:09:53.863Z  2024-05-31T10:09:53.863Z  \n",
       "9316                 NaN  2024-05-31T10:09:50.473Z  2024-05-31T10:09:50.473Z  \n",
       "\n",
       "[9317 rows x 11 columns]"
      ]
     },
     "execution_count": 49,
     "metadata": {},
     "output_type": "execute_result"
    }
   ],
   "source": [
    "lims_output_sample"
   ]
  },
  {
   "cell_type": "markdown",
   "metadata": {},
   "source": [
    "\"id\" correspond à id_msr_sample ? ak_key_msr ? sample_id ? "
   ]
  },
  {
   "cell_type": "markdown",
   "metadata": {},
   "source": [
    "Sample en doublons vs sample du lims ? Combien sont dans les 2 ? Combien sont seulement en doublons ? Seulement issu du lims ? "
   ]
  }
 ],
 "metadata": {
  "kernelspec": {
   "display_name": "Python 3",
   "language": "python",
   "name": "python3"
  },
  "language_info": {
   "codemirror_mode": {
    "name": "ipython",
    "version": 3
   },
   "file_extension": ".py",
   "mimetype": "text/x-python",
   "name": "python",
   "nbconvert_exporter": "python",
   "pygments_lexer": "ipython3",
   "version": "3.11.11"
  }
 },
 "nbformat": 4,
 "nbformat_minor": 2
}
