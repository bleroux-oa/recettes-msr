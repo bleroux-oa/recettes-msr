{
 "cells": [
  {
   "cell_type": "markdown",
   "metadata": {},
   "source": [
    "# Comparison deleted data vs duplicated data"
   ]
  },
  {
   "cell_type": "markdown",
   "metadata": {},
   "source": [
    "## 1. Data linked to a deleted sample"
   ]
  },
  {
   "cell_type": "code",
   "execution_count": 1,
   "metadata": {},
   "outputs": [],
   "source": [
    "# ! pip install requirements.txt"
   ]
  },
  {
   "cell_type": "code",
   "execution_count": 2,
   "metadata": {},
   "outputs": [
    {
     "name": "stderr",
     "output_type": "stream",
     "text": [
      "/home/user/.local/lib/python3.11/site-packages/google/auth/_default.py:76: UserWarning: Your application has authenticated using end user credentials from Google Cloud SDK without a quota project. You might receive a \"quota exceeded\" or \"API not enabled\" error. See the following page for troubleshooting: https://cloud.google.com/docs/authentication/adc-troubleshooting/user-creds. \n",
      "  warnings.warn(_CLOUD_SDK_CREDENTIALS_WARNING)\n",
      "/home/user/.local/lib/python3.11/site-packages/google/auth/_default.py:76: UserWarning: Your application has authenticated using end user credentials from Google Cloud SDK without a quota project. You might receive a \"quota exceeded\" or \"API not enabled\" error. See the following page for troubleshooting: https://cloud.google.com/docs/authentication/adc-troubleshooting/user-creds. \n",
      "  warnings.warn(_CLOUD_SDK_CREDENTIALS_WARNING)\n"
     ]
    }
   ],
   "source": [
    "import json\n",
    "from google.cloud import storage\n",
    "from google.cloud import bigquery\n",
    "client = bigquery.Client()"
   ]
  },
  {
   "cell_type": "code",
   "execution_count": 3,
   "metadata": {},
   "outputs": [
    {
     "name": "stdout",
     "output_type": "stream",
     "text": [
      "510 deletion events\n"
     ]
    },
    {
     "name": "stderr",
     "output_type": "stream",
     "text": [
      "/home/user/.local/lib/python3.11/site-packages/google/cloud/bigquery/table.py:1727: UserWarning: BigQuery Storage module not found, fetch data with the REST endpoint instead.\n",
      "  warnings.warn(\n"
     ]
    },
    {
     "data": {
      "text/html": [
       "<div>\n",
       "<style scoped>\n",
       "    .dataframe tbody tr th:only-of-type {\n",
       "        vertical-align: middle;\n",
       "    }\n",
       "\n",
       "    .dataframe tbody tr th {\n",
       "        vertical-align: top;\n",
       "    }\n",
       "\n",
       "    .dataframe thead th {\n",
       "        text-align: right;\n",
       "    }\n",
       "</style>\n",
       "<table border=\"1\" class=\"dataframe\">\n",
       "  <thead>\n",
       "    <tr style=\"text-align: right;\">\n",
       "      <th></th>\n",
       "      <th>json_blob</th>\n",
       "    </tr>\n",
       "  </thead>\n",
       "  <tbody>\n",
       "    <tr>\n",
       "      <th>0</th>\n",
       "      <td>{\"event_id\":\"a6a0d570-adf4-4668-bae9-ae3f2bc72...</td>\n",
       "    </tr>\n",
       "    <tr>\n",
       "      <th>1</th>\n",
       "      <td>{\"event_id\":\"727ee08a-dbe1-4ea8-a53f-2c2a5634d...</td>\n",
       "    </tr>\n",
       "    <tr>\n",
       "      <th>2</th>\n",
       "      <td>{\"event_id\":\"09eebb6f-9ae0-4aa4-82e0-1444adce5...</td>\n",
       "    </tr>\n",
       "    <tr>\n",
       "      <th>3</th>\n",
       "      <td>{\"event_id\":\"76667fad-08fe-4040-b97a-ab305b4bd...</td>\n",
       "    </tr>\n",
       "    <tr>\n",
       "      <th>4</th>\n",
       "      <td>{\"event_id\":\"06313a83-7865-4cef-9629-566aaeda2...</td>\n",
       "    </tr>\n",
       "  </tbody>\n",
       "</table>\n",
       "</div>"
      ],
      "text/plain": [
       "                                           json_blob\n",
       "0  {\"event_id\":\"a6a0d570-adf4-4668-bae9-ae3f2bc72...\n",
       "1  {\"event_id\":\"727ee08a-dbe1-4ea8-a53f-2c2a5634d...\n",
       "2  {\"event_id\":\"09eebb6f-9ae0-4aa4-82e0-1444adce5...\n",
       "3  {\"event_id\":\"76667fad-08fe-4040-b97a-ab305b4bd...\n",
       "4  {\"event_id\":\"06313a83-7865-4cef-9629-566aaeda2..."
      ]
     },
     "execution_count": 3,
     "metadata": {},
     "output_type": "execute_result"
    }
   ],
   "source": [
    "with open(f\"SQL/get_delete_events.sql\", \"r\") as sql_file:\n",
    "    sql = sql_file.read()\n",
    "\n",
    "query_job = client.query(sql)\n",
    "delete_events = query_job.to_dataframe().drop_duplicates()\n",
    "nb_events, _ = delete_events.shape\n",
    "print(nb_events, 'deletion events')\n",
    "delete_events.head()"
   ]
  },
  {
   "cell_type": "code",
   "execution_count": null,
   "metadata": {},
   "outputs": [
    {
     "name": "stdout",
     "output_type": "stream",
     "text": [
      "We have 510 delete events on 437 samples\n"
     ]
    }
   ],
   "source": [
    "deleted_samples = []\n",
    "dates = []\n",
    "for i in range(nb_events):\n",
    "    event = json.loads(delete_events['json_blob'][i])\n",
    "    deleted_samples.append(str(event['data_key']))\n",
    "    dates.append(event['event_date'])\n",
    "\n",
    "deleted_samples = list(set(deleted_samples))\n",
    "nb_u_samples = len(deleted_samples)\n",
    "print(f\"We have {nb_events} delete events on {nb_u_samples} samples\")"
   ]
  },
  {
   "cell_type": "code",
   "execution_count": 5,
   "metadata": {},
   "outputs": [
    {
     "name": "stdout",
     "output_type": "stream",
     "text": [
      "oldest event : 2024-11-11T07:08:54.142Z\n",
      "newest event : 2025-02-27T14:39:32.654Z\n"
     ]
    }
   ],
   "source": [
    "print(f\"oldest event : {sorted(dates)[0]}\") \n",
    "print(f\"newest event : {sorted(dates)[len(dates)-1]}\") "
   ]
  },
  {
   "cell_type": "code",
   "execution_count": 6,
   "metadata": {},
   "outputs": [
    {
     "name": "stderr",
     "output_type": "stream",
     "text": [
      "/home/user/.local/lib/python3.11/site-packages/google/cloud/bigquery/table.py:1727: UserWarning: BigQuery Storage module not found, fetch data with the REST endpoint instead.\n",
      "  warnings.warn(\n"
     ]
    },
    {
     "data": {
      "text/html": [
       "<div>\n",
       "<style scoped>\n",
       "    .dataframe tbody tr th:only-of-type {\n",
       "        vertical-align: middle;\n",
       "    }\n",
       "\n",
       "    .dataframe tbody tr th {\n",
       "        vertical-align: top;\n",
       "    }\n",
       "\n",
       "    .dataframe thead th {\n",
       "        text-align: right;\n",
       "    }\n",
       "</style>\n",
       "<table border=\"1\" class=\"dataframe\">\n",
       "  <thead>\n",
       "    <tr style=\"text-align: right;\">\n",
       "      <th></th>\n",
       "      <th>ak_key_msr_sample</th>\n",
       "      <th>lkp_key_lma_sample</th>\n",
       "      <th>id_msr_sample</th>\n",
       "      <th>ak_key_msr_test</th>\n",
       "      <th>lkp_lma_test</th>\n",
       "      <th>id_msr_test</th>\n",
       "      <th>ak_key_msr_result</th>\n",
       "      <th>lkp_lma_results</th>\n",
       "      <th>id_msr_result</th>\n",
       "    </tr>\n",
       "  </thead>\n",
       "  <tbody>\n",
       "    <tr>\n",
       "      <th>0</th>\n",
       "      <td>17278</td>\n",
       "      <td>784903</td>\n",
       "      <td>9aea81b3-684d-4d22-8196-b14665610759</td>\n",
       "      <td>34404</td>\n",
       "      <td>1542583</td>\n",
       "      <td>8e40dabc-1f76-4c55-bfd4-2f72488dd7fb</td>\n",
       "      <td>61479</td>\n",
       "      <td>52254382</td>\n",
       "      <td>f89185d8-bb79-428e-a04b-1cfcce620cee</td>\n",
       "    </tr>\n",
       "    <tr>\n",
       "      <th>1</th>\n",
       "      <td>17278</td>\n",
       "      <td>784903</td>\n",
       "      <td>9aea81b3-684d-4d22-8196-b14665610759</td>\n",
       "      <td>34404</td>\n",
       "      <td>1542583</td>\n",
       "      <td>8e40dabc-1f76-4c55-bfd4-2f72488dd7fb</td>\n",
       "      <td>61480</td>\n",
       "      <td>52254383</td>\n",
       "      <td>4e8ee194-9a9e-4729-ad3e-eaef6fd80534</td>\n",
       "    </tr>\n",
       "    <tr>\n",
       "      <th>2</th>\n",
       "      <td>17455</td>\n",
       "      <td>792632</td>\n",
       "      <td>2c60a457-cdd2-4665-840a-66fca1507fa6</td>\n",
       "      <td>34721</td>\n",
       "      <td>1536013</td>\n",
       "      <td>01d3b7cd-a20d-4a1c-9237-0bf625134bb0</td>\n",
       "      <td>62469</td>\n",
       "      <td>51940281</td>\n",
       "      <td>2708a00f-bf6c-41ec-8d55-2fb7d301cbf9</td>\n",
       "    </tr>\n",
       "    <tr>\n",
       "      <th>3</th>\n",
       "      <td>17455</td>\n",
       "      <td>792632</td>\n",
       "      <td>2c60a457-cdd2-4665-840a-66fca1507fa6</td>\n",
       "      <td>34721</td>\n",
       "      <td>1536013</td>\n",
       "      <td>01d3b7cd-a20d-4a1c-9237-0bf625134bb0</td>\n",
       "      <td>62471</td>\n",
       "      <td>51940283</td>\n",
       "      <td>24565875-fb50-45a7-ba48-b2f513b70948</td>\n",
       "    </tr>\n",
       "    <tr>\n",
       "      <th>4</th>\n",
       "      <td>17455</td>\n",
       "      <td>792632</td>\n",
       "      <td>2c60a457-cdd2-4665-840a-66fca1507fa6</td>\n",
       "      <td>34721</td>\n",
       "      <td>1536013</td>\n",
       "      <td>01d3b7cd-a20d-4a1c-9237-0bf625134bb0</td>\n",
       "      <td>62472</td>\n",
       "      <td>51940284</td>\n",
       "      <td>c3029a82-3f9a-481f-8f89-989e156a0d06</td>\n",
       "    </tr>\n",
       "  </tbody>\n",
       "</table>\n",
       "</div>"
      ],
      "text/plain": [
       "  ak_key_msr_sample lkp_key_lma_sample                         id_msr_sample  \\\n",
       "0             17278             784903  9aea81b3-684d-4d22-8196-b14665610759   \n",
       "1             17278             784903  9aea81b3-684d-4d22-8196-b14665610759   \n",
       "2             17455             792632  2c60a457-cdd2-4665-840a-66fca1507fa6   \n",
       "3             17455             792632  2c60a457-cdd2-4665-840a-66fca1507fa6   \n",
       "4             17455             792632  2c60a457-cdd2-4665-840a-66fca1507fa6   \n",
       "\n",
       "  ak_key_msr_test lkp_lma_test                           id_msr_test  \\\n",
       "0           34404      1542583  8e40dabc-1f76-4c55-bfd4-2f72488dd7fb   \n",
       "1           34404      1542583  8e40dabc-1f76-4c55-bfd4-2f72488dd7fb   \n",
       "2           34721      1536013  01d3b7cd-a20d-4a1c-9237-0bf625134bb0   \n",
       "3           34721      1536013  01d3b7cd-a20d-4a1c-9237-0bf625134bb0   \n",
       "4           34721      1536013  01d3b7cd-a20d-4a1c-9237-0bf625134bb0   \n",
       "\n",
       "  ak_key_msr_result lkp_lma_results                         id_msr_result  \n",
       "0             61479        52254382  f89185d8-bb79-428e-a04b-1cfcce620cee  \n",
       "1             61480        52254383  4e8ee194-9a9e-4729-ad3e-eaef6fd80534  \n",
       "2             62469        51940281  2708a00f-bf6c-41ec-8d55-2fb7d301cbf9  \n",
       "3             62471        51940283  24565875-fb50-45a7-ba48-b2f513b70948  \n",
       "4             62472        51940284  c3029a82-3f9a-481f-8f89-989e156a0d06  "
      ]
     },
     "execution_count": 6,
     "metadata": {},
     "output_type": "execute_result"
    }
   ],
   "source": [
    "with open(f\"SQL/dwh_msr/get_sample_test_result.sql\", \"r\") as sql_file:\n",
    "    sql_template = sql_file.read()\n",
    "\n",
    "sql = sql_template.replace(\"{samples}\", str(tuple(deleted_samples)))\n",
    "\n",
    "query_job = client.query(sql)\n",
    "all_data = query_job.to_dataframe().drop_duplicates()\n",
    "all_data.head()"
   ]
  },
  {
   "cell_type": "code",
   "execution_count": 7,
   "metadata": {},
   "outputs": [
    {
     "name": "stdout",
     "output_type": "stream",
     "text": [
      "Number of deleted lma sample : 473\n",
      "\n",
      "7858 lkp_lma_results in 462 lkp_lma_test are linked to a deleted sample\n"
     ]
    }
   ],
   "source": [
    "impacted_lma_sample = all_data['lkp_key_lma_sample'].drop_duplicates()\n",
    "print(f\"Number of deleted lma sample : {all_data['lkp_key_lma_sample'].nunique()}\\n\")\n",
    "impacted_lma_test = all_data['lkp_lma_test'].drop_duplicates()\n",
    "impacted_lma_res = all_data['lkp_lma_results'].drop_duplicates()\n",
    "print(f\"{all_data['lkp_lma_results'].nunique()} lkp_lma_results in {all_data['lkp_lma_test'].nunique()} lkp_lma_test are linked to a deleted sample\")"
   ]
  },
  {
   "cell_type": "markdown",
   "metadata": {},
   "source": [
    "## 2. Duplicated data in msr dwh"
   ]
  },
  {
   "cell_type": "markdown",
   "metadata": {},
   "source": [
    "### 2.1 Sample"
   ]
  },
  {
   "cell_type": "code",
   "execution_count": 8,
   "metadata": {},
   "outputs": [
    {
     "name": "stderr",
     "output_type": "stream",
     "text": [
      "/home/user/.local/lib/python3.11/site-packages/google/cloud/bigquery/table.py:1727: UserWarning: BigQuery Storage module not found, fetch data with the REST endpoint instead.\n",
      "  warnings.warn(\n"
     ]
    },
    {
     "name": "stdout",
     "output_type": "stream",
     "text": [
      "9759 lkp_lma_sample with several ak_key_msr_sample\n"
     ]
    }
   ],
   "source": [
    "want_to_group_also_by_version = True\n",
    "version = 's.ver_lma_sample,' if want_to_group_also_by_version else ''\n",
    "\n",
    "with open(f\"SQL/dwh_msr/get_duplicated_sample.sql\", \"r\") as sql_file:\n",
    "    sql_template = sql_file.read()\n",
    "\n",
    "sql = sql_template.replace(\"{version}\", version)\n",
    "query_job = client.query(sql)\n",
    "duplicated_samples = query_job.to_dataframe().drop_duplicates()\n",
    "nb_duplicated_sample = duplicated_samples['lkp_key_lma_sample'].nunique()\n",
    "print(nb_duplicated_sample, 'lkp_lma_sample with several ak_key_msr_sample')"
   ]
  },
  {
   "cell_type": "code",
   "execution_count": null,
   "metadata": {},
   "outputs": [
    {
     "name": "stdout",
     "output_type": "stream",
     "text": [
      "9386 lma_res with several msr_res without any deleted sample\n"
     ]
    },
    {
     "data": {
      "text/html": [
       "<div>\n",
       "<style scoped>\n",
       "    .dataframe tbody tr th:only-of-type {\n",
       "        vertical-align: middle;\n",
       "    }\n",
       "\n",
       "    .dataframe tbody tr th {\n",
       "        vertical-align: top;\n",
       "    }\n",
       "\n",
       "    .dataframe thead th {\n",
       "        text-align: right;\n",
       "    }\n",
       "</style>\n",
       "<table border=\"1\" class=\"dataframe\">\n",
       "  <thead>\n",
       "    <tr style=\"text-align: right;\">\n",
       "      <th></th>\n",
       "      <th>ver_lma_sample</th>\n",
       "      <th>lkp_key_lma_sample</th>\n",
       "      <th>nb_msr_sample</th>\n",
       "    </tr>\n",
       "  </thead>\n",
       "  <tbody>\n",
       "    <tr>\n",
       "      <th>48</th>\n",
       "      <td>4</td>\n",
       "      <td>800486</td>\n",
       "      <td>3</td>\n",
       "    </tr>\n",
       "    <tr>\n",
       "      <th>60</th>\n",
       "      <td>2</td>\n",
       "      <td>753763</td>\n",
       "      <td>3</td>\n",
       "    </tr>\n",
       "    <tr>\n",
       "      <th>61</th>\n",
       "      <td>2</td>\n",
       "      <td>716653</td>\n",
       "      <td>3</td>\n",
       "    </tr>\n",
       "    <tr>\n",
       "      <th>62</th>\n",
       "      <td>2</td>\n",
       "      <td>702445</td>\n",
       "      <td>3</td>\n",
       "    </tr>\n",
       "    <tr>\n",
       "      <th>63</th>\n",
       "      <td>2</td>\n",
       "      <td>593400</td>\n",
       "      <td>3</td>\n",
       "    </tr>\n",
       "  </tbody>\n",
       "</table>\n",
       "</div>"
      ],
      "text/plain": [
       "    ver_lma_sample lkp_key_lma_sample  nb_msr_sample\n",
       "48               4             800486              3\n",
       "60               2             753763              3\n",
       "61               2             716653              3\n",
       "62               2             702445              3\n",
       "63               2             593400              3"
      ]
     },
     "execution_count": 9,
     "metadata": {},
     "output_type": "execute_result"
    }
   ],
   "source": [
    "duplicated_sample_not_deleted = duplicated_samples[~duplicated_samples['lkp_key_lma_sample'].isin(impacted_lma_sample)]\n",
    "print(f\"{duplicated_sample_not_deleted['lkp_key_lma_sample'].nunique()} lma_res with several msr_res without any deleted sample\")\n",
    "duplicated_sample_not_deleted.head()"
   ]
  },
  {
   "cell_type": "code",
   "execution_count": 10,
   "metadata": {},
   "outputs": [
    {
     "name": "stdout",
     "output_type": "stream",
     "text": [
      "373 lma_sample with several msr_sample with a deleted sample event\n"
     ]
    },
    {
     "data": {
      "text/html": [
       "<div>\n",
       "<style scoped>\n",
       "    .dataframe tbody tr th:only-of-type {\n",
       "        vertical-align: middle;\n",
       "    }\n",
       "\n",
       "    .dataframe tbody tr th {\n",
       "        vertical-align: top;\n",
       "    }\n",
       "\n",
       "    .dataframe thead th {\n",
       "        text-align: right;\n",
       "    }\n",
       "</style>\n",
       "<table border=\"1\" class=\"dataframe\">\n",
       "  <thead>\n",
       "    <tr style=\"text-align: right;\">\n",
       "      <th></th>\n",
       "      <th>ver_lma_sample</th>\n",
       "      <th>lkp_key_lma_sample</th>\n",
       "      <th>nb_msr_sample</th>\n",
       "    </tr>\n",
       "  </thead>\n",
       "  <tbody>\n",
       "    <tr>\n",
       "      <th>0</th>\n",
       "      <td>5</td>\n",
       "      <td>788123</td>\n",
       "      <td>4</td>\n",
       "    </tr>\n",
       "    <tr>\n",
       "      <th>1</th>\n",
       "      <td>4</td>\n",
       "      <td>783740</td>\n",
       "      <td>3</td>\n",
       "    </tr>\n",
       "    <tr>\n",
       "      <th>2</th>\n",
       "      <td>4</td>\n",
       "      <td>783737</td>\n",
       "      <td>3</td>\n",
       "    </tr>\n",
       "    <tr>\n",
       "      <th>3</th>\n",
       "      <td>4</td>\n",
       "      <td>783736</td>\n",
       "      <td>3</td>\n",
       "    </tr>\n",
       "    <tr>\n",
       "      <th>4</th>\n",
       "      <td>4</td>\n",
       "      <td>783738</td>\n",
       "      <td>3</td>\n",
       "    </tr>\n",
       "  </tbody>\n",
       "</table>\n",
       "</div>"
      ],
      "text/plain": [
       "   ver_lma_sample lkp_key_lma_sample  nb_msr_sample\n",
       "0               5             788123              4\n",
       "1               4             783740              3\n",
       "2               4             783737              3\n",
       "3               4             783736              3\n",
       "4               4             783738              3"
      ]
     },
     "execution_count": 10,
     "metadata": {},
     "output_type": "execute_result"
    }
   ],
   "source": [
    "duplicated_sample_w_deleted_sample = duplicated_samples[duplicated_samples['lkp_key_lma_sample'].isin(impacted_lma_sample)]\n",
    "print(f\"{duplicated_sample_w_deleted_sample['lkp_key_lma_sample'].nunique()} lma_sample with several msr_sample with a deleted sample event\")\n",
    "duplicated_sample_w_deleted_sample.head()"
   ]
  },
  {
   "cell_type": "code",
   "execution_count": 14,
   "metadata": {},
   "outputs": [
    {
     "name": "stdout",
     "output_type": "stream",
     "text": [
      "duplicated sample are due to delete events less than 3.82 % of the time\n"
     ]
    }
   ],
   "source": [
    "pc = round(100 * len(duplicated_sample_w_deleted_sample) / nb_duplicated_sample, 2)\n",
    "print(f'duplicated sample are due to delete events less than {pc} % of the time')"
   ]
  },
  {
   "cell_type": "code",
   "execution_count": 15,
   "metadata": {},
   "outputs": [
    {
     "name": "stdout",
     "output_type": "stream",
     "text": [
      "78.86% of deleted sample are duplicated\n"
     ]
    }
   ],
   "source": [
    "pc = round(100 * len(duplicated_sample_w_deleted_sample) / len(impacted_lma_sample), 2)\n",
    "print(f'{pc}% of deleted sample are duplicated')"
   ]
  },
  {
   "cell_type": "code",
   "execution_count": 16,
   "metadata": {},
   "outputs": [
    {
     "name": "stdout",
     "output_type": "stream",
     "text": [
      "example of a lkp_key_msr_sample linked to a deleted ak_key_msr_sample without generate duplication troubles : 784903\n"
     ]
    }
   ],
   "source": [
    "for sample in impacted_lma_sample :\n",
    "    if sample not in duplicated_samples['lkp_key_lma_sample'].to_list():\n",
    "        print('example of a lkp_key_msr_sample linked to a deleted ak_key_msr_sample without generate duplication troubles :', sample  )\n",
    "        break"
   ]
  },
  {
   "cell_type": "markdown",
   "metadata": {},
   "source": [
    "### 2.2 Test"
   ]
  },
  {
   "cell_type": "code",
   "execution_count": 17,
   "metadata": {},
   "outputs": [
    {
     "name": "stderr",
     "output_type": "stream",
     "text": [
      "/home/user/.local/lib/python3.11/site-packages/google/cloud/bigquery/table.py:1727: UserWarning: BigQuery Storage module not found, fetch data with the REST endpoint instead.\n",
      "  warnings.warn(\n"
     ]
    },
    {
     "name": "stdout",
     "output_type": "stream",
     "text": [
      "10578 lkp_lma_test with several ak_key_msr_test\n"
     ]
    }
   ],
   "source": [
    "want_to_group_also_by_version = True\n",
    "version = 't.ver_lma_test,' if want_to_group_also_by_version else ''\n",
    "\n",
    "with open(f\"SQL/dwh_msr/get_duplicated_test.sql\", \"r\") as sql_file:\n",
    "    sql_template = sql_file.read()\n",
    "\n",
    "sql = sql_template.replace(\"{version}\", version)\n",
    "query_job = client.query(sql)\n",
    "duplicated_tests = query_job.to_dataframe().drop_duplicates()\n",
    "nb_duplicated_test = duplicated_tests['lkp_lma_test'].nunique()\n",
    "print(nb_duplicated_test, 'lkp_lma_test with several ak_key_msr_test')"
   ]
  },
  {
   "cell_type": "code",
   "execution_count": 18,
   "metadata": {},
   "outputs": [
    {
     "name": "stdout",
     "output_type": "stream",
     "text": [
      "10205 lma_res with several msr_res without any deleted sample\n"
     ]
    },
    {
     "data": {
      "text/html": [
       "<div>\n",
       "<style scoped>\n",
       "    .dataframe tbody tr th:only-of-type {\n",
       "        vertical-align: middle;\n",
       "    }\n",
       "\n",
       "    .dataframe tbody tr th {\n",
       "        vertical-align: top;\n",
       "    }\n",
       "\n",
       "    .dataframe thead th {\n",
       "        text-align: right;\n",
       "    }\n",
       "</style>\n",
       "<table border=\"1\" class=\"dataframe\">\n",
       "  <thead>\n",
       "    <tr style=\"text-align: right;\">\n",
       "      <th></th>\n",
       "      <th>ver_lma_test</th>\n",
       "      <th>lkp_lma_test</th>\n",
       "      <th>nb_msr_test</th>\n",
       "    </tr>\n",
       "  </thead>\n",
       "  <tbody>\n",
       "    <tr>\n",
       "      <th>98</th>\n",
       "      <td>6</td>\n",
       "      <td>540935</td>\n",
       "      <td>3</td>\n",
       "    </tr>\n",
       "    <tr>\n",
       "      <th>99</th>\n",
       "      <td>5</td>\n",
       "      <td>458341</td>\n",
       "      <td>3</td>\n",
       "    </tr>\n",
       "    <tr>\n",
       "      <th>100</th>\n",
       "      <td>6</td>\n",
       "      <td>502461</td>\n",
       "      <td>3</td>\n",
       "    </tr>\n",
       "    <tr>\n",
       "      <th>101</th>\n",
       "      <td>5</td>\n",
       "      <td>527045</td>\n",
       "      <td>3</td>\n",
       "    </tr>\n",
       "    <tr>\n",
       "      <th>102</th>\n",
       "      <td>6</td>\n",
       "      <td>536436</td>\n",
       "      <td>3</td>\n",
       "    </tr>\n",
       "  </tbody>\n",
       "</table>\n",
       "</div>"
      ],
      "text/plain": [
       "     ver_lma_test lkp_lma_test  nb_msr_test\n",
       "98              6       540935            3\n",
       "99              5       458341            3\n",
       "100             6       502461            3\n",
       "101             5       527045            3\n",
       "102             6       536436            3"
      ]
     },
     "execution_count": 18,
     "metadata": {},
     "output_type": "execute_result"
    }
   ],
   "source": [
    "duplicated_test_not_deleted = duplicated_tests[~duplicated_tests['lkp_lma_test'].isin(impacted_lma_test)]\n",
    "print(f\"{duplicated_test_not_deleted['lkp_lma_test'].nunique()} lma_res with several msr_res without any deleted sample\")\n",
    "duplicated_test_not_deleted.head()"
   ]
  },
  {
   "cell_type": "code",
   "execution_count": 19,
   "metadata": {},
   "outputs": [
    {
     "name": "stdout",
     "output_type": "stream",
     "text": [
      "373 lma_test with several msr_test with a deleted sample event\n"
     ]
    },
    {
     "data": {
      "text/html": [
       "<div>\n",
       "<style scoped>\n",
       "    .dataframe tbody tr th:only-of-type {\n",
       "        vertical-align: middle;\n",
       "    }\n",
       "\n",
       "    .dataframe tbody tr th {\n",
       "        vertical-align: top;\n",
       "    }\n",
       "\n",
       "    .dataframe thead th {\n",
       "        text-align: right;\n",
       "    }\n",
       "</style>\n",
       "<table border=\"1\" class=\"dataframe\">\n",
       "  <thead>\n",
       "    <tr style=\"text-align: right;\">\n",
       "      <th></th>\n",
       "      <th>ver_lma_test</th>\n",
       "      <th>lkp_lma_test</th>\n",
       "      <th>nb_msr_test</th>\n",
       "    </tr>\n",
       "  </thead>\n",
       "  <tbody>\n",
       "    <tr>\n",
       "      <th>0</th>\n",
       "      <td>7</td>\n",
       "      <td>1523483</td>\n",
       "      <td>4</td>\n",
       "    </tr>\n",
       "    <tr>\n",
       "      <th>1</th>\n",
       "      <td>4</td>\n",
       "      <td>1662697</td>\n",
       "      <td>4</td>\n",
       "    </tr>\n",
       "    <tr>\n",
       "      <th>2</th>\n",
       "      <td>4</td>\n",
       "      <td>1662698</td>\n",
       "      <td>4</td>\n",
       "    </tr>\n",
       "    <tr>\n",
       "      <th>3</th>\n",
       "      <td>4</td>\n",
       "      <td>1662699</td>\n",
       "      <td>4</td>\n",
       "    </tr>\n",
       "    <tr>\n",
       "      <th>4</th>\n",
       "      <td>4</td>\n",
       "      <td>1662700</td>\n",
       "      <td>4</td>\n",
       "    </tr>\n",
       "  </tbody>\n",
       "</table>\n",
       "</div>"
      ],
      "text/plain": [
       "   ver_lma_test lkp_lma_test  nb_msr_test\n",
       "0             7      1523483            4\n",
       "1             4      1662697            4\n",
       "2             4      1662698            4\n",
       "3             4      1662699            4\n",
       "4             4      1662700            4"
      ]
     },
     "execution_count": 19,
     "metadata": {},
     "output_type": "execute_result"
    }
   ],
   "source": [
    "duplicated_test_w_deleted_sample = duplicated_tests[duplicated_tests['lkp_lma_test'].isin(impacted_lma_test)]\n",
    "print(f\"{duplicated_test_w_deleted_sample['lkp_lma_test'].nunique()} lma_test with several msr_test with a deleted sample event\")\n",
    "duplicated_test_w_deleted_sample.head()"
   ]
  },
  {
   "cell_type": "code",
   "execution_count": 20,
   "metadata": {},
   "outputs": [
    {
     "name": "stdout",
     "output_type": "stream",
     "text": [
      "duplicated test are due to delete events less than 4 % of the time\n"
     ]
    }
   ],
   "source": [
    "pc = round(100 * duplicated_test_w_deleted_sample['lkp_lma_test'].nunique() / nb_duplicated_test)\n",
    "print(f'duplicated test are due to delete events less than {pc} % of the time')"
   ]
  },
  {
   "cell_type": "code",
   "execution_count": 21,
   "metadata": {},
   "outputs": [
    {
     "name": "stdout",
     "output_type": "stream",
     "text": [
      "80.56% of deleted sample are duplicated\n"
     ]
    }
   ],
   "source": [
    "pc = round(100 * duplicated_test_w_deleted_sample['lkp_lma_test'].nunique() / len(impacted_lma_test), 2)\n",
    "print(f'{pc}% of deleted sample are duplicated')"
   ]
  },
  {
   "cell_type": "markdown",
   "metadata": {},
   "source": [
    "### 2.3 Results"
   ]
  },
  {
   "cell_type": "code",
   "execution_count": 22,
   "metadata": {},
   "outputs": [
    {
     "name": "stderr",
     "output_type": "stream",
     "text": [
      "/home/user/.local/lib/python3.11/site-packages/google/cloud/bigquery/table.py:1727: UserWarning: BigQuery Storage module not found, fetch data with the REST endpoint instead.\n",
      "  warnings.warn(\n"
     ]
    },
    {
     "name": "stdout",
     "output_type": "stream",
     "text": [
      "176168 lkp_lma_results with several ak_key_msr_result\n"
     ]
    }
   ],
   "source": [
    "want_to_group_also_by_version = True\n",
    "version = 'r.ver_lma_results,' if want_to_group_also_by_version else ''\n",
    "\n",
    "with open(f\"SQL/dwh_msr/get_duplicated_results.sql\", \"r\") as sql_file:\n",
    "    sql_template = sql_file.read()\n",
    "\n",
    "sql = sql_template.replace(\"{version}\", version)\n",
    "query_job = client.query(sql)\n",
    "duplicated_resuts = query_job.to_dataframe().drop_duplicates()\n",
    "nb_duplicated_result = duplicated_resuts['lkp_lma_results'].nunique()\n",
    "print(nb_duplicated_result, 'lkp_lma_results with several ak_key_msr_result')"
   ]
  },
  {
   "cell_type": "code",
   "execution_count": 23,
   "metadata": {},
   "outputs": [
    {
     "name": "stdout",
     "output_type": "stream",
     "text": [
      "168548 lma_res with several msr_res without any deleted sample\n"
     ]
    },
    {
     "data": {
      "text/html": [
       "<div>\n",
       "<style scoped>\n",
       "    .dataframe tbody tr th:only-of-type {\n",
       "        vertical-align: middle;\n",
       "    }\n",
       "\n",
       "    .dataframe tbody tr th {\n",
       "        vertical-align: top;\n",
       "    }\n",
       "\n",
       "    .dataframe thead th {\n",
       "        text-align: right;\n",
       "    }\n",
       "</style>\n",
       "<table border=\"1\" class=\"dataframe\">\n",
       "  <thead>\n",
       "    <tr style=\"text-align: right;\">\n",
       "      <th></th>\n",
       "      <th>ver_lma_results</th>\n",
       "      <th>lkp_lma_results</th>\n",
       "      <th>nb_msr_res</th>\n",
       "    </tr>\n",
       "  </thead>\n",
       "  <tbody>\n",
       "    <tr>\n",
       "      <th>0</th>\n",
       "      <td>11</td>\n",
       "      <td>51308514</td>\n",
       "      <td>6</td>\n",
       "    </tr>\n",
       "    <tr>\n",
       "      <th>198</th>\n",
       "      <td>11</td>\n",
       "      <td>51308513</td>\n",
       "      <td>4</td>\n",
       "    </tr>\n",
       "    <tr>\n",
       "      <th>646</th>\n",
       "      <td>13</td>\n",
       "      <td>47874104</td>\n",
       "      <td>3</td>\n",
       "    </tr>\n",
       "    <tr>\n",
       "      <th>647</th>\n",
       "      <td>13</td>\n",
       "      <td>47872002</td>\n",
       "      <td>3</td>\n",
       "    </tr>\n",
       "    <tr>\n",
       "      <th>648</th>\n",
       "      <td>13</td>\n",
       "      <td>47872024</td>\n",
       "      <td>3</td>\n",
       "    </tr>\n",
       "  </tbody>\n",
       "</table>\n",
       "</div>"
      ],
      "text/plain": [
       "     ver_lma_results lkp_lma_results  nb_msr_res\n",
       "0                 11        51308514           6\n",
       "198               11        51308513           4\n",
       "646               13        47874104           3\n",
       "647               13        47872002           3\n",
       "648               13        47872024           3"
      ]
     },
     "execution_count": 23,
     "metadata": {},
     "output_type": "execute_result"
    }
   ],
   "source": [
    "duplicated_resuts_not_deleted = duplicated_resuts[~duplicated_resuts['lkp_lma_results'].isin(impacted_lma_res)]\n",
    "print(f\"{duplicated_resuts_not_deleted['lkp_lma_results'].nunique()} lma_res with several msr_res without any deleted sample\")\n",
    "duplicated_resuts_not_deleted.head()"
   ]
  },
  {
   "cell_type": "code",
   "execution_count": 24,
   "metadata": {},
   "outputs": [
    {
     "name": "stdout",
     "output_type": "stream",
     "text": [
      "7620 lma_res with several msr_res with a deleted sample event\n"
     ]
    },
    {
     "data": {
      "text/html": [
       "<div>\n",
       "<style scoped>\n",
       "    .dataframe tbody tr th:only-of-type {\n",
       "        vertical-align: middle;\n",
       "    }\n",
       "\n",
       "    .dataframe tbody tr th {\n",
       "        vertical-align: top;\n",
       "    }\n",
       "\n",
       "    .dataframe thead th {\n",
       "        text-align: right;\n",
       "    }\n",
       "</style>\n",
       "<table border=\"1\" class=\"dataframe\">\n",
       "  <thead>\n",
       "    <tr style=\"text-align: right;\">\n",
       "      <th></th>\n",
       "      <th>ver_lma_results</th>\n",
       "      <th>lkp_lma_results</th>\n",
       "      <th>nb_msr_res</th>\n",
       "    </tr>\n",
       "  </thead>\n",
       "  <tbody>\n",
       "    <tr>\n",
       "      <th>1</th>\n",
       "      <td>8</td>\n",
       "      <td>57454005</td>\n",
       "      <td>4</td>\n",
       "    </tr>\n",
       "    <tr>\n",
       "      <th>2</th>\n",
       "      <td>7</td>\n",
       "      <td>57454006</td>\n",
       "      <td>4</td>\n",
       "    </tr>\n",
       "    <tr>\n",
       "      <th>3</th>\n",
       "      <td>8</td>\n",
       "      <td>57453996</td>\n",
       "      <td>4</td>\n",
       "    </tr>\n",
       "    <tr>\n",
       "      <th>4</th>\n",
       "      <td>7</td>\n",
       "      <td>57453989</td>\n",
       "      <td>4</td>\n",
       "    </tr>\n",
       "    <tr>\n",
       "      <th>5</th>\n",
       "      <td>8</td>\n",
       "      <td>57454000</td>\n",
       "      <td>4</td>\n",
       "    </tr>\n",
       "  </tbody>\n",
       "</table>\n",
       "</div>"
      ],
      "text/plain": [
       "   ver_lma_results lkp_lma_results  nb_msr_res\n",
       "1                8        57454005           4\n",
       "2                7        57454006           4\n",
       "3                8        57453996           4\n",
       "4                7        57453989           4\n",
       "5                8        57454000           4"
      ]
     },
     "execution_count": 24,
     "metadata": {},
     "output_type": "execute_result"
    }
   ],
   "source": [
    "duplicated_resuts_w_deleted_sample = duplicated_resuts[duplicated_resuts['lkp_lma_results'].isin(impacted_lma_res)]\n",
    "print(f\"{duplicated_resuts_w_deleted_sample['lkp_lma_results'].nunique()} lma_res with several msr_res with a deleted sample event\")\n",
    "duplicated_resuts_w_deleted_sample.head()"
   ]
  },
  {
   "cell_type": "code",
   "execution_count": 25,
   "metadata": {},
   "outputs": [
    {
     "name": "stdout",
     "output_type": "stream",
     "text": [
      "duplicated results are due to delete events less than 6 % of the time\n"
     ]
    }
   ],
   "source": [
    "pc = round(100 * len(duplicated_resuts_w_deleted_sample) / nb_duplicated_result)\n",
    "print(f'duplicated results are due to delete events less than {pc} % of the time')"
   ]
  },
  {
   "cell_type": "code",
   "execution_count": 26,
   "metadata": {},
   "outputs": [
    {
     "name": "stdout",
     "output_type": "stream",
     "text": [
      "80.56% of deleted sample are duplicated\n"
     ]
    }
   ],
   "source": [
    "pc = round(100 * duplicated_test_w_deleted_sample['lkp_lma_test'].nunique() / len(impacted_lma_test), 2)\n",
    "print(f'{pc}% of deleted sample are duplicated')"
   ]
  },
  {
   "cell_type": "markdown",
   "metadata": {},
   "source": [
    "## 3. Duplicated data in SDDS"
   ]
  }
 ],
 "metadata": {
  "kernelspec": {
   "display_name": "Python 3",
   "language": "python",
   "name": "python3"
  },
  "language_info": {
   "codemirror_mode": {
    "name": "ipython",
    "version": 3
   },
   "file_extension": ".py",
   "mimetype": "text/x-python",
   "name": "python",
   "nbconvert_exporter": "python",
   "pygments_lexer": "ipython3",
   "version": "3.11.11"
  }
 },
 "nbformat": 4,
 "nbformat_minor": 2
}
