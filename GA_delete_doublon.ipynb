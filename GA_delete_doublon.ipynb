{
 "cells": [
  {
   "cell_type": "code",
   "execution_count": 1,
   "metadata": {},
   "outputs": [],
   "source": [
    "import pandas as pd\n",
    "import json\n",
    "from google.cloud import storage\n",
    "from google.cloud import bigquery\n",
    "client = bigquery.Client()"
   ]
  },
  {
   "cell_type": "markdown",
   "metadata": {},
   "source": [
    "# Comparison deleted data vs duplicated data"
   ]
  },
  {
   "cell_type": "markdown",
   "metadata": {},
   "source": [
    "## 1. Data linked to a deleted sample"
   ]
  },
  {
   "cell_type": "code",
   "execution_count": 55,
   "metadata": {},
   "outputs": [],
   "source": [
    "#! pip install -r requirements.txt"
   ]
  },
  {
   "cell_type": "code",
   "execution_count": 57,
   "metadata": {},
   "outputs": [
    {
     "name": "stdout",
     "output_type": "stream",
     "text": [
      "520 deletion events\n"
     ]
    },
    {
     "name": "stderr",
     "output_type": "stream",
     "text": [
      "/home/user/repos/Doublons_MSR/msr_venv/lib/python3.11/site-packages/google/cloud/bigquery/table.py:1900: UserWarning: BigQuery Storage module not found, fetch data with the REST endpoint instead.\n",
      "  warnings.warn(\n"
     ]
    },
    {
     "data": {
      "text/html": [
       "<div>\n",
       "<style scoped>\n",
       "    .dataframe tbody tr th:only-of-type {\n",
       "        vertical-align: middle;\n",
       "    }\n",
       "\n",
       "    .dataframe tbody tr th {\n",
       "        vertical-align: top;\n",
       "    }\n",
       "\n",
       "    .dataframe thead th {\n",
       "        text-align: right;\n",
       "    }\n",
       "</style>\n",
       "<table border=\"1\" class=\"dataframe\">\n",
       "  <thead>\n",
       "    <tr style=\"text-align: right;\">\n",
       "      <th></th>\n",
       "      <th>json_blob</th>\n",
       "    </tr>\n",
       "  </thead>\n",
       "  <tbody>\n",
       "    <tr>\n",
       "      <th>0</th>\n",
       "      <td>{\"event_id\":\"5d2de090-d3ee-4d8c-8428-7650f6ac4...</td>\n",
       "    </tr>\n",
       "    <tr>\n",
       "      <th>1</th>\n",
       "      <td>{\"event_id\":\"026eac3a-e06a-4aed-b5f0-025206596...</td>\n",
       "    </tr>\n",
       "    <tr>\n",
       "      <th>2</th>\n",
       "      <td>{\"event_id\":\"9412e6ad-def9-41fa-a570-5b3705cff...</td>\n",
       "    </tr>\n",
       "    <tr>\n",
       "      <th>3</th>\n",
       "      <td>{\"event_id\":\"14c31487-e31a-416d-b2d6-6f4e34daa...</td>\n",
       "    </tr>\n",
       "    <tr>\n",
       "      <th>4</th>\n",
       "      <td>{\"event_id\":\"71bef347-aa41-4628-8911-8ea29dc26...</td>\n",
       "    </tr>\n",
       "  </tbody>\n",
       "</table>\n",
       "</div>"
      ],
      "text/plain": [
       "                                           json_blob\n",
       "0  {\"event_id\":\"5d2de090-d3ee-4d8c-8428-7650f6ac4...\n",
       "1  {\"event_id\":\"026eac3a-e06a-4aed-b5f0-025206596...\n",
       "2  {\"event_id\":\"9412e6ad-def9-41fa-a570-5b3705cff...\n",
       "3  {\"event_id\":\"14c31487-e31a-416d-b2d6-6f4e34daa...\n",
       "4  {\"event_id\":\"71bef347-aa41-4628-8911-8ea29dc26..."
      ]
     },
     "execution_count": 57,
     "metadata": {},
     "output_type": "execute_result"
    }
   ],
   "source": [
    "with open(f\"SQL/get_delete_events.sql\", \"r\") as sql_file:\n",
    "    sql = sql_file.read()\n",
    "\n",
    "query_job = client.query(sql)\n",
    "delete_events = query_job.to_dataframe().drop_duplicates()\n",
    "nb_events, _ = delete_events.shape\n",
    "print(nb_events, 'deletion events')\n",
    "delete_events.head()"
   ]
  },
  {
   "cell_type": "code",
   "execution_count": 58,
   "metadata": {},
   "outputs": [
    {
     "name": "stdout",
     "output_type": "stream",
     "text": [
      "We have 520 delete events on 442 samples\n"
     ]
    }
   ],
   "source": [
    "deleted_samples = []\n",
    "dates = []\n",
    "for i in range(nb_events):\n",
    "    event = json.loads(delete_events['json_blob'][i])\n",
    "    deleted_samples.append(str(event['data_key']))\n",
    "    dates.append(event['event_date'])\n",
    "\n",
    "deleted_samples = list(set(deleted_samples))\n",
    "nb_u_samples = len(deleted_samples)\n",
    "print(f\"We have {nb_events} delete events on {nb_u_samples} samples\")"
   ]
  },
  {
   "cell_type": "code",
   "execution_count": 59,
   "metadata": {},
   "outputs": [
    {
     "name": "stdout",
     "output_type": "stream",
     "text": [
      "oldest event : 2024-11-11T07:08:54.142Z\n",
      "newest event : 2025-03-03T11:07:03.601Z\n"
     ]
    }
   ],
   "source": [
    "print(f\"oldest event : {sorted(dates)[0]}\") \n",
    "print(f\"newest event : {sorted(dates)[len(dates)-1]}\") "
   ]
  },
  {
   "cell_type": "code",
   "execution_count": 60,
   "metadata": {},
   "outputs": [
    {
     "name": "stderr",
     "output_type": "stream",
     "text": [
      "/home/user/repos/Doublons_MSR/msr_venv/lib/python3.11/site-packages/google/cloud/bigquery/table.py:1900: UserWarning: BigQuery Storage module not found, fetch data with the REST endpoint instead.\n",
      "  warnings.warn(\n"
     ]
    },
    {
     "data": {
      "text/html": [
       "<div>\n",
       "<style scoped>\n",
       "    .dataframe tbody tr th:only-of-type {\n",
       "        vertical-align: middle;\n",
       "    }\n",
       "\n",
       "    .dataframe tbody tr th {\n",
       "        vertical-align: top;\n",
       "    }\n",
       "\n",
       "    .dataframe thead th {\n",
       "        text-align: right;\n",
       "    }\n",
       "</style>\n",
       "<table border=\"1\" class=\"dataframe\">\n",
       "  <thead>\n",
       "    <tr style=\"text-align: right;\">\n",
       "      <th></th>\n",
       "      <th>ak_key_msr_sample</th>\n",
       "      <th>lkp_key_lma_sample</th>\n",
       "      <th>id_msr_sample</th>\n",
       "      <th>ak_key_msr_test</th>\n",
       "      <th>lkp_lma_test</th>\n",
       "      <th>id_msr_test</th>\n",
       "      <th>ak_key_msr_result</th>\n",
       "      <th>lkp_lma_results</th>\n",
       "      <th>id_msr_result</th>\n",
       "    </tr>\n",
       "  </thead>\n",
       "  <tbody>\n",
       "    <tr>\n",
       "      <th>0</th>\n",
       "      <td>19501</td>\n",
       "      <td>650720</td>\n",
       "      <td>44c9cdbd-5cbd-4ca4-9dc4-0379e3618b64</td>\n",
       "      <td>38278</td>\n",
       "      <td>1438059</td>\n",
       "      <td>9a55f99a-3730-4363-8f23-ac929e0cd3f0</td>\n",
       "      <td>72987</td>\n",
       "      <td>47874974</td>\n",
       "      <td>0f2a6273-6c7d-47c3-aebe-ac93a880f35f</td>\n",
       "    </tr>\n",
       "    <tr>\n",
       "      <th>1</th>\n",
       "      <td>19501</td>\n",
       "      <td>650720</td>\n",
       "      <td>44c9cdbd-5cbd-4ca4-9dc4-0379e3618b64</td>\n",
       "      <td>38278</td>\n",
       "      <td>1438059</td>\n",
       "      <td>9a55f99a-3730-4363-8f23-ac929e0cd3f0</td>\n",
       "      <td>72990</td>\n",
       "      <td>51310940</td>\n",
       "      <td>4f8e9486-5750-457d-aa1c-47e2a7dfbacc</td>\n",
       "    </tr>\n",
       "    <tr>\n",
       "      <th>2</th>\n",
       "      <td>19501</td>\n",
       "      <td>650720</td>\n",
       "      <td>44c9cdbd-5cbd-4ca4-9dc4-0379e3618b64</td>\n",
       "      <td>38278</td>\n",
       "      <td>1438059</td>\n",
       "      <td>9a55f99a-3730-4363-8f23-ac929e0cd3f0</td>\n",
       "      <td>72993</td>\n",
       "      <td>47874973</td>\n",
       "      <td>99a0e474-8e66-40ea-8274-b43f505a77ff</td>\n",
       "    </tr>\n",
       "    <tr>\n",
       "      <th>3</th>\n",
       "      <td>19501</td>\n",
       "      <td>650720</td>\n",
       "      <td>44c9cdbd-5cbd-4ca4-9dc4-0379e3618b64</td>\n",
       "      <td>38278</td>\n",
       "      <td>1438059</td>\n",
       "      <td>9a55f99a-3730-4363-8f23-ac929e0cd3f0</td>\n",
       "      <td>72992</td>\n",
       "      <td>47874973</td>\n",
       "      <td>e81c0a53-8860-416a-a908-a237c119fced</td>\n",
       "    </tr>\n",
       "    <tr>\n",
       "      <th>4</th>\n",
       "      <td>19501</td>\n",
       "      <td>650720</td>\n",
       "      <td>44c9cdbd-5cbd-4ca4-9dc4-0379e3618b64</td>\n",
       "      <td>38278</td>\n",
       "      <td>1438059</td>\n",
       "      <td>9a55f99a-3730-4363-8f23-ac929e0cd3f0</td>\n",
       "      <td>72991</td>\n",
       "      <td>47874973</td>\n",
       "      <td>e983e2c4-41b7-430e-937e-e16de48446d6</td>\n",
       "    </tr>\n",
       "  </tbody>\n",
       "</table>\n",
       "</div>"
      ],
      "text/plain": [
       "  ak_key_msr_sample lkp_key_lma_sample                         id_msr_sample  \\\n",
       "0             19501             650720  44c9cdbd-5cbd-4ca4-9dc4-0379e3618b64   \n",
       "1             19501             650720  44c9cdbd-5cbd-4ca4-9dc4-0379e3618b64   \n",
       "2             19501             650720  44c9cdbd-5cbd-4ca4-9dc4-0379e3618b64   \n",
       "3             19501             650720  44c9cdbd-5cbd-4ca4-9dc4-0379e3618b64   \n",
       "4             19501             650720  44c9cdbd-5cbd-4ca4-9dc4-0379e3618b64   \n",
       "\n",
       "  ak_key_msr_test lkp_lma_test                           id_msr_test  \\\n",
       "0           38278      1438059  9a55f99a-3730-4363-8f23-ac929e0cd3f0   \n",
       "1           38278      1438059  9a55f99a-3730-4363-8f23-ac929e0cd3f0   \n",
       "2           38278      1438059  9a55f99a-3730-4363-8f23-ac929e0cd3f0   \n",
       "3           38278      1438059  9a55f99a-3730-4363-8f23-ac929e0cd3f0   \n",
       "4           38278      1438059  9a55f99a-3730-4363-8f23-ac929e0cd3f0   \n",
       "\n",
       "  ak_key_msr_result lkp_lma_results                         id_msr_result  \n",
       "0             72987        47874974  0f2a6273-6c7d-47c3-aebe-ac93a880f35f  \n",
       "1             72990        51310940  4f8e9486-5750-457d-aa1c-47e2a7dfbacc  \n",
       "2             72993        47874973  99a0e474-8e66-40ea-8274-b43f505a77ff  \n",
       "3             72992        47874973  e81c0a53-8860-416a-a908-a237c119fced  \n",
       "4             72991        47874973  e983e2c4-41b7-430e-937e-e16de48446d6  "
      ]
     },
     "execution_count": 60,
     "metadata": {},
     "output_type": "execute_result"
    }
   ],
   "source": [
    "with open(f\"SQL/dwh_msr/get_sample_test_result.sql\", \"r\") as sql_file:\n",
    "    sql_template = sql_file.read()\n",
    "\n",
    "sql = sql_template.replace(\"{samples}\", str(tuple(deleted_samples)))\n",
    "\n",
    "query_job = client.query(sql)\n",
    "all_data = query_job.to_dataframe().drop_duplicates()\n",
    "all_data.head()"
   ]
  },
  {
   "cell_type": "code",
   "execution_count": 61,
   "metadata": {},
   "outputs": [
    {
     "name": "stdout",
     "output_type": "stream",
     "text": [
      "Number of deleted lma sample : 480\n",
      "\n",
      "7902 lkp_lma_results in 466 lkp_lma_test are linked to a deleted sample\n"
     ]
    }
   ],
   "source": [
    "impacted_lma_sample = all_data['lkp_key_lma_sample'].drop_duplicates()\n",
    "print(f\"Number of deleted lma sample : {all_data['lkp_key_lma_sample'].nunique()}\\n\")\n",
    "impacted_lma_test = all_data['lkp_lma_test'].drop_duplicates()\n",
    "impacted_lma_res = all_data['lkp_lma_results'].drop_duplicates()\n",
    "print(f\"{all_data['lkp_lma_results'].nunique()} lkp_lma_results in {all_data['lkp_lma_test'].nunique()} lkp_lma_test are linked to a deleted sample\")"
   ]
  },
  {
   "cell_type": "markdown",
   "metadata": {},
   "source": [
    "## 2. Duplicated data in msr dwh"
   ]
  },
  {
   "cell_type": "markdown",
   "metadata": {},
   "source": [
    "### 2.1 Sample"
   ]
  },
  {
   "cell_type": "code",
   "execution_count": 10,
   "metadata": {},
   "outputs": [
    {
     "name": "stdout",
     "output_type": "stream",
     "text": [
      "1229 results_sample_id with several ak_key_msr_sample\n"
     ]
    }
   ],
   "source": [
    "want_to_group_also_by_version = True\n",
    "version = 's.ver_lma_sample,' if want_to_group_also_by_version else ''\n",
    "\n",
    "with open(f\"SQL/dwh_msr/get_duplicated_sample.sql\", \"r\") as sql_file:\n",
    "    sql_template = sql_file.read()\n",
    "\n",
    "sql = sql_template.replace(\"{version}\", version)\n",
    "query_job = client.query(sql)\n",
    "duplicated_samples = query_job.to_dataframe().drop_duplicates()\n",
    "\n",
    "# SET TARGET ID \n",
    "target_id = \"results_sample_id\"\n",
    "nb_duplicated_sample = duplicated_samples[target_id].nunique()\n",
    "print(nb_duplicated_sample, f'{target_id} with several ak_key_msr_sample')"
   ]
  },
  {
   "cell_type": "code",
   "execution_count": 11,
   "metadata": {},
   "outputs": [
    {
     "ename": "KeyError",
     "evalue": "'lkp_key_lma_sample'",
     "output_type": "error",
     "traceback": [
      "\u001b[31m---------------------------------------------------------------------------\u001b[39m",
      "\u001b[31mKeyError\u001b[39m                                  Traceback (most recent call last)",
      "\u001b[36mFile \u001b[39m\u001b[32m~/repos/Doublons_MSR/msr_venv/lib/python3.11/site-packages/pandas/core/indexes/base.py:3805\u001b[39m, in \u001b[36mIndex.get_loc\u001b[39m\u001b[34m(self, key)\u001b[39m\n\u001b[32m   3804\u001b[39m \u001b[38;5;28;01mtry\u001b[39;00m:\n\u001b[32m-> \u001b[39m\u001b[32m3805\u001b[39m     \u001b[38;5;28;01mreturn\u001b[39;00m \u001b[38;5;28;43mself\u001b[39;49m\u001b[43m.\u001b[49m\u001b[43m_engine\u001b[49m\u001b[43m.\u001b[49m\u001b[43mget_loc\u001b[49m\u001b[43m(\u001b[49m\u001b[43mcasted_key\u001b[49m\u001b[43m)\u001b[49m\n\u001b[32m   3806\u001b[39m \u001b[38;5;28;01mexcept\u001b[39;00m \u001b[38;5;167;01mKeyError\u001b[39;00m \u001b[38;5;28;01mas\u001b[39;00m err:\n",
      "\u001b[36mFile \u001b[39m\u001b[32mindex.pyx:167\u001b[39m, in \u001b[36mpandas._libs.index.IndexEngine.get_loc\u001b[39m\u001b[34m()\u001b[39m\n",
      "\u001b[36mFile \u001b[39m\u001b[32mindex.pyx:196\u001b[39m, in \u001b[36mpandas._libs.index.IndexEngine.get_loc\u001b[39m\u001b[34m()\u001b[39m\n",
      "\u001b[36mFile \u001b[39m\u001b[32mpandas/_libs/hashtable_class_helper.pxi:7081\u001b[39m, in \u001b[36mpandas._libs.hashtable.PyObjectHashTable.get_item\u001b[39m\u001b[34m()\u001b[39m\n",
      "\u001b[36mFile \u001b[39m\u001b[32mpandas/_libs/hashtable_class_helper.pxi:7089\u001b[39m, in \u001b[36mpandas._libs.hashtable.PyObjectHashTable.get_item\u001b[39m\u001b[34m()\u001b[39m\n",
      "\u001b[31mKeyError\u001b[39m: 'lkp_key_lma_sample'",
      "\nThe above exception was the direct cause of the following exception:\n",
      "\u001b[31mKeyError\u001b[39m                                  Traceback (most recent call last)",
      "\u001b[36mCell\u001b[39m\u001b[36m \u001b[39m\u001b[32mIn[11]\u001b[39m\u001b[32m, line 1\u001b[39m\n\u001b[32m----> \u001b[39m\u001b[32m1\u001b[39m duplicated_sample_not_deleted = duplicated_samples[~\u001b[43mduplicated_samples\u001b[49m\u001b[43m[\u001b[49m\u001b[33;43m'\u001b[39;49m\u001b[33;43mlkp_key_lma_sample\u001b[39;49m\u001b[33;43m'\u001b[39;49m\u001b[43m]\u001b[49m.isin(impacted_lma_sample)]\n\u001b[32m      2\u001b[39m \u001b[38;5;28mprint\u001b[39m(\u001b[33mf\u001b[39m\u001b[33m\"\u001b[39m\u001b[38;5;132;01m{\u001b[39;00mduplicated_sample_not_deleted[\u001b[33m'\u001b[39m\u001b[33mlkp_key_lma_sample\u001b[39m\u001b[33m'\u001b[39m].nunique()\u001b[38;5;132;01m}\u001b[39;00m\u001b[33m lma_res with several msr_res without any deleted sample\u001b[39m\u001b[33m\"\u001b[39m)\n\u001b[32m      3\u001b[39m duplicated_sample_not_deleted.head()\n",
      "\u001b[36mFile \u001b[39m\u001b[32m~/repos/Doublons_MSR/msr_venv/lib/python3.11/site-packages/pandas/core/frame.py:4102\u001b[39m, in \u001b[36mDataFrame.__getitem__\u001b[39m\u001b[34m(self, key)\u001b[39m\n\u001b[32m   4100\u001b[39m \u001b[38;5;28;01mif\u001b[39;00m \u001b[38;5;28mself\u001b[39m.columns.nlevels > \u001b[32m1\u001b[39m:\n\u001b[32m   4101\u001b[39m     \u001b[38;5;28;01mreturn\u001b[39;00m \u001b[38;5;28mself\u001b[39m._getitem_multilevel(key)\n\u001b[32m-> \u001b[39m\u001b[32m4102\u001b[39m indexer = \u001b[38;5;28;43mself\u001b[39;49m\u001b[43m.\u001b[49m\u001b[43mcolumns\u001b[49m\u001b[43m.\u001b[49m\u001b[43mget_loc\u001b[49m\u001b[43m(\u001b[49m\u001b[43mkey\u001b[49m\u001b[43m)\u001b[49m\n\u001b[32m   4103\u001b[39m \u001b[38;5;28;01mif\u001b[39;00m is_integer(indexer):\n\u001b[32m   4104\u001b[39m     indexer = [indexer]\n",
      "\u001b[36mFile \u001b[39m\u001b[32m~/repos/Doublons_MSR/msr_venv/lib/python3.11/site-packages/pandas/core/indexes/base.py:3812\u001b[39m, in \u001b[36mIndex.get_loc\u001b[39m\u001b[34m(self, key)\u001b[39m\n\u001b[32m   3807\u001b[39m     \u001b[38;5;28;01mif\u001b[39;00m \u001b[38;5;28misinstance\u001b[39m(casted_key, \u001b[38;5;28mslice\u001b[39m) \u001b[38;5;129;01mor\u001b[39;00m (\n\u001b[32m   3808\u001b[39m         \u001b[38;5;28misinstance\u001b[39m(casted_key, abc.Iterable)\n\u001b[32m   3809\u001b[39m         \u001b[38;5;129;01mand\u001b[39;00m \u001b[38;5;28many\u001b[39m(\u001b[38;5;28misinstance\u001b[39m(x, \u001b[38;5;28mslice\u001b[39m) \u001b[38;5;28;01mfor\u001b[39;00m x \u001b[38;5;129;01min\u001b[39;00m casted_key)\n\u001b[32m   3810\u001b[39m     ):\n\u001b[32m   3811\u001b[39m         \u001b[38;5;28;01mraise\u001b[39;00m InvalidIndexError(key)\n\u001b[32m-> \u001b[39m\u001b[32m3812\u001b[39m     \u001b[38;5;28;01mraise\u001b[39;00m \u001b[38;5;167;01mKeyError\u001b[39;00m(key) \u001b[38;5;28;01mfrom\u001b[39;00m\u001b[38;5;250m \u001b[39m\u001b[34;01merr\u001b[39;00m\n\u001b[32m   3813\u001b[39m \u001b[38;5;28;01mexcept\u001b[39;00m \u001b[38;5;167;01mTypeError\u001b[39;00m:\n\u001b[32m   3814\u001b[39m     \u001b[38;5;66;03m# If we have a listlike key, _check_indexing_error will raise\u001b[39;00m\n\u001b[32m   3815\u001b[39m     \u001b[38;5;66;03m#  InvalidIndexError. Otherwise we fall through and re-raise\u001b[39;00m\n\u001b[32m   3816\u001b[39m     \u001b[38;5;66;03m#  the TypeError.\u001b[39;00m\n\u001b[32m   3817\u001b[39m     \u001b[38;5;28mself\u001b[39m._check_indexing_error(key)\n",
      "\u001b[31mKeyError\u001b[39m: 'lkp_key_lma_sample'"
     ]
    }
   ],
   "source": [
    "duplicated_sample_not_deleted = duplicated_samples[~duplicated_samples['lkp_key_lma_sample'].isin(impacted_lma_sample)]\n",
    "print(f\"{duplicated_sample_not_deleted['lkp_key_lma_sample'].nunique()} lma_res with several msr_res without any deleted sample\")\n",
    "duplicated_sample_not_deleted.head()"
   ]
  },
  {
   "cell_type": "code",
   "execution_count": 55,
   "metadata": {},
   "outputs": [
    {
     "name": "stdout",
     "output_type": "stream",
     "text": [
      "389 lma_sample with several msr_sample with a deleted sample event\n"
     ]
    },
    {
     "data": {
      "text/html": [
       "<div>\n",
       "<style scoped>\n",
       "    .dataframe tbody tr th:only-of-type {\n",
       "        vertical-align: middle;\n",
       "    }\n",
       "\n",
       "    .dataframe tbody tr th {\n",
       "        vertical-align: top;\n",
       "    }\n",
       "\n",
       "    .dataframe thead th {\n",
       "        text-align: right;\n",
       "    }\n",
       "</style>\n",
       "<table border=\"1\" class=\"dataframe\">\n",
       "  <thead>\n",
       "    <tr style=\"text-align: right;\">\n",
       "      <th></th>\n",
       "      <th>ver_lma_sample</th>\n",
       "      <th>lkp_key_lma_sample</th>\n",
       "      <th>nb_msr_sample</th>\n",
       "    </tr>\n",
       "  </thead>\n",
       "  <tbody>\n",
       "    <tr>\n",
       "      <th>0</th>\n",
       "      <td>5</td>\n",
       "      <td>788123</td>\n",
       "      <td>7</td>\n",
       "    </tr>\n",
       "    <tr>\n",
       "      <th>1</th>\n",
       "      <td>4</td>\n",
       "      <td>783751</td>\n",
       "      <td>6</td>\n",
       "    </tr>\n",
       "    <tr>\n",
       "      <th>2</th>\n",
       "      <td>4</td>\n",
       "      <td>804262</td>\n",
       "      <td>6</td>\n",
       "    </tr>\n",
       "    <tr>\n",
       "      <th>3</th>\n",
       "      <td>4</td>\n",
       "      <td>795842</td>\n",
       "      <td>6</td>\n",
       "    </tr>\n",
       "    <tr>\n",
       "      <th>4</th>\n",
       "      <td>4</td>\n",
       "      <td>804260</td>\n",
       "      <td>6</td>\n",
       "    </tr>\n",
       "  </tbody>\n",
       "</table>\n",
       "</div>"
      ],
      "text/plain": [
       "   ver_lma_sample lkp_key_lma_sample  nb_msr_sample\n",
       "0               5             788123              7\n",
       "1               4             783751              6\n",
       "2               4             804262              6\n",
       "3               4             795842              6\n",
       "4               4             804260              6"
      ]
     },
     "execution_count": 55,
     "metadata": {},
     "output_type": "execute_result"
    }
   ],
   "source": [
    "duplicated_sample_w_deleted_sample = duplicated_samples[duplicated_samples['lkp_key_lma_sample'].isin(impacted_lma_sample)]\n",
    "print(f\"{duplicated_sample_w_deleted_sample['lkp_key_lma_sample'].nunique()} lma_sample with several msr_sample with a deleted sample event\")\n",
    "duplicated_sample_w_deleted_sample.head()"
   ]
  },
  {
   "cell_type": "code",
   "execution_count": 34,
   "metadata": {},
   "outputs": [
    {
     "name": "stdout",
     "output_type": "stream",
     "text": [
      "duplicated sample are due to delete events less than 3.82 % of the time\n"
     ]
    }
   ],
   "source": [
    "pc = round(100 * len(duplicated_sample_w_deleted_sample) / nb_duplicated_sample, 2)\n",
    "print(f'duplicated sample are due to delete events less than {pc} % of the time')"
   ]
  },
  {
   "cell_type": "code",
   "execution_count": 35,
   "metadata": {},
   "outputs": [
    {
     "name": "stdout",
     "output_type": "stream",
     "text": [
      "78.86% of deleted sample are duplicated\n"
     ]
    }
   ],
   "source": [
    "pc = round(100 * len(duplicated_sample_w_deleted_sample) / len(impacted_lma_sample), 2)\n",
    "print(f'{pc}% of deleted sample are duplicated')"
   ]
  },
  {
   "cell_type": "code",
   "execution_count": 36,
   "metadata": {},
   "outputs": [
    {
     "name": "stdout",
     "output_type": "stream",
     "text": [
      "example of a lkp_key_msr_sample linked to a deleted ak_key_msr_sample without generate duplication troubles : 650720\n"
     ]
    }
   ],
   "source": [
    "for sample in impacted_lma_sample :\n",
    "    if sample not in duplicated_samples['lkp_key_lma_sample'].to_list():\n",
    "        print('example of a lkp_key_msr_sample linked to a deleted ak_key_msr_sample without generate duplication troubles :', sample  )\n",
    "        break"
   ]
  },
  {
   "cell_type": "markdown",
   "metadata": {},
   "source": [
    "### 2.2 Test"
   ]
  },
  {
   "cell_type": "code",
   "execution_count": 37,
   "metadata": {},
   "outputs": [
    {
     "name": "stderr",
     "output_type": "stream",
     "text": [
      "/home/user/.local/lib/python3.11/site-packages/google/cloud/bigquery/table.py:1727: UserWarning: BigQuery Storage module not found, fetch data with the REST endpoint instead.\n",
      "  warnings.warn(\n"
     ]
    },
    {
     "name": "stdout",
     "output_type": "stream",
     "text": [
      "10579 lkp_lma_test with several ak_key_msr_test\n"
     ]
    }
   ],
   "source": [
    "want_to_group_also_by_version = True\n",
    "version = 't.ver_lma_test,' if want_to_group_also_by_version else ''\n",
    "\n",
    "with open(f\"SQL/dwh_msr/get_duplicated_test.sql\", \"r\") as sql_file:\n",
    "    sql_template = sql_file.read()\n",
    "\n",
    "sql = sql_template.replace(\"{version}\", version)\n",
    "query_job = client.query(sql)\n",
    "duplicated_tests = query_job.to_dataframe().drop_duplicates()\n",
    "nb_duplicated_test = duplicated_tests['lkp_lma_test'].nunique()\n",
    "print(nb_duplicated_test, 'lkp_lma_test with several ak_key_msr_test')"
   ]
  },
  {
   "cell_type": "code",
   "execution_count": 38,
   "metadata": {},
   "outputs": [
    {
     "name": "stdout",
     "output_type": "stream",
     "text": [
      "10205 lma_res with several msr_res without any deleted sample\n"
     ]
    },
    {
     "data": {
      "text/html": [
       "<div>\n",
       "<style scoped>\n",
       "    .dataframe tbody tr th:only-of-type {\n",
       "        vertical-align: middle;\n",
       "    }\n",
       "\n",
       "    .dataframe tbody tr th {\n",
       "        vertical-align: top;\n",
       "    }\n",
       "\n",
       "    .dataframe thead th {\n",
       "        text-align: right;\n",
       "    }\n",
       "</style>\n",
       "<table border=\"1\" class=\"dataframe\">\n",
       "  <thead>\n",
       "    <tr style=\"text-align: right;\">\n",
       "      <th></th>\n",
       "      <th>ver_lma_test</th>\n",
       "      <th>lkp_lma_test</th>\n",
       "      <th>nb_msr_test</th>\n",
       "    </tr>\n",
       "  </thead>\n",
       "  <tbody>\n",
       "    <tr>\n",
       "      <th>8</th>\n",
       "      <td>6</td>\n",
       "      <td>536436</td>\n",
       "      <td>3</td>\n",
       "    </tr>\n",
       "    <tr>\n",
       "      <th>10</th>\n",
       "      <td>6</td>\n",
       "      <td>510570</td>\n",
       "      <td>3</td>\n",
       "    </tr>\n",
       "    <tr>\n",
       "      <th>14</th>\n",
       "      <td>5</td>\n",
       "      <td>458341</td>\n",
       "      <td>3</td>\n",
       "    </tr>\n",
       "    <tr>\n",
       "      <th>17</th>\n",
       "      <td>6</td>\n",
       "      <td>493532</td>\n",
       "      <td>3</td>\n",
       "    </tr>\n",
       "    <tr>\n",
       "      <th>22</th>\n",
       "      <td>5</td>\n",
       "      <td>539072</td>\n",
       "      <td>3</td>\n",
       "    </tr>\n",
       "  </tbody>\n",
       "</table>\n",
       "</div>"
      ],
      "text/plain": [
       "    ver_lma_test lkp_lma_test  nb_msr_test\n",
       "8              6       536436            3\n",
       "10             6       510570            3\n",
       "14             5       458341            3\n",
       "17             6       493532            3\n",
       "22             5       539072            3"
      ]
     },
     "execution_count": 38,
     "metadata": {},
     "output_type": "execute_result"
    }
   ],
   "source": [
    "duplicated_test_not_deleted = duplicated_tests[~duplicated_tests['lkp_lma_test'].isin(impacted_lma_test)]\n",
    "print(f\"{duplicated_test_not_deleted['lkp_lma_test'].nunique()} lma_res with several msr_res without any deleted sample\")\n",
    "duplicated_test_not_deleted.head()"
   ]
  },
  {
   "cell_type": "code",
   "execution_count": 39,
   "metadata": {},
   "outputs": [
    {
     "name": "stdout",
     "output_type": "stream",
     "text": [
      "374 lma_test with several msr_test with a deleted sample event\n"
     ]
    },
    {
     "data": {
      "text/html": [
       "<div>\n",
       "<style scoped>\n",
       "    .dataframe tbody tr th:only-of-type {\n",
       "        vertical-align: middle;\n",
       "    }\n",
       "\n",
       "    .dataframe tbody tr th {\n",
       "        vertical-align: top;\n",
       "    }\n",
       "\n",
       "    .dataframe thead th {\n",
       "        text-align: right;\n",
       "    }\n",
       "</style>\n",
       "<table border=\"1\" class=\"dataframe\">\n",
       "  <thead>\n",
       "    <tr style=\"text-align: right;\">\n",
       "      <th></th>\n",
       "      <th>ver_lma_test</th>\n",
       "      <th>lkp_lma_test</th>\n",
       "      <th>nb_msr_test</th>\n",
       "    </tr>\n",
       "  </thead>\n",
       "  <tbody>\n",
       "    <tr>\n",
       "      <th>0</th>\n",
       "      <td>7</td>\n",
       "      <td>1523483</td>\n",
       "      <td>4</td>\n",
       "    </tr>\n",
       "    <tr>\n",
       "      <th>1</th>\n",
       "      <td>4</td>\n",
       "      <td>1662699</td>\n",
       "      <td>4</td>\n",
       "    </tr>\n",
       "    <tr>\n",
       "      <th>2</th>\n",
       "      <td>4</td>\n",
       "      <td>1662698</td>\n",
       "      <td>4</td>\n",
       "    </tr>\n",
       "    <tr>\n",
       "      <th>3</th>\n",
       "      <td>4</td>\n",
       "      <td>1662697</td>\n",
       "      <td>4</td>\n",
       "    </tr>\n",
       "    <tr>\n",
       "      <th>4</th>\n",
       "      <td>4</td>\n",
       "      <td>1662700</td>\n",
       "      <td>4</td>\n",
       "    </tr>\n",
       "  </tbody>\n",
       "</table>\n",
       "</div>"
      ],
      "text/plain": [
       "   ver_lma_test lkp_lma_test  nb_msr_test\n",
       "0             7      1523483            4\n",
       "1             4      1662699            4\n",
       "2             4      1662698            4\n",
       "3             4      1662697            4\n",
       "4             4      1662700            4"
      ]
     },
     "execution_count": 39,
     "metadata": {},
     "output_type": "execute_result"
    }
   ],
   "source": [
    "duplicated_test_w_deleted_sample = duplicated_tests[duplicated_tests['lkp_lma_test'].isin(impacted_lma_test)]\n",
    "print(f\"{duplicated_test_w_deleted_sample['lkp_lma_test'].nunique()} lma_test with several msr_test with a deleted sample event\")\n",
    "duplicated_test_w_deleted_sample.head()"
   ]
  },
  {
   "cell_type": "code",
   "execution_count": 40,
   "metadata": {},
   "outputs": [
    {
     "name": "stdout",
     "output_type": "stream",
     "text": [
      "duplicated test are due to delete events less than 4 % of the time\n"
     ]
    }
   ],
   "source": [
    "pc = round(100 * duplicated_test_w_deleted_sample['lkp_lma_test'].nunique() / nb_duplicated_test)\n",
    "print(f'duplicated test are due to delete events less than {pc} % of the time')"
   ]
  },
  {
   "cell_type": "code",
   "execution_count": 41,
   "metadata": {},
   "outputs": [
    {
     "name": "stdout",
     "output_type": "stream",
     "text": [
      "80.6% of deleted sample are duplicated\n"
     ]
    }
   ],
   "source": [
    "pc = round(100 * duplicated_test_w_deleted_sample['lkp_lma_test'].nunique() / len(impacted_lma_test), 2)\n",
    "print(f'{pc}% of deleted sample are duplicated')"
   ]
  },
  {
   "cell_type": "markdown",
   "metadata": {},
   "source": [
    "### 2.3 Results"
   ]
  },
  {
   "cell_type": "code",
   "execution_count": 42,
   "metadata": {},
   "outputs": [
    {
     "name": "stderr",
     "output_type": "stream",
     "text": [
      "/home/user/.local/lib/python3.11/site-packages/google/cloud/bigquery/table.py:1727: UserWarning: BigQuery Storage module not found, fetch data with the REST endpoint instead.\n",
      "  warnings.warn(\n"
     ]
    },
    {
     "name": "stdout",
     "output_type": "stream",
     "text": [
      "176173 lkp_lma_results with several ak_key_msr_result\n"
     ]
    }
   ],
   "source": [
    "want_to_group_also_by_version = True\n",
    "version = 'r.ver_lma_results,' if want_to_group_also_by_version else ''\n",
    "\n",
    "with open(f\"SQL/dwh_msr/get_duplicated_results.sql\", \"r\") as sql_file:\n",
    "    sql_template = sql_file.read()\n",
    "\n",
    "sql = sql_template.replace(\"{version}\", version)\n",
    "query_job = client.query(sql)\n",
    "duplicated_resuts = query_job.to_dataframe().drop_duplicates()\n",
    "nb_duplicated_result = duplicated_resuts['lkp_lma_results'].nunique()\n",
    "print(nb_duplicated_result, 'lkp_lma_results with several ak_key_msr_result')"
   ]
  },
  {
   "cell_type": "code",
   "execution_count": 43,
   "metadata": {},
   "outputs": [
    {
     "name": "stdout",
     "output_type": "stream",
     "text": [
      "168548 lma_res with several msr_res without any deleted sample\n"
     ]
    },
    {
     "data": {
      "text/html": [
       "<div>\n",
       "<style scoped>\n",
       "    .dataframe tbody tr th:only-of-type {\n",
       "        vertical-align: middle;\n",
       "    }\n",
       "\n",
       "    .dataframe tbody tr th {\n",
       "        vertical-align: top;\n",
       "    }\n",
       "\n",
       "    .dataframe thead th {\n",
       "        text-align: right;\n",
       "    }\n",
       "</style>\n",
       "<table border=\"1\" class=\"dataframe\">\n",
       "  <thead>\n",
       "    <tr style=\"text-align: right;\">\n",
       "      <th></th>\n",
       "      <th>ver_lma_results</th>\n",
       "      <th>lkp_lma_results</th>\n",
       "      <th>nb_msr_res</th>\n",
       "    </tr>\n",
       "  </thead>\n",
       "  <tbody>\n",
       "    <tr>\n",
       "      <th>0</th>\n",
       "      <td>11</td>\n",
       "      <td>51308514</td>\n",
       "      <td>6</td>\n",
       "    </tr>\n",
       "    <tr>\n",
       "      <th>1</th>\n",
       "      <td>11</td>\n",
       "      <td>51308513</td>\n",
       "      <td>4</td>\n",
       "    </tr>\n",
       "    <tr>\n",
       "      <th>199</th>\n",
       "      <td>10</td>\n",
       "      <td>47875741</td>\n",
       "      <td>3</td>\n",
       "    </tr>\n",
       "    <tr>\n",
       "      <th>200</th>\n",
       "      <td>10</td>\n",
       "      <td>47875334</td>\n",
       "      <td>3</td>\n",
       "    </tr>\n",
       "    <tr>\n",
       "      <th>201</th>\n",
       "      <td>10</td>\n",
       "      <td>47874676</td>\n",
       "      <td>3</td>\n",
       "    </tr>\n",
       "  </tbody>\n",
       "</table>\n",
       "</div>"
      ],
      "text/plain": [
       "     ver_lma_results lkp_lma_results  nb_msr_res\n",
       "0                 11        51308514           6\n",
       "1                 11        51308513           4\n",
       "199               10        47875741           3\n",
       "200               10        47875334           3\n",
       "201               10        47874676           3"
      ]
     },
     "execution_count": 43,
     "metadata": {},
     "output_type": "execute_result"
    }
   ],
   "source": [
    "duplicated_resuts_not_deleted = duplicated_resuts[~duplicated_resuts['lkp_lma_results'].isin(impacted_lma_res)]\n",
    "print(f\"{duplicated_resuts_not_deleted['lkp_lma_results'].nunique()} lma_res with several msr_res without any deleted sample\")\n",
    "duplicated_resuts_not_deleted.head()"
   ]
  },
  {
   "cell_type": "code",
   "execution_count": 44,
   "metadata": {},
   "outputs": [
    {
     "name": "stdout",
     "output_type": "stream",
     "text": [
      "7625 lma_res with several msr_res with a deleted sample event\n"
     ]
    },
    {
     "data": {
      "text/html": [
       "<div>\n",
       "<style scoped>\n",
       "    .dataframe tbody tr th:only-of-type {\n",
       "        vertical-align: middle;\n",
       "    }\n",
       "\n",
       "    .dataframe tbody tr th {\n",
       "        vertical-align: top;\n",
       "    }\n",
       "\n",
       "    .dataframe thead th {\n",
       "        text-align: right;\n",
       "    }\n",
       "</style>\n",
       "<table border=\"1\" class=\"dataframe\">\n",
       "  <thead>\n",
       "    <tr style=\"text-align: right;\">\n",
       "      <th></th>\n",
       "      <th>ver_lma_results</th>\n",
       "      <th>lkp_lma_results</th>\n",
       "      <th>nb_msr_res</th>\n",
       "    </tr>\n",
       "  </thead>\n",
       "  <tbody>\n",
       "    <tr>\n",
       "      <th>2</th>\n",
       "      <td>150</td>\n",
       "      <td>55503187</td>\n",
       "      <td>4</td>\n",
       "    </tr>\n",
       "    <tr>\n",
       "      <th>3</th>\n",
       "      <td>154</td>\n",
       "      <td>55503147</td>\n",
       "      <td>4</td>\n",
       "    </tr>\n",
       "    <tr>\n",
       "      <th>4</th>\n",
       "      <td>173</td>\n",
       "      <td>55503107</td>\n",
       "      <td>4</td>\n",
       "    </tr>\n",
       "    <tr>\n",
       "      <th>5</th>\n",
       "      <td>166</td>\n",
       "      <td>55503127</td>\n",
       "      <td>4</td>\n",
       "    </tr>\n",
       "    <tr>\n",
       "      <th>6</th>\n",
       "      <td>156</td>\n",
       "      <td>55503098</td>\n",
       "      <td>4</td>\n",
       "    </tr>\n",
       "  </tbody>\n",
       "</table>\n",
       "</div>"
      ],
      "text/plain": [
       "   ver_lma_results lkp_lma_results  nb_msr_res\n",
       "2              150        55503187           4\n",
       "3              154        55503147           4\n",
       "4              173        55503107           4\n",
       "5              166        55503127           4\n",
       "6              156        55503098           4"
      ]
     },
     "execution_count": 44,
     "metadata": {},
     "output_type": "execute_result"
    }
   ],
   "source": [
    "duplicated_resuts_w_deleted_sample = duplicated_resuts[duplicated_resuts['lkp_lma_results'].isin(impacted_lma_res)]\n",
    "print(f\"{duplicated_resuts_w_deleted_sample['lkp_lma_results'].nunique()} lma_res with several msr_res with a deleted sample event\")\n",
    "duplicated_resuts_w_deleted_sample.head()"
   ]
  },
  {
   "cell_type": "code",
   "execution_count": 45,
   "metadata": {},
   "outputs": [
    {
     "name": "stdout",
     "output_type": "stream",
     "text": [
      "duplicated results are due to delete events less than 6 % of the time\n"
     ]
    }
   ],
   "source": [
    "pc = round(100 * len(duplicated_resuts_w_deleted_sample) / nb_duplicated_result)\n",
    "print(f'duplicated results are due to delete events less than {pc} % of the time')"
   ]
  },
  {
   "cell_type": "code",
   "execution_count": 46,
   "metadata": {},
   "outputs": [
    {
     "name": "stdout",
     "output_type": "stream",
     "text": [
      "80.6% of deleted sample are duplicated\n"
     ]
    }
   ],
   "source": [
    "pc = round(100 * duplicated_test_w_deleted_sample['lkp_lma_test'].nunique() / len(impacted_lma_test), 2)\n",
    "print(f'{pc}% of deleted sample are duplicated')"
   ]
  },
  {
   "cell_type": "markdown",
   "metadata": {},
   "source": [
    "## 3. Comparison with lims output"
   ]
  },
  {
   "cell_type": "code",
   "execution_count": 2,
   "metadata": {},
   "outputs": [],
   "source": [
    "lims_output_sample = pd.read_excel(\"Data/RM PCP LIMS - samples.xlsx\")"
   ]
  },
  {
   "cell_type": "code",
   "execution_count": 4,
   "metadata": {},
   "outputs": [
    {
     "data": {
      "text/html": [
       "<div>\n",
       "<style scoped>\n",
       "    .dataframe tbody tr th:only-of-type {\n",
       "        vertical-align: middle;\n",
       "    }\n",
       "\n",
       "    .dataframe tbody tr th {\n",
       "        vertical-align: top;\n",
       "    }\n",
       "\n",
       "    .dataframe thead th {\n",
       "        text-align: right;\n",
       "    }\n",
       "</style>\n",
       "<table border=\"1\" class=\"dataframe\">\n",
       "  <thead>\n",
       "    <tr style=\"text-align: right;\">\n",
       "      <th></th>\n",
       "      <th>id</th>\n",
       "      <th>sample_type</th>\n",
       "      <th>external_id</th>\n",
       "      <th>sample_code</th>\n",
       "      <th>fabrication_code</th>\n",
       "      <th>batch_code_number</th>\n",
       "      <th>batch_code_supplier</th>\n",
       "      <th>sample_ec_code</th>\n",
       "      <th>sample_smiles_code</th>\n",
       "      <th>created_at</th>\n",
       "      <th>updated_at</th>\n",
       "    </tr>\n",
       "  </thead>\n",
       "  <tbody>\n",
       "    <tr>\n",
       "      <th>0</th>\n",
       "      <td>22212</td>\n",
       "      <td>Refcomm</td>\n",
       "      <td>849910</td>\n",
       "      <td>55194284</td>\n",
       "      <td>B0000192703</td>\n",
       "      <td>B0000192703-00001231001</td>\n",
       "      <td>00001231001</td>\n",
       "      <td>NaN</td>\n",
       "      <td>NaN</td>\n",
       "      <td>2025-02-04T17:21:56.500Z</td>\n",
       "      <td>2025-02-04T17:21:56.500Z</td>\n",
       "    </tr>\n",
       "    <tr>\n",
       "      <th>1</th>\n",
       "      <td>22211</td>\n",
       "      <td>Refcomm</td>\n",
       "      <td>840091</td>\n",
       "      <td>D13736572</td>\n",
       "      <td>DGA2270177</td>\n",
       "      <td>DGA2270177-21LNC1021SQ89</td>\n",
       "      <td>21LNC1021SQ89</td>\n",
       "      <td>NaN</td>\n",
       "      <td>NaN</td>\n",
       "      <td>2025-02-04T16:32:41.296Z</td>\n",
       "      <td>2025-02-04T16:32:41.296Z</td>\n",
       "    </tr>\n",
       "    <tr>\n",
       "      <th>2</th>\n",
       "      <td>22210</td>\n",
       "      <td>Refcomm</td>\n",
       "      <td>849766</td>\n",
       "      <td>C34035984</td>\n",
       "      <td>DGA2270073</td>\n",
       "      <td>DGA2270073-0001968392</td>\n",
       "      <td>0001968392</td>\n",
       "      <td>NaN</td>\n",
       "      <td>NaN</td>\n",
       "      <td>2025-02-04T16:18:33.136Z</td>\n",
       "      <td>2025-02-04T16:18:33.136Z</td>\n",
       "    </tr>\n",
       "    <tr>\n",
       "      <th>3</th>\n",
       "      <td>22209</td>\n",
       "      <td>Refcomm</td>\n",
       "      <td>849773</td>\n",
       "      <td>53586881</td>\n",
       "      <td>B0000191247</td>\n",
       "      <td>B0000191247-0001897027</td>\n",
       "      <td>0001897027</td>\n",
       "      <td>NaN</td>\n",
       "      <td>NaN</td>\n",
       "      <td>2025-02-04T16:18:29.796Z</td>\n",
       "      <td>2025-02-04T16:18:29.796Z</td>\n",
       "    </tr>\n",
       "    <tr>\n",
       "      <th>4</th>\n",
       "      <td>22208</td>\n",
       "      <td>Refcomm</td>\n",
       "      <td>849767</td>\n",
       "      <td>C24504104</td>\n",
       "      <td>DGA2240002</td>\n",
       "      <td>DGA2240002-DGC21N0010</td>\n",
       "      <td>DGC21N0010</td>\n",
       "      <td>NaN</td>\n",
       "      <td>NaN</td>\n",
       "      <td>2025-02-04T16:18:22.673Z</td>\n",
       "      <td>2025-02-04T16:18:22.673Z</td>\n",
       "    </tr>\n",
       "    <tr>\n",
       "      <th>...</th>\n",
       "      <td>...</td>\n",
       "      <td>...</td>\n",
       "      <td>...</td>\n",
       "      <td>...</td>\n",
       "      <td>...</td>\n",
       "      <td>...</td>\n",
       "      <td>...</td>\n",
       "      <td>...</td>\n",
       "      <td>...</td>\n",
       "      <td>...</td>\n",
       "      <td>...</td>\n",
       "    </tr>\n",
       "    <tr>\n",
       "      <th>9312</th>\n",
       "      <td>12786</td>\n",
       "      <td>Refcomm</td>\n",
       "      <td>820359</td>\n",
       "      <td>63795945</td>\n",
       "      <td>B0000186839</td>\n",
       "      <td>B0000186839-20200729-100</td>\n",
       "      <td>20200729-100</td>\n",
       "      <td>NaN</td>\n",
       "      <td>NaN</td>\n",
       "      <td>2024-05-31T10:10:05.670Z</td>\n",
       "      <td>2024-05-31T10:10:05.670Z</td>\n",
       "    </tr>\n",
       "    <tr>\n",
       "      <th>9313</th>\n",
       "      <td>12785</td>\n",
       "      <td>Refcomm</td>\n",
       "      <td>820362</td>\n",
       "      <td>436072</td>\n",
       "      <td>B0000192345</td>\n",
       "      <td>B0000192345-23A25108-00</td>\n",
       "      <td>23A25108-00</td>\n",
       "      <td>NaN</td>\n",
       "      <td>NaN</td>\n",
       "      <td>2024-05-31T10:10:02.200Z</td>\n",
       "      <td>2024-05-31T10:10:02.200Z</td>\n",
       "    </tr>\n",
       "    <tr>\n",
       "      <th>9314</th>\n",
       "      <td>12784</td>\n",
       "      <td>Refcomm</td>\n",
       "      <td>820371</td>\n",
       "      <td>C24687885</td>\n",
       "      <td>DGA23N0080</td>\n",
       "      <td>DGA23N0080-0027451126</td>\n",
       "      <td>0027451126</td>\n",
       "      <td>NaN</td>\n",
       "      <td>NaN</td>\n",
       "      <td>2024-05-31T10:09:56.790Z</td>\n",
       "      <td>2024-05-31T10:09:56.790Z</td>\n",
       "    </tr>\n",
       "    <tr>\n",
       "      <th>9315</th>\n",
       "      <td>12783</td>\n",
       "      <td>Refcomm</td>\n",
       "      <td>824712</td>\n",
       "      <td>C20042883</td>\n",
       "      <td>DGA23D0069</td>\n",
       "      <td>DGA23D0069-DGK2350178</td>\n",
       "      <td>DGK2350178</td>\n",
       "      <td>NaN</td>\n",
       "      <td>NaN</td>\n",
       "      <td>2024-05-31T10:09:53.863Z</td>\n",
       "      <td>2024-05-31T10:09:53.863Z</td>\n",
       "    </tr>\n",
       "    <tr>\n",
       "      <th>9316</th>\n",
       "      <td>12782</td>\n",
       "      <td>Refcomm</td>\n",
       "      <td>824715</td>\n",
       "      <td>B1813108</td>\n",
       "      <td>DGA18N0279</td>\n",
       "      <td>DGA18N0279-H170407X58</td>\n",
       "      <td>H170407X58</td>\n",
       "      <td>NaN</td>\n",
       "      <td>NaN</td>\n",
       "      <td>2024-05-31T10:09:50.473Z</td>\n",
       "      <td>2024-05-31T10:09:50.473Z</td>\n",
       "    </tr>\n",
       "  </tbody>\n",
       "</table>\n",
       "<p>9317 rows × 11 columns</p>\n",
       "</div>"
      ],
      "text/plain": [
       "         id sample_type  external_id sample_code fabrication_code  \\\n",
       "0     22212     Refcomm       849910    55194284      B0000192703   \n",
       "1     22211     Refcomm       840091   D13736572       DGA2270177   \n",
       "2     22210     Refcomm       849766   C34035984       DGA2270073   \n",
       "3     22209     Refcomm       849773    53586881      B0000191247   \n",
       "4     22208     Refcomm       849767   C24504104       DGA2240002   \n",
       "...     ...         ...          ...         ...              ...   \n",
       "9312  12786     Refcomm       820359    63795945      B0000186839   \n",
       "9313  12785     Refcomm       820362      436072      B0000192345   \n",
       "9314  12784     Refcomm       820371   C24687885       DGA23N0080   \n",
       "9315  12783     Refcomm       824712   C20042883       DGA23D0069   \n",
       "9316  12782     Refcomm       824715    B1813108       DGA18N0279   \n",
       "\n",
       "             batch_code_number batch_code_supplier  sample_ec_code  \\\n",
       "0      B0000192703-00001231001         00001231001             NaN   \n",
       "1     DGA2270177-21LNC1021SQ89       21LNC1021SQ89             NaN   \n",
       "2        DGA2270073-0001968392          0001968392             NaN   \n",
       "3       B0000191247-0001897027          0001897027             NaN   \n",
       "4        DGA2240002-DGC21N0010          DGC21N0010             NaN   \n",
       "...                        ...                 ...             ...   \n",
       "9312  B0000186839-20200729-100        20200729-100             NaN   \n",
       "9313   B0000192345-23A25108-00         23A25108-00             NaN   \n",
       "9314     DGA23N0080-0027451126          0027451126             NaN   \n",
       "9315     DGA23D0069-DGK2350178          DGK2350178             NaN   \n",
       "9316     DGA18N0279-H170407X58          H170407X58             NaN   \n",
       "\n",
       "      sample_smiles_code                created_at                updated_at  \n",
       "0                    NaN  2025-02-04T17:21:56.500Z  2025-02-04T17:21:56.500Z  \n",
       "1                    NaN  2025-02-04T16:32:41.296Z  2025-02-04T16:32:41.296Z  \n",
       "2                    NaN  2025-02-04T16:18:33.136Z  2025-02-04T16:18:33.136Z  \n",
       "3                    NaN  2025-02-04T16:18:29.796Z  2025-02-04T16:18:29.796Z  \n",
       "4                    NaN  2025-02-04T16:18:22.673Z  2025-02-04T16:18:22.673Z  \n",
       "...                  ...                       ...                       ...  \n",
       "9312                 NaN  2024-05-31T10:10:05.670Z  2024-05-31T10:10:05.670Z  \n",
       "9313                 NaN  2024-05-31T10:10:02.200Z  2024-05-31T10:10:02.200Z  \n",
       "9314                 NaN  2024-05-31T10:09:56.790Z  2024-05-31T10:09:56.790Z  \n",
       "9315                 NaN  2024-05-31T10:09:53.863Z  2024-05-31T10:09:53.863Z  \n",
       "9316                 NaN  2024-05-31T10:09:50.473Z  2024-05-31T10:09:50.473Z  \n",
       "\n",
       "[9317 rows x 11 columns]"
      ]
     },
     "execution_count": 4,
     "metadata": {},
     "output_type": "execute_result"
    }
   ],
   "source": [
    "lims_output_sample"
   ]
  },
  {
   "cell_type": "markdown",
   "metadata": {},
   "source": [
    "### Identification de \"id\""
   ]
  },
  {
   "cell_type": "markdown",
   "metadata": {},
   "source": [
    "\"id\" correspond à id_msr_sample ? ak_key_msr ? sample_id ? => **ak_key_msr**"
   ]
  },
  {
   "cell_type": "code",
   "execution_count": 5,
   "metadata": {},
   "outputs": [],
   "source": [
    "import db_dtypes"
   ]
  },
  {
   "cell_type": "code",
   "execution_count": 6,
   "metadata": {},
   "outputs": [],
   "source": [
    "want_to_group_also_by_version = False\n",
    "version = 'ver_lma_sample,' if want_to_group_also_by_version else ''\n",
    "\n",
    "with open(f\"SQL/dwh_msr/get_all_sample_IDs.sql\", \"r\") as sql_file:\n",
    "    sql_template = sql_file.read()\n",
    "\n",
    "sql = sql_template.replace(\"{version}\", version)\n",
    "query_job = client.query(sql)\n",
    "samples_ids = query_job.to_dataframe().drop_duplicates()"
   ]
  },
  {
   "cell_type": "code",
   "execution_count": 7,
   "metadata": {},
   "outputs": [
    {
     "data": {
      "text/html": [
       "<div>\n",
       "<style scoped>\n",
       "    .dataframe tbody tr th:only-of-type {\n",
       "        vertical-align: middle;\n",
       "    }\n",
       "\n",
       "    .dataframe tbody tr th {\n",
       "        vertical-align: top;\n",
       "    }\n",
       "\n",
       "    .dataframe thead th {\n",
       "        text-align: right;\n",
       "    }\n",
       "</style>\n",
       "<table border=\"1\" class=\"dataframe\">\n",
       "  <thead>\n",
       "    <tr style=\"text-align: right;\">\n",
       "      <th></th>\n",
       "      <th>id_lma_sample</th>\n",
       "      <th>lkp_key_lma_sample</th>\n",
       "      <th>id_msr_sample</th>\n",
       "      <th>ak_key_msr_sample</th>\n",
       "    </tr>\n",
       "  </thead>\n",
       "  <tbody>\n",
       "    <tr>\n",
       "      <th>0</th>\n",
       "      <td>ffff2e09-c00c-4f1f-a43d-be8cfe3f06ea</td>\n",
       "      <td>225345</td>\n",
       "      <td>f0cc9fb4-8c4b-4373-b7dd-e75618e8b930</td>\n",
       "      <td>33705</td>\n",
       "    </tr>\n",
       "    <tr>\n",
       "      <th>1</th>\n",
       "      <td>ffff2e09-c00c-4f1f-a43d-be8cfe3f06ea</td>\n",
       "      <td>225345</td>\n",
       "      <td>b8e27c25-9596-4aa7-a36e-38a2f48173db</td>\n",
       "      <td>41412</td>\n",
       "    </tr>\n",
       "    <tr>\n",
       "      <th>2</th>\n",
       "      <td>fffe8063-469a-42ee-aafb-36142bcf0586</td>\n",
       "      <td>32945</td>\n",
       "      <td>b20c26f4-b0e8-4740-8a84-89bcd0e06f85</td>\n",
       "      <td>41198</td>\n",
       "    </tr>\n",
       "    <tr>\n",
       "      <th>3</th>\n",
       "      <td>fffe8063-469a-42ee-aafb-36142bcf0586</td>\n",
       "      <td>32945</td>\n",
       "      <td>dd6ee7d9-5cf0-4eee-a20d-fe83e56de394</td>\n",
       "      <td>35780</td>\n",
       "    </tr>\n",
       "    <tr>\n",
       "      <th>4</th>\n",
       "      <td>fffaa8fb-60e1-406f-a60e-a2605f72b623</td>\n",
       "      <td>699372</td>\n",
       "      <td>08fc7700-6df5-4ade-8aa0-5e6ce16031cb</td>\n",
       "      <td>16151</td>\n",
       "    </tr>\n",
       "  </tbody>\n",
       "</table>\n",
       "</div>"
      ],
      "text/plain": [
       "                          id_lma_sample lkp_key_lma_sample  \\\n",
       "0  ffff2e09-c00c-4f1f-a43d-be8cfe3f06ea             225345   \n",
       "1  ffff2e09-c00c-4f1f-a43d-be8cfe3f06ea             225345   \n",
       "2  fffe8063-469a-42ee-aafb-36142bcf0586              32945   \n",
       "3  fffe8063-469a-42ee-aafb-36142bcf0586              32945   \n",
       "4  fffaa8fb-60e1-406f-a60e-a2605f72b623             699372   \n",
       "\n",
       "                          id_msr_sample ak_key_msr_sample  \n",
       "0  f0cc9fb4-8c4b-4373-b7dd-e75618e8b930             33705  \n",
       "1  b8e27c25-9596-4aa7-a36e-38a2f48173db             41412  \n",
       "2  b20c26f4-b0e8-4740-8a84-89bcd0e06f85             41198  \n",
       "3  dd6ee7d9-5cf0-4eee-a20d-fe83e56de394             35780  \n",
       "4  08fc7700-6df5-4ade-8aa0-5e6ce16031cb             16151  "
      ]
     },
     "execution_count": 7,
     "metadata": {},
     "output_type": "execute_result"
    }
   ],
   "source": [
    "samples_ids.head()"
   ]
  },
  {
   "cell_type": "code",
   "execution_count": 8,
   "metadata": {},
   "outputs": [],
   "source": [
    "unique_excel_ids = list(lims_output_sample[\"id\"].unique())\n",
    "unique_lkp_lma = list(samples_ids[\"lkp_key_lma_sample\"].unique())\n",
    "unique_ak_key_msr = list(samples_ids[\"ak_key_msr_sample\"].unique())"
   ]
  },
  {
   "cell_type": "code",
   "execution_count": 9,
   "metadata": {},
   "outputs": [
    {
     "name": "stdout",
     "output_type": "stream",
     "text": [
      "MIN\n",
      "12782\n",
      "12782\n",
      "MAX\n",
      "50359\n",
      "22212\n"
     ]
    }
   ],
   "source": [
    "candidate = unique_ak_key_msr\n",
    "\n",
    "print(\"MIN\")\n",
    "print(min(candidate))\n",
    "print(min(unique_excel_ids))\n",
    "print(\"MAX\")\n",
    "print(max(candidate))\n",
    "print(max(unique_excel_ids))"
   ]
  },
  {
   "cell_type": "code",
   "execution_count": 10,
   "metadata": {},
   "outputs": [],
   "source": [
    "unique_ak_key_msr = [int(elt) for elt in unique_ak_key_msr]\n",
    "unique_excel_ids = [int(elt) for elt in unique_excel_ids]\n",
    "unique_lkp_lma = [int(elt) for elt in unique_lkp_lma]"
   ]
  },
  {
   "cell_type": "code",
   "execution_count": 11,
   "metadata": {},
   "outputs": [
    {
     "name": "stdout",
     "output_type": "stream",
     "text": [
      "Taux de présence de 'id' dans le candidat 9306/9317\n"
     ]
    }
   ],
   "source": [
    "ak_key = True\n",
    "candidate = unique_ak_key_msr if ak_key else unique_lkp_lma\n",
    "c= 0 \n",
    "for elt in unique_excel_ids:\n",
    "    if elt in candidate:\n",
    "        c+= 1\n",
    "print(f\"Taux de présence de 'id' dans le candidat {c}/{len(unique_excel_ids)}\")"
   ]
  },
  {
   "cell_type": "markdown",
   "metadata": {},
   "source": [
    "### Doublons samples lkmp_key_lma liés à ak_key présentes dans XL ( Jointure propre Results x Test x Sample)"
   ]
  },
  {
   "cell_type": "markdown",
   "metadata": {},
   "source": [
    "Sample en doublons vs sample du lims ? Combien sont dans les 2 ? Combien sont seulement en doublons ? Seulement issu du lims ? "
   ]
  },
  {
   "cell_type": "code",
   "execution_count": 12,
   "metadata": {},
   "outputs": [],
   "source": [
    "# GROUP BY VERSION ? \n",
    "want_to_group_also_by_version = True"
   ]
  },
  {
   "cell_type": "code",
   "execution_count": 13,
   "metadata": {},
   "outputs": [
    {
     "name": "stdout",
     "output_type": "stream",
     "text": [
      "10 lkp key lma sample with several id msr sample\n"
     ]
    }
   ],
   "source": [
    "version = 's.ver_lma_sample,' if want_to_group_also_by_version else ''\n",
    "with open(f\"SQL/dwh_msr/get_duplicated_sample.sql\", \"r\") as sql_file:\n",
    "    sql_template = sql_file.read()\n",
    "\n",
    "# Replace placeholders with actual values\n",
    "sql = sql_template.format(version= version)\n",
    "query_job = client.query(sql)\n",
    "duplicated_samples = query_job.to_dataframe().drop_duplicates()\n",
    "\n",
    "if len(duplicated_samples)>0:\n",
    "    nb_duplicated_sample = duplicated_samples[\"lkp_key_lma_sample\"].nunique()\n",
    "    print(nb_duplicated_sample, f'lkp key lma sample with several id msr sample')\n",
    "else:\n",
    "    print(0, f'lkp with several id msr')"
   ]
  },
  {
   "cell_type": "code",
   "execution_count": 14,
   "metadata": {},
   "outputs": [
    {
     "data": {
      "text/html": [
       "<div>\n",
       "<style scoped>\n",
       "    .dataframe tbody tr th:only-of-type {\n",
       "        vertical-align: middle;\n",
       "    }\n",
       "\n",
       "    .dataframe tbody tr th {\n",
       "        vertical-align: top;\n",
       "    }\n",
       "\n",
       "    .dataframe thead th {\n",
       "        text-align: right;\n",
       "    }\n",
       "</style>\n",
       "<table border=\"1\" class=\"dataframe\">\n",
       "  <thead>\n",
       "    <tr style=\"text-align: right;\">\n",
       "      <th></th>\n",
       "      <th>ver_lma_sample</th>\n",
       "      <th>lkp_key_lma_sample</th>\n",
       "      <th>nb_msr_sample</th>\n",
       "    </tr>\n",
       "  </thead>\n",
       "  <tbody>\n",
       "    <tr>\n",
       "      <th>0</th>\n",
       "      <td>4</td>\n",
       "      <td>862598</td>\n",
       "      <td>3</td>\n",
       "    </tr>\n",
       "    <tr>\n",
       "      <th>1</th>\n",
       "      <td>1</td>\n",
       "      <td>783977</td>\n",
       "      <td>2</td>\n",
       "    </tr>\n",
       "    <tr>\n",
       "      <th>2</th>\n",
       "      <td>2</td>\n",
       "      <td>783976</td>\n",
       "      <td>2</td>\n",
       "    </tr>\n",
       "    <tr>\n",
       "      <th>3</th>\n",
       "      <td>6</td>\n",
       "      <td>824788</td>\n",
       "      <td>2</td>\n",
       "    </tr>\n",
       "    <tr>\n",
       "      <th>4</th>\n",
       "      <td>6</td>\n",
       "      <td>824787</td>\n",
       "      <td>2</td>\n",
       "    </tr>\n",
       "  </tbody>\n",
       "</table>\n",
       "</div>"
      ],
      "text/plain": [
       "   ver_lma_sample lkp_key_lma_sample  nb_msr_sample\n",
       "0               4             862598              3\n",
       "1               1             783977              2\n",
       "2               2             783976              2\n",
       "3               6             824788              2\n",
       "4               6             824787              2"
      ]
     },
     "execution_count": 14,
     "metadata": {},
     "output_type": "execute_result"
    }
   ],
   "source": [
    "duplicated_samples.head()"
   ]
  },
  {
   "cell_type": "markdown",
   "metadata": {},
   "source": [
    "Now select ak_keys corresponding to the listed lkp keys "
   ]
  },
  {
   "cell_type": "code",
   "execution_count": 15,
   "metadata": {},
   "outputs": [],
   "source": [
    "version = 's.ver_lma_sample,' if want_to_group_also_by_version else ''\n",
    "with open(f\"SQL/dwh_msr/get_target_ak_keys.sql\", \"r\") as sql_file:\n",
    "    sql_template = sql_file.read()\n",
    "\n",
    "# Replace placeholders with actual values\n",
    "sql = sql_template.format(version= version)\n",
    "query_job = client.query(sql)\n",
    "duplicated_ak_keys_df = query_job.to_dataframe().drop_duplicates()"
   ]
  },
  {
   "cell_type": "code",
   "execution_count": 16,
   "metadata": {},
   "outputs": [
    {
     "data": {
      "text/html": [
       "<div>\n",
       "<style scoped>\n",
       "    .dataframe tbody tr th:only-of-type {\n",
       "        vertical-align: middle;\n",
       "    }\n",
       "\n",
       "    .dataframe tbody tr th {\n",
       "        vertical-align: top;\n",
       "    }\n",
       "\n",
       "    .dataframe thead th {\n",
       "        text-align: right;\n",
       "    }\n",
       "</style>\n",
       "<table border=\"1\" class=\"dataframe\">\n",
       "  <thead>\n",
       "    <tr style=\"text-align: right;\">\n",
       "      <th></th>\n",
       "      <th>ver_lma_sample</th>\n",
       "      <th>lkp_key_lma_sample</th>\n",
       "      <th>ak_key_msr_sample</th>\n",
       "      <th>updated_at</th>\n",
       "    </tr>\n",
       "  </thead>\n",
       "  <tbody>\n",
       "    <tr>\n",
       "      <th>0</th>\n",
       "      <td>1</td>\n",
       "      <td>783977</td>\n",
       "      <td>17357</td>\n",
       "      <td>2024-07-31 09:07:03.476000+00:00</td>\n",
       "    </tr>\n",
       "    <tr>\n",
       "      <th>1</th>\n",
       "      <td>2</td>\n",
       "      <td>783976</td>\n",
       "      <td>17358</td>\n",
       "      <td>2024-07-31 09:07:08.456000+00:00</td>\n",
       "    </tr>\n",
       "    <tr>\n",
       "      <th>2</th>\n",
       "      <td>6</td>\n",
       "      <td>824788</td>\n",
       "      <td>17120</td>\n",
       "      <td>2024-06-24 23:03:56.676000+00:00</td>\n",
       "    </tr>\n",
       "    <tr>\n",
       "      <th>3</th>\n",
       "      <td>6</td>\n",
       "      <td>824787</td>\n",
       "      <td>17121</td>\n",
       "      <td>2024-06-24 23:03:58.560000+00:00</td>\n",
       "    </tr>\n",
       "    <tr>\n",
       "      <th>4</th>\n",
       "      <td>6</td>\n",
       "      <td>824787</td>\n",
       "      <td>19903</td>\n",
       "      <td>2024-08-27 09:17:57.156000+00:00</td>\n",
       "    </tr>\n",
       "  </tbody>\n",
       "</table>\n",
       "</div>"
      ],
      "text/plain": [
       "   ver_lma_sample lkp_key_lma_sample ak_key_msr_sample  \\\n",
       "0               1             783977             17357   \n",
       "1               2             783976             17358   \n",
       "2               6             824788             17120   \n",
       "3               6             824787             17121   \n",
       "4               6             824787             19903   \n",
       "\n",
       "                        updated_at  \n",
       "0 2024-07-31 09:07:03.476000+00:00  \n",
       "1 2024-07-31 09:07:08.456000+00:00  \n",
       "2 2024-06-24 23:03:56.676000+00:00  \n",
       "3 2024-06-24 23:03:58.560000+00:00  \n",
       "4 2024-08-27 09:17:57.156000+00:00  "
      ]
     },
     "execution_count": 16,
     "metadata": {},
     "output_type": "execute_result"
    }
   ],
   "source": [
    "duplicated_ak_keys_df.head()"
   ]
  },
  {
   "cell_type": "markdown",
   "metadata": {},
   "source": [
    "Update this part after "
   ]
  },
  {
   "cell_type": "code",
   "execution_count": 17,
   "metadata": {},
   "outputs": [],
   "source": [
    "duplicated_ak_keys = [ int(elt) for elt in duplicated_ak_keys_df[\"ak_key_msr_sample\"].unique()]\n",
    "unique_excel_ids = list(lims_output_sample[\"id\"].unique())"
   ]
  },
  {
   "cell_type": "code",
   "execution_count": 18,
   "metadata": {},
   "outputs": [
    {
     "name": "stdout",
     "output_type": "stream",
     "text": [
      "21 ak_key_msr_sample in DWH MSR matching lkp_key_lma_sample with several id msr\n",
      "9317 IDs (corresponding to msr_ak_key) in Excel extract\n"
     ]
    }
   ],
   "source": [
    "print(f\"{len(duplicated_ak_keys)} ak_key_msr_sample in DWH MSR matching lkp_key_lma_sample with several id msr\")\n",
    "print(f\"{len(unique_excel_ids)} IDs (corresponding to msr_ak_key) in Excel extract\")"
   ]
  },
  {
   "cell_type": "code",
   "execution_count": 19,
   "metadata": {},
   "outputs": [
    {
     "name": "stdout",
     "output_type": "stream",
     "text": [
      "17357 est une ak_key_msr_sample pas dans le Excel alors que son lkp_key_lma_sample associé a plusieurs id_msr_sample \n",
      "\n",
      "EXTRAITS EXCEL SAMPLE LIMS vs DOUBLONS SAMPLE DWH MSR\n",
      "La colonne 'id' de l'extrait Excel correspond à 'ak_key_msr_sample'\n",
      "9 communs entre les 'id' Excel sample LIMS et les ak_key_msr_sample associées aux lkp_key_lma_sample avec plusieurs id_msr_sample DWH MSR ('doublons')\n",
      "9308 'id' uniquement dans l'Excel sample LIMS\n",
      "12 'ak_key_msr_sample' uniquement dans les doublons sample DWH MSR\n"
     ]
    }
   ],
   "source": [
    "# Elements communs \n",
    "elements_communs = 0 \n",
    "c = 0\n",
    "\n",
    "for elt in duplicated_ak_keys:\n",
    "    if elt in unique_excel_ids:\n",
    "        elements_communs +=1 \n",
    "    else:\n",
    "        if c==0:\n",
    "            print(f\"{elt} est une ak_key_msr_sample pas dans le Excel alors que son lkp_key_lma_sample associé a plusieurs id_msr_sample \\n\")\n",
    "            c+=1\n",
    "\n",
    "\n",
    "print(\"EXTRAITS EXCEL SAMPLE LIMS vs DOUBLONS SAMPLE DWH MSR\")\n",
    "print(\"La colonne 'id' de l'extrait Excel correspond à 'ak_key_msr_sample'\")\n",
    "print(f\"{elements_communs} communs entre les 'id' Excel sample LIMS et les ak_key_msr_sample associées aux lkp_key_lma_sample avec plusieurs id_msr_sample DWH MSR ('doublons')\")\n",
    "print(f\"{len(unique_excel_ids)-elements_communs} 'id' uniquement dans l'Excel sample LIMS\")\n",
    "print(f\"{len(duplicated_ak_keys)-elements_communs} 'ak_key_msr_sample' uniquement dans les doublons sample DWH MSR\")\n"
   ]
  },
  {
   "cell_type": "markdown",
   "metadata": {},
   "source": [
    "### Doublons samples lkmp_key_lma liés à ak_key présentes dans XL ( Jointure directe Results x Sample via r.sample_id)"
   ]
  },
  {
   "cell_type": "code",
   "execution_count": 20,
   "metadata": {},
   "outputs": [],
   "source": [
    "want_to_group_also_by_version = True"
   ]
  },
  {
   "cell_type": "code",
   "execution_count": 21,
   "metadata": {},
   "outputs": [],
   "source": [
    "version = 's.ver_lma_sample,' if want_to_group_also_by_version else ''\n",
    "with open(f\"SQL/dwh_msr/get_duplicated_samples_direct_join.sql\", \"r\") as sql_file:\n",
    "    sql_template = sql_file.read()\n",
    "\n",
    "# Replace placeholders with actual values\n",
    "sql = sql_template.format(version= version)\n",
    "query_job = client.query(sql)\n",
    "samples_duplicated_via_sample_id = query_job.to_dataframe().drop_duplicates()"
   ]
  },
  {
   "cell_type": "code",
   "execution_count": 22,
   "metadata": {},
   "outputs": [
    {
     "name": "stdout",
     "output_type": "stream",
     "text": [
      "10 lkp key lma sample with several id msr sample when direct join via r.sample_id\n"
     ]
    }
   ],
   "source": [
    "if len(samples_duplicated_via_sample_id)>0:\n",
    "    nb_duplicated_sample = samples_duplicated_via_sample_id[\"lkp_key_lma_sample\"].nunique()\n",
    "    print(nb_duplicated_sample, f'lkp key lma sample with several id msr sample when direct join via r.sample_id')\n",
    "else:\n",
    "    print(0, f'lkp with several id msr')"
   ]
  },
  {
   "cell_type": "code",
   "execution_count": 23,
   "metadata": {},
   "outputs": [],
   "source": [
    "version = 's.ver_lma_sample,' if want_to_group_also_by_version else ''\n",
    "with open(f\"SQL/dwh_msr/get_target_ak_keys_direct_join.sql\", \"r\") as sql_file:\n",
    "    sql_template = sql_file.read()\n",
    "\n",
    "# Replace placeholders with actual values\n",
    "sql = sql_template.format(version= version)\n",
    "query_job = client.query(sql)\n",
    "target_ak_keys_direct_join = query_job.to_dataframe().drop_duplicates()"
   ]
  },
  {
   "cell_type": "code",
   "execution_count": 24,
   "metadata": {},
   "outputs": [],
   "source": [
    "duplicated_ak_keys_direct_join = [ int(elt) for elt in target_ak_keys_direct_join[\"ak_key_msr_sample\"].unique()]\n",
    "unique_excel_ids = list(lims_output_sample[\"id\"].unique())"
   ]
  },
  {
   "cell_type": "code",
   "execution_count": 28,
   "metadata": {},
   "outputs": [
    {
     "name": "stdout",
     "output_type": "stream",
     "text": [
      "21 ak_key_msr_sample in DWH MSR (direct join results-sample) matching lkp_key_lma_sample with several id msr\n",
      "9317 IDs (corresponding to msr_ak_key) in Excel extract\n"
     ]
    }
   ],
   "source": [
    "print(f\"{len(duplicated_ak_keys_direct_join)} ak_key_msr_sample in DWH MSR (direct join results-sample) matching lkp_key_lma_sample with several id msr\")\n",
    "print(f\"{len(unique_excel_ids)} IDs (corresponding to msr_ak_key) in Excel extract\")"
   ]
  },
  {
   "cell_type": "code",
   "execution_count": 29,
   "metadata": {},
   "outputs": [
    {
     "name": "stdout",
     "output_type": "stream",
     "text": [
      "17357 est une ak_key_msr_sample pas dans le Excel alors que son lkp_key_lma_sample est associé a plusieurs id_msr_sample \n",
      "\n",
      "EXTRAITS EXCEL SAMPLE LIMS vs DOUBLONS SAMPLE DWH MSR (DIRECT JOIN results-sample)\n",
      "La colonne 'id' de l'extrait Excel correspond à 'ak_key_msr_sample'\n",
      "9 communs entre les 'id' Excel sample LIMS et les ak_key_msr_sample associées aux lkp_key_lma_sample avec plusieurs id_msr_sample DWH MSR ('doublons')\n",
      "9308 'id' uniquement dans l'Excel sample LIMS\n",
      "12 'ak_key_msr_sample' uniquement dans les doublons sample DWH MSR\n"
     ]
    }
   ],
   "source": [
    "# Elements communs \n",
    "elements_communs = 0 \n",
    "c = 0\n",
    "\n",
    "for elt in duplicated_ak_keys_direct_join:\n",
    "    if elt in unique_excel_ids:\n",
    "        elements_communs +=1 \n",
    "    else:\n",
    "        if c==0:\n",
    "            print(f\"{elt} est une ak_key_msr_sample pas dans le Excel alors que son lkp_key_lma_sample est associé a plusieurs id_msr_sample \\n\")\n",
    "            c+=1\n",
    "\n",
    "\n",
    "print(\"EXTRAITS EXCEL SAMPLE LIMS vs DOUBLONS SAMPLE DWH MSR (DIRECT JOIN results-sample)\")\n",
    "print(\"La colonne 'id' de l'extrait Excel correspond à 'ak_key_msr_sample'\")\n",
    "print(f\"{elements_communs} communs entre les 'id' Excel sample LIMS et les ak_key_msr_sample associées aux lkp_key_lma_sample avec plusieurs id_msr_sample DWH MSR ('doublons')\")\n",
    "print(f\"{len(unique_excel_ids)-elements_communs} 'id' uniquement dans l'Excel sample LIMS\")\n",
    "print(f\"{len(duplicated_ak_keys)-elements_communs} 'ak_key_msr_sample' uniquement dans les doublons sample DWH MSR\")"
   ]
  },
  {
   "cell_type": "markdown",
   "metadata": {},
   "source": [
    "Statuer sur la différence de résultats observés entre la jointure propre et le direct join"
   ]
  },
  {
   "cell_type": "markdown",
   "metadata": {},
   "source": [
    "### Logs inspection"
   ]
  },
  {
   "cell_type": "code",
   "execution_count": 26,
   "metadata": {},
   "outputs": [
    {
     "ename": "FileNotFoundError",
     "evalue": "[Errno 2] No such file or directory: 'Data/logs.log'",
     "output_type": "error",
     "traceback": [
      "\u001b[31m---------------------------------------------------------------------------\u001b[39m",
      "\u001b[31mFileNotFoundError\u001b[39m                         Traceback (most recent call last)",
      "\u001b[36mCell\u001b[39m\u001b[36m \u001b[39m\u001b[32mIn[26]\u001b[39m\u001b[32m, line 5\u001b[39m\n\u001b[32m      2\u001b[39m numbers_after_update = []\n\u001b[32m      4\u001b[39m \u001b[38;5;66;03m# Open and read the file\u001b[39;00m\n\u001b[32m----> \u001b[39m\u001b[32m5\u001b[39m \u001b[38;5;28;01mwith\u001b[39;00m \u001b[38;5;28;43mopen\u001b[39;49m\u001b[43m(\u001b[49m\u001b[33;43m'\u001b[39;49m\u001b[33;43mData/logs.log\u001b[39;49m\u001b[33;43m'\u001b[39;49m\u001b[43m,\u001b[49m\u001b[43m \u001b[49m\u001b[33;43m'\u001b[39;49m\u001b[33;43mr\u001b[39;49m\u001b[33;43m'\u001b[39;49m\u001b[43m)\u001b[49m \u001b[38;5;28;01mas\u001b[39;00m file:\n\u001b[32m      6\u001b[39m     \u001b[38;5;28;01mfor\u001b[39;00m line \u001b[38;5;129;01min\u001b[39;00m file:\n\u001b[32m      7\u001b[39m         \u001b[38;5;66;03m# Split the line into words\u001b[39;00m\n\u001b[32m      8\u001b[39m         words = line.split()\n",
      "\u001b[36mFile \u001b[39m\u001b[32m~/repos/Doublons_MSR/msr_venv2/lib/python3.11/site-packages/IPython/core/interactiveshell.py:325\u001b[39m, in \u001b[36m_modified_open\u001b[39m\u001b[34m(file, *args, **kwargs)\u001b[39m\n\u001b[32m    318\u001b[39m \u001b[38;5;28;01mif\u001b[39;00m file \u001b[38;5;129;01min\u001b[39;00m {\u001b[32m0\u001b[39m, \u001b[32m1\u001b[39m, \u001b[32m2\u001b[39m}:\n\u001b[32m    319\u001b[39m     \u001b[38;5;28;01mraise\u001b[39;00m \u001b[38;5;167;01mValueError\u001b[39;00m(\n\u001b[32m    320\u001b[39m         \u001b[33mf\u001b[39m\u001b[33m\"\u001b[39m\u001b[33mIPython won\u001b[39m\u001b[33m'\u001b[39m\u001b[33mt let you open fd=\u001b[39m\u001b[38;5;132;01m{\u001b[39;00mfile\u001b[38;5;132;01m}\u001b[39;00m\u001b[33m by default \u001b[39m\u001b[33m\"\u001b[39m\n\u001b[32m    321\u001b[39m         \u001b[33m\"\u001b[39m\u001b[33mas it is likely to crash IPython. If you know what you are doing, \u001b[39m\u001b[33m\"\u001b[39m\n\u001b[32m    322\u001b[39m         \u001b[33m\"\u001b[39m\u001b[33myou can use builtins\u001b[39m\u001b[33m'\u001b[39m\u001b[33m open.\u001b[39m\u001b[33m\"\u001b[39m\n\u001b[32m    323\u001b[39m     )\n\u001b[32m--> \u001b[39m\u001b[32m325\u001b[39m \u001b[38;5;28;01mreturn\u001b[39;00m \u001b[43mio_open\u001b[49m\u001b[43m(\u001b[49m\u001b[43mfile\u001b[49m\u001b[43m,\u001b[49m\u001b[43m \u001b[49m\u001b[43m*\u001b[49m\u001b[43margs\u001b[49m\u001b[43m,\u001b[49m\u001b[43m \u001b[49m\u001b[43m*\u001b[49m\u001b[43m*\u001b[49m\u001b[43mkwargs\u001b[49m\u001b[43m)\u001b[49m\n",
      "\u001b[31mFileNotFoundError\u001b[39m: [Errno 2] No such file or directory: 'Data/logs.log'"
     ]
    }
   ],
   "source": [
    "# Initialize an empty list to store the numbers\n",
    "numbers_after_update = []\n",
    "\n",
    "# Open and read the file\n",
    "with open('Data/logs.log', 'r') as file:\n",
    "    for line in file:\n",
    "        # Split the line into words\n",
    "        words = line.split()\n",
    "        \"\"\"\n",
    "        # Check if 'UPDATE' is in the line and followed by a number\n",
    "        if 'UPDATE' in words:\n",
    "            index = words.index('UPDATE')\n",
    "            if index + 1 < len(words) and words[index + 1].isdigit():\n",
    "                # Append the number to the list\n",
    "                numbers_after_update.append(int(words[index + 1]))\n",
    "        \"\"\"\n",
    "        # Check if 'publish' is in the line and followed by a number\n",
    "        if 'publish' in words:\n",
    "            index = words.index('publish')\n",
    "            if index + 1 < len(words) and words[index + 1].isdigit():\n",
    "                # Append the number to the list\n",
    "                numbers_after_update.append(int(words[index + 1]))\n",
    "\n",
    "# Drop duplicates in list with set conversion \n",
    "numbers_after_update = list(set(numbers_after_update))"
   ]
  },
  {
   "cell_type": "code",
   "execution_count": 42,
   "metadata": {},
   "outputs": [
    {
     "name": "stderr",
     "output_type": "stream",
     "text": [
      "/home/user/repos/Doublons_MSR/msr_venv/lib/python3.11/site-packages/google/cloud/bigquery/table.py:1900: UserWarning: BigQuery Storage module not found, fetch data with the REST endpoint instead.\n",
      "  warnings.warn(\n"
     ]
    }
   ],
   "source": [
    "with open(f\"SQL/dwh_msr/get_recent_msr_events.sql\", \"r\") as sql_file:\n",
    "    sql_template = sql_file.read()\n",
    "\n",
    "# Replace placeholders with actual values\n",
    "query_job = client.query(sql_template)\n",
    "recent_msr_inputs = query_job.to_dataframe().drop_duplicates()"
   ]
  },
  {
   "cell_type": "code",
   "execution_count": 43,
   "metadata": {},
   "outputs": [
    {
     "data": {
      "text/plain": [
       "'1513061'"
      ]
     },
     "execution_count": 43,
     "metadata": {},
     "output_type": "execute_result"
    }
   ],
   "source": [
    "recent_msr_inputs[\"lkp_lma_test\"].iloc[0]"
   ]
  },
  {
   "cell_type": "code",
   "execution_count": 44,
   "metadata": {},
   "outputs": [],
   "source": [
    "inputs = [int(elt) for elt in recent_msr_inputs[\"lkp_lma_test\"]]"
   ]
  },
  {
   "cell_type": "code",
   "execution_count": 47,
   "metadata": {},
   "outputs": [
    {
     "name": "stdout",
     "output_type": "stream",
     "text": [
      "372/1664 lkp_lma_test from logs['publish'] present in MSR DWH\n"
     ]
    }
   ],
   "source": [
    "c=0\n",
    "lkp_lma_errors = []\n",
    "\n",
    "for elt in numbers_after_update:\n",
    "    if elt in inputs:\n",
    "        c+=1\n",
    "    else:\n",
    "        lkp_lma_errors.append(elt)\n",
    "\n",
    "print(f\"{c}/{len(numbers_after_update)} lkp_lma_test from logs['publish'] present in MSR DWH\")"
   ]
  },
  {
   "cell_type": "code",
   "execution_count": 52,
   "metadata": {},
   "outputs": [
    {
     "data": {
      "text/plain": [
       "1292"
      ]
     },
     "execution_count": 52,
     "metadata": {},
     "output_type": "execute_result"
    }
   ],
   "source": [
    "len(lkp_lma_errors)"
   ]
  },
  {
   "cell_type": "code",
   "execution_count": 50,
   "metadata": {},
   "outputs": [],
   "source": [
    "# Open the file in write mode\n",
    "with open('Data/publish_errors.txt', 'w') as file:\n",
    "    # Write each error on a new line\n",
    "    for error in lkp_lma_errors:\n",
    "        file.write(str(error) + '\\n')"
   ]
  },
  {
   "cell_type": "code",
   "execution_count": 53,
   "metadata": {},
   "outputs": [],
   "source": [
    "# Open the file in write mode\n",
    "with open('Data/published_lkp_lma_key.txt', 'w') as file:\n",
    "    # Write each elt on a new line\n",
    "    for elt in numbers_after_update:\n",
    "        file.write(str(elt) + '\\n')"
   ]
  }
 ],
 "metadata": {
  "kernelspec": {
   "display_name": "msr_venv2",
   "language": "python",
   "name": "python3"
  },
  "language_info": {
   "codemirror_mode": {
    "name": "ipython",
    "version": 3
   },
   "file_extension": ".py",
   "mimetype": "text/x-python",
   "name": "python",
   "nbconvert_exporter": "python",
   "pygments_lexer": "ipython3",
   "version": "3.11.12"
  }
 },
 "nbformat": 4,
 "nbformat_minor": 2
}
